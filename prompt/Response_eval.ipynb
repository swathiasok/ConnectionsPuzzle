{
 "cells": [
  {
   "cell_type": "code",
   "execution_count": 1,
   "id": "5426e798-a8e2-4143-8214-2b7ad1ceb76c",
   "metadata": {},
   "outputs": [],
   "source": [
    "import pandas as pd\n",
    "import requests\n",
    "import random\n",
    "from tqdm import tqdm\n",
    "from sklearn.model_selection import train_test_split\n",
    "from collections import Counter\n",
    "import numpy as np\n",
    "import os\n",
    "import ast"
   ]
  },
  {
   "cell_type": "code",
   "execution_count": 2,
   "id": "b72bfa11-5589-47f1-81b1-03aa19ddc1fa",
   "metadata": {},
   "outputs": [
    {
     "name": "stdout",
     "output_type": "stream",
     "text": [
      "🦥 Unsloth: Will patch your computer to enable 2x faster free finetuning.\n",
      "Unsloth: Failed to patch Gemma3ForConditionalGeneration.\n",
      "🦥 Unsloth Zoo will now patch everything to make training faster!\n",
      "INFO 04-22 00:50:10 __init__.py:190] Automatically detected platform cuda.\n",
      "==((====))==  Unsloth 2025.3.19: Fast Llama patching. Transformers: 4.51.3. vLLM: 0.7.2.\n",
      "   \\\\   /|    Tesla V100-PCIE-32GB. Num GPUs = 1. Max memory: 31.733 GB. Platform: Linux.\n",
      "O^O/ \\_/ \\    Torch: 2.5.1+cu124. CUDA: 7.0. CUDA Toolkit: 12.4. Triton: 3.1.0\n",
      "\\        /    Bfloat16 = FALSE. FA [Xformers = 0.0.28.post3. FA2 = False]\n",
      " \"-____-\"     Free license: http://github.com/unslothai/unsloth\n",
      "Unsloth: Fast downloading is enabled - ignore downloading bars which are red colored!\n",
      "Unsloth: Your GPU does not support prefix caching - will disable!\n",
      "Unsloth: vLLM loading unsloth/llama-3.2-3b-instruct-unsloth-bnb-4bit with actual GPU utilization = 89.03%\n",
      "Unsloth: Your GPU has CUDA compute capability 7.0 with VRAM = 31.73 GB.\n",
      "Unsloth: Using conservativeness = 1.0. Chunked prefill tokens = 2048. Num Sequences = 320.\n",
      "Unsloth: vLLM's KV Cache can use up to 25.85 GB. Also swap space = 6 GB.\n",
      "WARNING 04-22 00:50:17 config.py:2386] Casting torch.bfloat16 to torch.float16.\n",
      "INFO 04-22 00:50:25 config.py:542] This model supports multiple tasks: {'classify', 'reward', 'score', 'generate', 'embed'}. Defaulting to 'generate'.\n",
      "Unsloth: vLLM Bitsandbytes config using kwargs = {'load_in_8bit': False, 'load_in_4bit': True, 'bnb_4bit_compute_dtype': 'float16', 'bnb_4bit_quant_storage': 'uint8', 'bnb_4bit_quant_type': 'nf4', 'bnb_4bit_use_double_quant': True, 'llm_int8_enable_fp32_cpu_offload': False, 'llm_int8_has_fp16_weight': False, 'llm_int8_skip_modules': ['lm_head', 'multi_modal_projector', 'merger', 'modality_projection', 'model.layers.1.mlp'], 'llm_int8_threshold': 6.0}\n",
      "INFO 04-22 00:50:25 llm_engine.py:234] Initializing a V0 LLM engine (v0.7.2) with config: model='unsloth/llama-3.2-3b-instruct-unsloth-bnb-4bit', speculative_config=None, tokenizer='unsloth/llama-3.2-3b-instruct-unsloth-bnb-4bit', skip_tokenizer_init=False, tokenizer_mode=auto, revision=None, override_neuron_config=None, tokenizer_revision=None, trust_remote_code=False, dtype=torch.float16, max_seq_len=2048, download_dir=None, load_format=LoadFormat.BITSANDBYTES, tensor_parallel_size=1, pipeline_parallel_size=1, disable_custom_all_reduce=False, quantization=bitsandbytes, enforce_eager=False, kv_cache_dtype=auto,  device_config=cuda:0, decoding_config=DecodingConfig(guided_decoding_backend='xgrammar'), observability_config=ObservabilityConfig(otlp_traces_endpoint=None, collect_model_forward_time=False, collect_model_execute_time=False), seed=0, served_model_name=unsloth/llama-3.2-3b-instruct-unsloth-bnb-4bit, num_scheduler_steps=1, multi_step_stream_outputs=True, enable_prefix_caching=False, chunked_prefill_enabled=False, use_async_output_proc=True, disable_mm_preprocessor_cache=False, mm_processor_kwargs=None, pooler_config=None, compilation_config={\"level\":0,\"splitting_ops\":[],\"compile_sizes\":[],\"cudagraph_capture_sizes\":[320,312,304,296,288,280,272,264,256,248,240,232,224,216,208,200,192,184,176,168,160,152,144,136,128,120,112,104,96,88,80,72,64,56,48,40,32,24,16,8,4,2,1],\"max_capture_size\":320}, use_cached_outputs=False, \n",
      "INFO 04-22 00:50:26 cuda.py:179] Cannot use FlashAttention-2 backend for Volta and Turing GPUs.\n",
      "INFO 04-22 00:50:26 cuda.py:227] Using XFormers backend.\n",
      "INFO 04-22 00:50:26 model_runner.py:1110] Starting to load model unsloth/llama-3.2-3b-instruct-unsloth-bnb-4bit...\n",
      "INFO 04-22 00:50:27 loader.py:1102] Loading weights with BitsAndBytes quantization.  May take a while ...\n"
     ]
    },
    {
     "name": "stderr",
     "output_type": "stream",
     "text": [
      "[W422 00:50:26.610938099 CUDAAllocatorConfig.h:28] Warning: expandable_segments not supported on this platform (function operator())\n"
     ]
    },
    {
     "name": "stdout",
     "output_type": "stream",
     "text": [
      "INFO 04-22 00:50:27 weight_utils.py:252] Using model weights format ['*.safetensors']\n"
     ]
    },
    {
     "data": {
      "application/vnd.jupyter.widget-view+json": {
       "model_id": "c71adfd1c81c4c14a87af26ead08b3f3",
       "version_major": 2,
       "version_minor": 0
      },
      "text/plain": [
       "Loading safetensors checkpoint shards:   0% Completed | 0/1 [00:00<?, ?it/s]\n"
      ]
     },
     "metadata": {},
     "output_type": "display_data"
    },
    {
     "data": {
      "application/vnd.jupyter.widget-view+json": {
       "model_id": "e84d0a8e3345413cbe2efda12bcfb0db",
       "version_major": 2,
       "version_minor": 0
      },
      "text/plain": [
       "Loading safetensors checkpoint shards:   0% Completed | 0/1 [00:00<?, ?it/s]\n"
      ]
     },
     "metadata": {},
     "output_type": "display_data"
    },
    {
     "name": "stdout",
     "output_type": "stream",
     "text": [
      "INFO 04-22 00:50:29 model_runner.py:1115] Loading model weights took 2.2405 GB\n",
      "INFO 04-22 00:50:29 punica_selector.py:18] Using PunicaWrapperGPU.\n",
      "INFO 04-22 00:50:31 worker.py:267] Memory profiling takes 2.05 seconds\n",
      "INFO 04-22 00:50:31 worker.py:267] the current vLLM instance can use total_gpu_memory (31.73GiB) x gpu_memory_utilization (0.89) = 28.25GiB\n",
      "INFO 04-22 00:50:31 worker.py:267] model weights take 2.24GiB; non_torch_memory takes 0.07GiB; PyTorch activation peak memory takes 1.49GiB; the rest of the memory reserved for KV Cache is 24.45GiB.\n",
      "INFO 04-22 00:50:32 executor_base.py:110] # CUDA blocks: 14309, # CPU blocks: 3510\n",
      "INFO 04-22 00:50:32 executor_base.py:115] Maximum concurrency for 2048 tokens per request: 111.79x\n",
      "INFO 04-22 00:50:35 model_runner.py:1434] Capturing cudagraphs for decoding. This may lead to unexpected consequences if the model is not static. To run the model in eager mode, set 'enforce_eager=True' or use '--enforce-eager' in the CLI. If out-of-memory error occurs during cudagraph capture, consider decreasing `gpu_memory_utilization` or switching to eager mode. You can also reduce the `max_num_seqs` as needed to decrease memory usage.\n"
     ]
    },
    {
     "name": "stderr",
     "output_type": "stream",
     "text": [
      "Capturing CUDA graph shapes: 100%|██████████| 43/43 [00:31<00:00,  1.37it/s]"
     ]
    },
    {
     "name": "stdout",
     "output_type": "stream",
     "text": [
      "INFO 04-22 00:51:07 model_runner.py:1562] Graph capturing finished in 31 secs, took 0.76 GiB\n",
      "INFO 04-22 00:51:07 llm_engine.py:431] init engine (profile, create kv cache, warmup model) took 37.67 seconds\n"
     ]
    },
    {
     "name": "stderr",
     "output_type": "stream",
     "text": [
      "\n",
      "Unsloth 2025.3.19 patched 28 layers with 28 QKV layers, 28 O layers and 28 MLP layers.\n"
     ]
    }
   ],
   "source": [
    "from unsloth import FastLanguageModel, is_bfloat16_supported\n",
    "from transformers import AutoModelForCausalLM, AutoTokenizer\n",
    "import torch\n",
    "\n",
    "max_seq_length = 2048\n",
    "lora_rank       = 8\n",
    "\n",
    "model, tokenizer = FastLanguageModel.from_pretrained(\n",
    "    model_name            = 'sft_saved_lora_3B_sft',\n",
    "    max_seq_length        = max_seq_length,\n",
    "    load_in_4bit          = True,    # 4‑bit base + LoRA\n",
    "    fast_inference        = True,\n",
    "    max_lora_rank         = lora_rank,\n",
    "    gpu_memory_utilization= 0.9,\n",
    ")"
   ]
  },
  {
   "cell_type": "code",
   "execution_count": 3,
   "id": "b6ff5cef-ba6d-490e-85e1-9ec61bb5a5d0",
   "metadata": {},
   "outputs": [],
   "source": [
    "# PROMPTING FUNCTION\n",
    "def llm_output(words):\n",
    "  prompt = '''You are playing the NY Times Connections game. Your task is to categorize 16 given words into exactly 4 groups of 4 words each, based on shared common themes.\n",
    "\n",
    "Solve the puzzle using these clear steps:\n",
    "\n",
    "1. THINK STEP-BY-STEP: Begin by carefully analyzing the words within <thinking> tags. Identify their meanings, relationships, and possible groupings logically.\n",
    "Example:\n",
    "<thinking>To solve this, I will first look for obvious groupings like NBA teams, palindrome words, weather-related words, or computer keys. Then, I'll group these words accordingly and ensure each word belongs to exactly one group.</thinking>\n",
    "\n",
    "2. PROVIDE FINAL ANSWER: After clearly grouping and justifying all four sets, provide ONLY your final solution within <answer> tags. Format your solution exactly as shown below.\n",
    "\n",
    "Example:\n",
    "<answer>\n",
    "[['HAIL', 'RAIN', 'SLEET', 'SNOW'],\n",
    " ['BUCKS', 'HEAT', 'JAZZ', 'NETS'],\n",
    " ['OPTION', 'RETURN', 'SHIFT', 'TAB'],\n",
    " ['KAYAK', 'LEVEL', 'MOM', 'RACECAR']]\n",
    "</answer>\n",
    "\n",
    "Important Notes:\n",
    "- Categories should be specific\n",
    "- Words cannot appear in more than one group.\n",
    "- Categories can include compound words, shared prefixes/suffixes, pop culture references, or common phrases.\n",
    "- DO NOT ADD NEW WORDS THAT ARE NOT MENTIONED IN THE QUESTION. USE ONLY WORDS MENTIONED AND GROUP THEM\n",
    "\n",
    "Here is an example:\n",
    "\n",
    "USER: [BUCKS, HAIL, JAZZ, SHIFT, LEVEL, MOM, SNOW, RACECAR, SLEET, TAB, KAYAK, RETURN, OPTION, NETS, RAIN, HEAT]\n",
    "\n",
    "<answer>\n",
    "[['HAIL', 'RAIN', 'SLEET', 'SNOW'],\n",
    " ['BUCKS', 'HEAT', 'JAZZ', 'NETS'],\n",
    " ['OPTION', 'RETURN', 'SHIFT', 'TAB'],\n",
    " ['KAYAK', 'LEVEL', 'MOM', 'RACECAR']]\n",
    "</answer>\n",
    "\n",
    "Explanation:\n",
    "- WEATHER TERMS: 'HAIL', 'RAIN', 'SLEET', 'SNOW'\n",
    "- NBA TEAMS: 'BUCKS', 'HEAT', 'JAZZ', 'NETS'\n",
    "- KEYBOARD KEYS: 'OPTION', 'RETURN', 'SHIFT', 'TAB'\n",
    "- PALINDROMES: 'KAYAK', 'LEVEL', 'MOM', 'RACECAR'\n",
    "Give the answer for the following set of words -''' + str(words)\n",
    "\n",
    "  inputs = tokenizer(prompt, return_tensors=\"pt\").to(model.device)\n",
    "\n",
    "  output_ids = model.generate(**inputs, max_length=1024, temperature=0.7, do_sample=True)\n",
    "\n",
    "  response = tokenizer.decode(output_ids[0], skip_special_tokens=True)\n",
    "\n",
    "  # print(\"\\nResponse:\", response)\n",
    "  return response"
   ]
  },
  {
   "cell_type": "code",
   "execution_count": 5,
   "id": "cb260286-9033-4100-b022-e9cd14fb3853",
   "metadata": {},
   "outputs": [],
   "source": [
    "# EVALUATION FUNCTION\n",
    "def evaluation_scores(actual_clusters, predicted_clusters):\n",
    "  if len(actual_clusters) == 0 or len(predicted_clusters) == 0:\n",
    "    return 0\n",
    "  score_matrix = np.zeros((len(actual_clusters), len(predicted_clusters)))\n",
    "  jacc_similarity_score = 0\n",
    "\n",
    "  # Evauating jaccard matching between each pair of sets\n",
    "  for actual_idx in range(4):\n",
    "    for predicted_idx in range(4):\n",
    "      actual_group = actual_clusters[actual_idx]\n",
    "      predicted_group = predicted_clusters[predicted_idx]\n",
    "      score_matrix[actual_idx, predicted_idx] = len(set(actual_group) & set(predicted_group)) / len(set(actual_group) | set(predicted_group))\n",
    "\n",
    "  # Success Rate\n",
    "  succ_rate = np.sum(np.array(score_matrix) == 1.0)\n",
    "\n",
    "  total_words = sum(len(cluster) for cluster in predicted_clusters)  # Should be 16 in this case\n",
    "  max_overlaps = 0\n",
    "  for pred_cluster in predicted_clusters:\n",
    "      overlap_counts = Counter()\n",
    "      for true_cluster in actual_clusters:\n",
    "          overlap_counts[tuple(true_cluster)] = len(set(pred_cluster) & set(true_cluster))\n",
    "\n",
    "      max_overlaps += max(overlap_counts.values())  # Take the largest overlap for each predicted cluster\n",
    "  # print(\"SUCCESS RATE: \", succ_rate)\n",
    "  return succ_rate , max_overlaps / total_words\n",
    "\n",
    "def evaluation(actual_clusters_set, predicted_clusters_set):\n",
    "  succ_rate = 0\n",
    "  purity = 0\n",
    "  num_samples = 0\n",
    "  for actual_clusters, predicted_clusters in zip(actual_clusters_set, predicted_clusters_set):\n",
    "    num_samples += 1\n",
    "    if len(predicted_clusters) >0:\n",
    "    # print(\"ACTUAL CLUSTER:\",actual_clusters, \" \\nPREDICTED CLUSTER: \", predicted_clusters, \"\\n\")\n",
    "        val1, val2 = evaluation_scores(actual_clusters, predicted_clusters)\n",
    "        succ_rate += val1\n",
    "        purity += val2\n",
    "  return succ_rate/num_samples, purity/num_samples"
   ]
  },
  {
   "cell_type": "code",
   "execution_count": 9,
   "id": "691c7be3-515a-4637-8fd4-1df0ce5bb349",
   "metadata": {},
   "outputs": [
    {
     "data": {
      "text/html": [
       "<div>\n",
       "<style scoped>\n",
       "    .dataframe tbody tr th:only-of-type {\n",
       "        vertical-align: middle;\n",
       "    }\n",
       "\n",
       "    .dataframe tbody tr th {\n",
       "        vertical-align: top;\n",
       "    }\n",
       "\n",
       "    .dataframe thead th {\n",
       "        text-align: right;\n",
       "    }\n",
       "</style>\n",
       "<table border=\"1\" class=\"dataframe\">\n",
       "  <thead>\n",
       "    <tr style=\"text-align: right;\">\n",
       "      <th></th>\n",
       "      <th>date</th>\n",
       "      <th>question</th>\n",
       "      <th>answers</th>\n",
       "      <th>groups</th>\n",
       "    </tr>\n",
       "  </thead>\n",
       "  <tbody>\n",
       "    <tr>\n",
       "      <th>611</th>\n",
       "      <td>2025-02-12</td>\n",
       "      <td>ANDROID, PACIFIER, RECEIPT, CERTIFICATE, DONUT...</td>\n",
       "      <td>[['CERTIFICATE', 'DEED', 'RECEIPT', 'TITLE'], ...</td>\n",
       "      <td>['DOCUMENTS OF OWNERSHIP', 'BITS IN A VARIETY ...</td>\n",
       "    </tr>\n",
       "    <tr>\n",
       "      <th>99</th>\n",
       "      <td>2023-09-19</td>\n",
       "      <td>POCKET, TAB, COLLAR, JOKE, WINDOW, MARTINI, RE...</td>\n",
       "      <td>[['BOOKMARK', 'HISTORY', 'TAB', 'WINDOW'], ['B...</td>\n",
       "      <td>['WEB BROWSER-RELATED', 'SHIRT FEATURES', 'CON...</td>\n",
       "    </tr>\n",
       "    <tr>\n",
       "      <th>438</th>\n",
       "      <td>2024-08-23</td>\n",
       "      <td>MONITOR, DISPLAY, TIE, FAWN, TAN, BOA, CREAM, ...</td>\n",
       "      <td>[['DISPLAY', 'MONITOR', 'SCREEN', 'TERMINAL'],...</td>\n",
       "      <td>['VISUAL INTERFACE', 'BURLESQUE WEAR', 'BEIGE ...</td>\n",
       "    </tr>\n",
       "    <tr>\n",
       "      <th>147</th>\n",
       "      <td>2023-11-06</td>\n",
       "      <td>STOCK, BOND, ICE, SUGAR, HERRING, PLATTER, WAX...</td>\n",
       "      <td>[['BOND', 'CD', 'OPTION', 'STOCK'], ['LP', 'PL...</td>\n",
       "      <td>['INVESTMENTS', 'TERMS FOR RECORDS', 'CUBE-SHA...</td>\n",
       "    </tr>\n",
       "    <tr>\n",
       "      <th>448</th>\n",
       "      <td>2024-09-02</td>\n",
       "      <td>FUNNY, MAIL, POST, RECORD, STAMP, COIN, STORE,...</td>\n",
       "      <td>[['CURIOUS', 'FUNNY', 'OFF', 'WEIRD'], ['JOB',...</td>\n",
       "      <td>['PECULIAR', 'ASSIGNMENT', 'CLASSIC COLLECTION...</td>\n",
       "    </tr>\n",
       "  </tbody>\n",
       "</table>\n",
       "</div>"
      ],
      "text/plain": [
       "           date                                           question  \\\n",
       "611  2025-02-12  ANDROID, PACIFIER, RECEIPT, CERTIFICATE, DONUT...   \n",
       "99   2023-09-19  POCKET, TAB, COLLAR, JOKE, WINDOW, MARTINI, RE...   \n",
       "438  2024-08-23  MONITOR, DISPLAY, TIE, FAWN, TAN, BOA, CREAM, ...   \n",
       "147  2023-11-06  STOCK, BOND, ICE, SUGAR, HERRING, PLATTER, WAX...   \n",
       "448  2024-09-02  FUNNY, MAIL, POST, RECORD, STAMP, COIN, STORE,...   \n",
       "\n",
       "                                               answers  \\\n",
       "611  [['CERTIFICATE', 'DEED', 'RECEIPT', 'TITLE'], ...   \n",
       "99   [['BOOKMARK', 'HISTORY', 'TAB', 'WINDOW'], ['B...   \n",
       "438  [['DISPLAY', 'MONITOR', 'SCREEN', 'TERMINAL'],...   \n",
       "147  [['BOND', 'CD', 'OPTION', 'STOCK'], ['LP', 'PL...   \n",
       "448  [['CURIOUS', 'FUNNY', 'OFF', 'WEIRD'], ['JOB',...   \n",
       "\n",
       "                                                groups  \n",
       "611  ['DOCUMENTS OF OWNERSHIP', 'BITS IN A VARIETY ...  \n",
       "99   ['WEB BROWSER-RELATED', 'SHIRT FEATURES', 'CON...  \n",
       "438  ['VISUAL INTERFACE', 'BURLESQUE WEAR', 'BEIGE ...  \n",
       "147  ['INVESTMENTS', 'TERMS FOR RECORDS', 'CUBE-SHA...  \n",
       "448  ['PECULIAR', 'ASSIGNMENT', 'CLASSIC COLLECTION...  "
      ]
     },
     "execution_count": 9,
     "metadata": {},
     "output_type": "execute_result"
    }
   ],
   "source": [
    "file_path = \"../data/connections.csv\"\n",
    "df = pd.read_csv(file_path)\n",
    "\n",
    "train_df, test_df = train_test_split(df, test_size=0.1, random_state=3407)\n",
    "df = test_df\n",
    "\n",
    "df.head()"
   ]
  },
  {
   "cell_type": "code",
   "execution_count": 10,
   "id": "9734fe77-43dd-43bb-aa49-4912096ce710",
   "metadata": {},
   "outputs": [],
   "source": [
    "df[\"parsed_question\"] = df[\"question\"].apply(lambda x: [w.strip() for w in x.split(\",\")])\n",
    "df[\"parsed_answers\"] = df[\"answers\"].apply(ast.literal_eval)"
   ]
  },
  {
   "cell_type": "code",
   "execution_count": 11,
   "id": "96f82381-d306-43ae-a0e8-cf5cd1766ae6",
   "metadata": {},
   "outputs": [
    {
     "name": "stderr",
     "output_type": "stream",
     "text": [
      "Evaluating:   2%|▏         | 1/65 [00:13<14:34, 13.66s/it]"
     ]
    },
    {
     "name": "stdout",
     "output_type": "stream",
     "text": [
      "WORDS: ['ANDROID', 'PACIFIER', 'RECEIPT', 'CERTIFICATE', 'DONUT', 'MONOLOGUE', 'DEED', 'SKETCH', 'SHAKESPEARE', 'ROLLERBLADE', 'SONG', 'SAXOPHONE', 'RATTLESNAKE', 'DANCE', 'TITLE', 'SKATEBOARD']\n",
      "ACTUAL: [['CERTIFICATE', 'DEED', 'RECEIPT', 'TITLE'], ['DANCE', 'MONOLOGUE', 'SKETCH', 'SONG'], ['DONUT', 'PACIFIER', 'SAXOPHONE', 'SKATEBOARD'], ['ANDROID', 'RATTLESNAKE', 'ROLLERBLADE', 'SHAKESPEARE']]\n",
      "PREDICTED: [['ANDROID', 'DEED', 'MONOLOGUE', 'PACIFIER'], ['CERTIFICATE', 'DANCE', 'RECEIPT', 'SKATEBOARD'], ['DONUT', 'RATTLESNAKE', 'ROLLERBLADE', 'SONG'], ['SHAKESPEARE', 'SKETCH', 'SAXOPHONE', 'TITLE']]\n"
     ]
    },
    {
     "name": "stderr",
     "output_type": "stream",
     "text": [
      "Evaluating:   3%|▎         | 2/65 [00:28<15:18, 14.59s/it]"
     ]
    },
    {
     "name": "stdout",
     "output_type": "stream",
     "text": [
      "WORDS: ['POCKET', 'TAB', 'COLLAR', 'JOKE', 'WINDOW', 'MARTINI', 'RELATION', 'BOOKMARK', 'BOND', 'LAUNDRY', 'CUFF', 'TIE', 'BUTTON', 'DOZEN', 'LINK', 'HISTORY']\n",
      "ACTUAL: [['BOOKMARK', 'HISTORY', 'TAB', 'WINDOW'], ['BUTTON', 'COLLAR', 'CUFF', 'POCKET'], ['BOND', 'LINK', 'RELATION', 'TIE'], ['DOZEN', 'JOKE', 'LAUNDRY', 'MARTINI']]\n",
      "PREDICTED: [['BOND', 'BUTTON', 'CUFF', 'LAUNDRY'], ['COLLAR', 'JOKE', 'POCKET', 'WINDOW'], ['BOOKMARK', 'LINK', 'MARTINI', 'RELATION'], ['DOZEN', 'HISTORY', 'TAB', 'TIE']]\n"
     ]
    },
    {
     "name": "stderr",
     "output_type": "stream",
     "text": [
      "Evaluating:   5%|▍         | 3/65 [00:44<15:24, 14.92s/it]"
     ]
    },
    {
     "name": "stdout",
     "output_type": "stream",
     "text": [
      "WORDS: ['MONITOR', 'DISPLAY', 'TIE', 'FAWN', 'TAN', 'BOA', 'CREAM', 'SCREEN', 'BUFF', 'BASK', 'GLOVES', 'FINISH', 'CHECK', 'FAN', 'TERMINAL', 'CORSET']\n",
      "ACTUAL: [['DISPLAY', 'MONITOR', 'SCREEN', 'TERMINAL'], ['BOA', 'CORSET', 'FAN', 'GLOVES'], ['BUFF', 'CREAM', 'FAWN', 'TAN'], ['BASK', 'CHECK', 'FINISH', 'TIE']]\n",
      "PREDICTED: [['CHECK', 'FINISH', 'TERMINAL', 'SCREEN'], ['BASK', 'BUFF', 'BOA', 'GLOVES'], ['MONITOR', 'DISPLAY', 'CORSET', 'TIE'], ['FAN', 'CREAM', 'TAN', 'FAWN']]\n"
     ]
    },
    {
     "name": "stderr",
     "output_type": "stream",
     "text": [
      "Evaluating:   6%|▌         | 4/65 [00:59<15:17, 15.04s/it]"
     ]
    },
    {
     "name": "stdout",
     "output_type": "stream",
     "text": [
      "WORDS: ['STOCK', 'BOND', 'ICE', 'SUGAR', 'HERRING', 'PLATTER', 'WAX', 'BOUILLON', 'DIE', 'OPTION', 'SOUP', 'VINYL', 'WISH', 'CD', 'FUNNY', 'LP']\n",
      "ACTUAL: [['BOND', 'CD', 'OPTION', 'STOCK'], ['LP', 'PLATTER', 'VINYL', 'WAX'], ['BOUILLON', 'DIE', 'ICE', 'SUGAR'], ['FUNNY', 'HERRING', 'SOUP', 'WISH']]\n",
      "PREDICTED: [['BOND', 'BOUILLON', 'ICE', 'WAX'], ['SOUP', 'SOUP', 'WISH', 'WISH'], ['HERRING', 'HERRING', 'LP', 'LP'], ['OPTION', 'CD', 'DIE', 'PLATTER']]\n"
     ]
    },
    {
     "name": "stderr",
     "output_type": "stream",
     "text": [
      "Evaluating:   8%|▊         | 5/65 [01:14<15:10, 15.17s/it]"
     ]
    },
    {
     "name": "stdout",
     "output_type": "stream",
     "text": [
      "WORDS: ['FUNNY', 'MAIL', 'POST', 'RECORD', 'STAMP', 'COIN', 'STORE', 'CURIOUS', 'LETTER', 'OFF', 'JOB', 'WEIRD', 'STATION', 'REACTION', 'COMIC', 'POSITION']\n",
      "ACTUAL: [['CURIOUS', 'FUNNY', 'OFF', 'WEIRD'], ['JOB', 'POSITION', 'POST', 'STATION'], ['COIN', 'COMIC', 'RECORD', 'STAMP'], ['LETTER', 'MAIL', 'REACTION', 'STORE']]\n",
      "PREDICTED: [['RECORD', 'STORE', 'POSITION', 'JOB'], ['COIN', 'MAIL', 'POST', 'STAMP'], ['FUNNY', 'WEIRD', 'CURIOUS', 'COMIC'], ['LETTER', 'RECTION', 'OFF', 'RECORD']]\n"
     ]
    },
    {
     "name": "stderr",
     "output_type": "stream",
     "text": [
      "Evaluating:   9%|▉         | 6/65 [01:29<14:54, 15.16s/it]"
     ]
    },
    {
     "name": "stdout",
     "output_type": "stream",
     "text": [
      "WORDS: ['EASEL', 'GEAR', 'SAW', 'PALETTE', 'CANVAS', 'PARK', 'HIGH', 'DRIVE', 'NEUTRAL', 'FIRST', 'BRUSH', 'ZIPPER', 'LAWN', 'REVERSE', 'FOLDING', 'COMB']\n",
      "ACTUAL: [['BRUSH', 'CANVAS', 'EASEL', 'PALETTE'], ['DRIVE', 'NEUTRAL', 'PARK', 'REVERSE'], ['COMB', 'GEAR', 'SAW', 'ZIPPER'], ['FIRST', 'FOLDING', 'HIGH', 'LAWN']]\n",
      "PREDICTED: []\n"
     ]
    },
    {
     "name": "stderr",
     "output_type": "stream",
     "text": [
      "Evaluating:  11%|█         | 7/65 [01:44<14:25, 14.93s/it]"
     ]
    },
    {
     "name": "stdout",
     "output_type": "stream",
     "text": [
      "WORDS: ['PHILADELPHIA', 'CHICAGO', 'HURRICANE', 'ELLE', 'COSMOPOLITAN', 'W', 'ALLURE', 'SQUALL', 'SCREWDRIVER', 'MUNICH', 'RIO', 'GLAMOUR', 'CYCLONE', 'MANHATTAN', 'BLIZZARD', 'TORNADO']\n",
      "ACTUAL: [['CHICAGO', 'MUNICH', 'PHILADELPHIA', 'RIO'], ['ALLURE', 'ELLE', 'GLAMOUR', 'W'], ['BLIZZARD', 'CYCLONE', 'SQUALL', 'TORNADO'], ['COSMOPOLITAN', 'HURRICANE', 'MANHATTAN', 'SCREWDRIVER']]\n",
      "PREDICTED: [['HAIL', 'RAIN', 'SLEET', 'SNOW'], ['BUCKS', 'HEAT', 'JAZZ', 'NETS'], ['OPTION', 'RETURN', 'SHIFT', 'TAB'], ['KAYAK', 'LEVEL', 'MOM', 'RACECAR']]\n"
     ]
    },
    {
     "name": "stderr",
     "output_type": "stream",
     "text": [
      "Evaluating:  12%|█▏        | 8/65 [01:59<14:13, 14.97s/it]"
     ]
    },
    {
     "name": "stdout",
     "output_type": "stream",
     "text": [
      "WORDS: ['GIF', 'PDF', 'GRUMPY', 'HAPPY', 'MANGO', 'TIFF', 'COCONUT', 'PENGUIN', 'EMU', 'KIWI', 'BASHFUL', 'ZIP', 'DOC', 'BANANA', 'PINEAPPLE', 'OSTRICH']\n",
      "ACTUAL: [['BASHFUL', 'DOC', 'GRUMPY', 'HAPPY'], ['GIF', 'PDF', 'TIFF', 'ZIP'], ['EMU', 'KIWI', 'OSTRICH', 'PENGUIN'], ['BANANA', 'COCONUT', 'MANGO', 'PINEAPPLE']]\n",
      "PREDICTED: [['EMU', 'PINEAPPLE', 'PENGUIN', 'TIFF'], ['HAPPY', 'KIWI', 'OSTRICH', 'GRUMPY'], ['GIF', 'PDF', 'DOC', 'ZIP'], ['BANANA', 'BASHFUL', 'MANGO', 'COCONUT']]\n"
     ]
    },
    {
     "name": "stderr",
     "output_type": "stream",
     "text": [
      "Evaluating:  14%|█▍        | 9/65 [02:06<11:31, 12.35s/it]"
     ]
    },
    {
     "name": "stdout",
     "output_type": "stream",
     "text": [
      "WORDS: ['OTTO', 'WILL', 'CLIFF', 'ROSE', 'HANNAH', 'AARON', 'EVE', 'MAY', 'SHARON', 'BROOK', 'DARREN', 'KAREN', 'DALE', 'DREW', 'NATAN', 'SAVANNA']\n",
      "ACTUAL: [['DARREN', 'KAREN', 'SHARON', 'AARON'], ['DALE', 'BROOK', 'SAVANNA', 'CLIFF'], ['DREW', 'ROSE', 'WILL', 'MAY'], ['EVE', 'HANNAH', 'OTTO', 'NATAN']]\n",
      "PREDICTED: [['OTTO', 'HANNAH', 'EVE', 'KAREN'], ['WILL', 'DARREN', 'DREW', 'NATAN'], ['CLIFF', 'ROSE', 'BROOK', 'SHARON'], ['AARON', 'MAY', 'DALE', 'SAVANNA']]\n"
     ]
    },
    {
     "name": "stderr",
     "output_type": "stream",
     "text": [
      "Evaluating:  15%|█▌        | 10/65 [02:21<12:03, 13.15s/it]"
     ]
    },
    {
     "name": "stdout",
     "output_type": "stream",
     "text": [
      "WORDS: ['INSPIRE', 'SOAP', 'METROID', 'CANDLE', 'LOTION', 'INCENSE', 'INSULT', 'CIVILIZATION', 'JELLYFISH', 'MADDEN', 'PROMPT', 'GENERATE', 'HALO', 'WASP', 'NETTLE', 'PROVOKE']\n",
      "ACTUAL: [['GENERATE', 'INSPIRE', 'PROMPT', 'PROVOKE'], ['CANDLE', 'INCENSE', 'LOTION', 'SOAP'], ['INSULT', 'JELLYFISH', 'NETTLE', 'WASP'], ['CIVILIZATION', 'HALO', 'MADDEN', 'METROID']]\n",
      "PREDICTED: [['HAIL', 'RAIN', 'SLEET', 'SNOW'], ['BUCKS', 'HEAT', 'JAZZ', 'NETS'], ['OPTION', 'RETURN', 'SHIFT', 'TAB'], ['KAYAK', 'LEVEL', 'MOM', 'RACECAR']]\n"
     ]
    },
    {
     "name": "stderr",
     "output_type": "stream",
     "text": [
      "Evaluating:  17%|█▋        | 11/65 [02:36<12:26, 13.82s/it]"
     ]
    },
    {
     "name": "stdout",
     "output_type": "stream",
     "text": [
      "WORDS: ['SEED', 'WINK', 'HEAVY', 'SHOP', 'WING', 'CORE', 'WINE', 'MIDDLE', 'FEATHER', 'FACTORY', 'RIND', 'PLANT', 'MILL', 'WIND', 'STEM', 'LIGHT']\n",
      "ACTUAL: [['FACTORY', 'MILL', 'PLANT', 'SHOP'], ['WIND', 'WINE', 'WING', 'WINK'], ['CORE', 'RIND', 'SEED', 'STEM'], ['FEATHER', 'HEAVY', 'LIGHT', 'MIDDLE']]\n",
      "PREDICTED: [['SEED', 'WING', 'STEM', 'CORE'], ['WINK', 'SHOP', 'FACTORY', 'MILL'], ['HEAVY', 'WINE', 'RIND', 'LIGHT'], ['FEATHER', 'MIDDLE', 'PLANT', 'WIND']]\n"
     ]
    },
    {
     "name": "stderr",
     "output_type": "stream",
     "text": [
      "Evaluating:  18%|█▊        | 12/65 [02:51<12:33, 14.22s/it]"
     ]
    },
    {
     "name": "stdout",
     "output_type": "stream",
     "text": [
      "WORDS: ['WEDDING', 'RIM', 'GLITCHY', 'PLANT', 'TRIBUTE', 'MIRROR', 'BABY', 'HOUSE', 'GRILLE', 'BUMPER', 'PET', 'BUGGY', 'BOY', 'ERRATIC', 'RUBBER', 'SPOTTY']\n",
      "ACTUAL: [['BUGGY', 'ERRATIC', 'GLITCHY', 'SPOTTY'], ['BUMPER', 'GRILLE', 'MIRROR', 'RIM'], ['BABY', 'HOUSE', 'PET', 'PLANT'], ['BOY', 'RUBBER', 'TRIBUTE', 'WEDDING']]\n",
      "PREDICTED: [['NEST', 'NETS', 'TRIBUTE', 'WEDDING'], ['RUBBER', 'RIM', 'GLITCHY', 'GRILLE'], ['NESTED', 'MIRROR', 'ERRATIC', 'SPOTTY'], ['BOY', 'GALLON', 'BABY', 'HOUSE']]\n"
     ]
    },
    {
     "name": "stderr",
     "output_type": "stream",
     "text": [
      "Evaluating:  20%|██        | 13/65 [02:58<10:21, 11.96s/it]"
     ]
    },
    {
     "name": "stdout",
     "output_type": "stream",
     "text": [
      "WORDS: ['MASK', 'COVER', 'HIDE', 'STRAP', 'CROWN', 'SWORD', 'HAND', 'TIARA', 'BLOCK', 'CANDIDATE', 'NOSE', 'MASCARA', 'LASSO', 'SHIELD', 'DIAL', 'FAUCET']\n",
      "ACTUAL: [['BLOCK', 'COVER', 'HIDE', 'MASK'], ['CROWN', 'DIAL', 'HAND', 'STRAP'], ['LASSO', 'SHIELD', 'SWORD', 'TIARA'], ['CANDIDATE', 'FAUCET', 'MASCARA', 'NOSE']]\n",
      "PREDICTED: [['MASK', 'CANDIDATE', 'COVER', 'HIDE'], ['HAND', 'NOSE', 'SWORD', 'TIARA'], ['BLOCK', 'DIAL', 'FAUCET', 'STRAP'], ['CROWN', 'LASSO', 'SHIELD', 'SWORD']]\n"
     ]
    },
    {
     "name": "stderr",
     "output_type": "stream",
     "text": [
      "Evaluating:  22%|██▏       | 14/65 [03:00<07:45,  9.13s/it]"
     ]
    },
    {
     "name": "stdout",
     "output_type": "stream",
     "text": [
      "WORDS: ['HUM', 'SCOW', 'BUREAU', 'AUTO', 'PLUTO', 'HOOK', 'BARGE', 'PURR', 'BUZZ', 'DEMO', 'AMERICA', 'DRONE', 'DORY', 'NEMO', 'MORGAN', 'SLOOP']\n",
      "ACTUAL: [['BUZZ', 'DRONE', 'HUM', 'PURR'], ['BARGE', 'DORY', 'SCOW', 'SLOOP'], ['AMERICA', 'HOOK', 'MORGAN', 'NEMO'], ['AUTO', 'BUREAU', 'DEMO', 'PLUTO']]\n",
      "PREDICTED: [['AMERICA', 'DEMO', 'MORGAN', 'NEMO'], ['BUZZ', 'HUM', 'HOOK', 'PURR'], ['BARGE', 'AUTO', 'BUCK', 'DRONE'], ['PLUTO', 'SCOW', 'SLOOP', 'DORY']]\n"
     ]
    },
    {
     "name": "stderr",
     "output_type": "stream",
     "text": [
      "Evaluating:  23%|██▎       | 15/65 [03:03<06:05,  7.30s/it]"
     ]
    },
    {
     "name": "stdout",
     "output_type": "stream",
     "text": [
      "WORDS: ['PLUMBER', 'DINOSAUR', 'PEELER', 'PRINCESS', 'BUNKER', 'CLEAVER', 'PARTRIDGE', 'GRATER', 'WHISK', 'BIRD', 'MAMMAL', 'MUSHROOM', 'LADLE', 'FISH', 'TANNER', 'REPTILE']\n",
      "ACTUAL: [['GRATER', 'LADLE', 'PEELER', 'WHISK'], ['BIRD', 'FISH', 'MAMMAL', 'REPTILE'], ['DINOSAUR', 'MUSHROOM', 'PLUMBER', 'PRINCESS'], ['BUNKER', 'CLEAVER', 'PARTRIDGE', 'TANNER']]\n",
      "PREDICTED: [['PLUMBER', 'PEELER', 'WHISK', 'GRATER'], ['DINOSAUR', 'BUNKER', 'PARTRIDGE', 'REPTILE'], ['PRINCESS', 'CLEAVER', 'LADLE', 'TANNER'], ['BIRD', 'MAMMAL', 'MUSHROOM', 'FISH']]\n"
     ]
    },
    {
     "name": "stderr",
     "output_type": "stream",
     "text": [
      "Evaluating:  25%|██▍       | 16/65 [03:19<07:57,  9.75s/it]"
     ]
    },
    {
     "name": "stdout",
     "output_type": "stream",
     "text": [
      "WORDS: ['SUPPORT', 'UP', 'CHAMPION', 'DING', 'ENDORSE', 'LEFT', 'BASE', 'STRIKE', 'MINUS', 'RIGHT', 'DOWN', 'SYMBOL', 'BACK', 'LOOT', 'LIAR', 'CON']\n",
      "ACTUAL: [['DOWN', 'LEFT', 'RIGHT', 'UP'], ['BACK', 'CHAMPION', 'ENDORSE', 'SUPPORT'], ['CON', 'DING', 'MINUS', 'STRIKE'], ['BASE', 'LIAR', 'LOOT', 'SYMBOL']]\n",
      "PREDICTED: [['CHAMPION', 'BASE', 'ENTER', 'RIGHT'], ['LIAR', 'MINUS', 'ENTER', 'DOWN'], ['STEP', 'LEFT', 'SHIFT', 'SYMBOL'], ['UP', 'DING', 'SUPPORT', 'ENDING']]\n"
     ]
    },
    {
     "name": "stderr",
     "output_type": "stream",
     "text": [
      "Evaluating:  26%|██▌       | 17/65 [03:27<07:18,  9.13s/it]"
     ]
    },
    {
     "name": "stdout",
     "output_type": "stream",
     "text": [
      "WORDS: ['FAVORITE', 'SAKE', 'MAGIC', 'FETA', 'ADVANTAGE', 'BOOKMARK', 'SAVE', 'BIOTA', 'BENEFIT', 'BIRD', 'KOBE', 'INTEREST', 'MOCHI', 'CURRY', 'LIKE', 'PEPSI']\n",
      "ACTUAL: [['BOOKMARK', 'FAVORITE', 'LIKE', 'SAVE'], ['ADVANTAGE', 'BENEFIT', 'INTEREST', 'SAKE'], ['BIRD', 'CURRY', 'KOBE', 'MAGIC'], ['BIOTA', 'FETA', 'MOCHI', 'PEPSI']]\n",
      "PREDICTED: [['SAKE', 'MAGIC', 'FETA', 'FAVORITE'], ['KOBE', 'PEPSI', 'BOOKMARK', 'CURRY'], ['ADVANTAGE', 'INTEREST', 'LIKE', 'SAVE'], ['BIOTA', 'BENEFIT', 'BIRD', 'MOCHI']]\n"
     ]
    },
    {
     "name": "stderr",
     "output_type": "stream",
     "text": [
      "Evaluating:  28%|██▊       | 18/65 [03:35<06:57,  8.88s/it]"
     ]
    },
    {
     "name": "stdout",
     "output_type": "stream",
     "text": [
      "WORDS: ['STEER', 'JET', 'GOLFER', 'SWING', 'RAVEN', 'CASK', 'RAM', 'DRUM', 'SALOON DOORS', 'CYLINDER', 'COWBOY', 'PILOT', 'SHEPHERD', 'PENDULUM', 'USHER', 'TANK']\n",
      "ACTUAL: [['CASK', 'CYLINDER', 'DRUM', 'TANK'], ['PILOT', 'USHER', 'SHEPHERD', 'STEER'], ['COWBOY', 'JET', 'RAM', 'RAVEN'], ['GOLFER', 'PENDULUM', 'SALOON DOORS', 'SWING']]\n",
      "PREDICTED: [['STEER', 'RAVEN', 'PILOT', 'USHER'], ['JET', 'DRUM', 'SHEPHERD', 'SWING'], ['GOLFER', 'CASK', 'CYLINDER', 'PENDULUM'], ['SALOON DOORS', 'COWBOY', 'TANK', 'RAM']]\n"
     ]
    },
    {
     "name": "stderr",
     "output_type": "stream",
     "text": [
      "Evaluating:  29%|██▉       | 19/65 [03:50<08:14, 10.75s/it]"
     ]
    },
    {
     "name": "stdout",
     "output_type": "stream",
     "text": [
      "WORDS: ['LOOK', 'CASTLE', 'GIANT', 'HUSTLE', 'TITANIC', 'AVATAR', 'PERSONA', 'FIGURE', 'WITCH', 'APPEAR', 'MAMMOTH', 'SOUND', 'MONSTER', 'LISTEN', 'SEEM', 'CHARACTER']\n",
      "ACTUAL: [['GIANT', 'MAMMOTH', 'MONSTER', 'TITANIC'], ['AVATAR', 'CHARACTER', 'FIGURE', 'PERSONA'], ['APPEAR', 'LOOK', 'SEEM', 'SOUND'], ['CASTLE', 'HUSTLE', 'LISTEN', 'WITCH']]\n",
      "PREDICTED: [['GIANT', 'MAMMOTH', 'PERSONA', 'WITCH'], ['ANIMATED', 'AVATAR', 'CHARACTER', 'MONSTER'], ['CASTLE', 'FIGURE', 'LOOK', 'TITANIC'], ['HUSTLE', 'APPEAR', 'LISTEN', 'SEEM']]\n"
     ]
    },
    {
     "name": "stderr",
     "output_type": "stream",
     "text": [
      "Evaluating:  31%|███       | 20/65 [04:03<08:29, 11.33s/it]"
     ]
    },
    {
     "name": "stdout",
     "output_type": "stream",
     "text": [
      "WORDS: ['LUNG', 'PAGE', 'ASS', 'FEZ', 'COVER', 'BERET', 'BOWLER', 'KIDNEY', 'RABBIT', 'POT', 'FEDORA', 'SPINE', 'HEART', 'KNIFE', 'JACKET', 'LIVER']\n",
      "ACTUAL: [['BERET', 'BOWLER', 'FEDORA', 'FEZ'], ['HEART', 'KIDNEY', 'LIVER', 'LUNG'], ['COVER', 'JACKET', 'PAGE', 'SPINE'], ['ASS', 'KNIFE', 'POT', 'RABBIT']]\n",
      "PREDICTED: [['LUNG', 'PAGE', 'ASS', 'BERET'], ['COVER', 'FEZ', 'KIDNEY', 'RABBIT'], ['POT', 'BOWLER', 'SPINE', 'HEART'], ['ASSISTANT', 'KNIFE', 'JACKET', 'LIVER']]\n"
     ]
    },
    {
     "name": "stderr",
     "output_type": "stream",
     "text": [
      "Evaluating:  32%|███▏      | 21/65 [04:15<08:29, 11.58s/it]"
     ]
    },
    {
     "name": "stdout",
     "output_type": "stream",
     "text": [
      "WORDS: ['DOG', 'MITT', 'GONZO', 'PIGGY', 'DIGIT', 'BEAKER', 'SERVER', 'CHEF', 'BUS', 'BARTENDER', 'HOST', 'TRUCK', 'SCOOTER', 'ANIMAL', 'CAR', 'MOTORCYCLE']\n",
      "ACTUAL: [['BARTENDER', 'CHEF', 'HOST', 'SERVER'], ['BUS', 'CAR', 'MOTORCYCLE', 'TRUCK'], ['ANIMAL', 'BEAKER', 'GONZO', 'SCOOTER'], ['DIGIT', 'DOG', 'MITT', 'PIGGY']]\n",
      "PREDICTED: [['DOG', 'MITT', 'GONZO', 'PIGGY'], ['ANIMAL', 'MIXEDAnimal/UNUSUALNAME'], ['DIGIT', 'BEAKER', 'SERVER', 'CHEF'], ['HOST', 'BUS', 'BARTENDER', 'TRUCK', 'SCOOTER', 'CAR', 'MOTORCYCLE']]\n"
     ]
    },
    {
     "name": "stderr",
     "output_type": "stream",
     "text": [
      "Evaluating:  34%|███▍      | 22/65 [04:30<09:04, 12.66s/it]"
     ]
    },
    {
     "name": "stdout",
     "output_type": "stream",
     "text": [
      "WORDS: ['MAXIM', 'WOOD', 'GAS', 'PUMP', 'SAW', 'HEATER', 'ADAGE', 'CHERRY', 'EBONY', 'GUM', 'CHESTNUT', 'JET', 'ELECTRIC', 'ASH', 'FILTER', 'CHARCOAL']\n",
      "ACTUAL: [['ADAGE', 'CHESTNUT', 'MAXIM', 'SAW'], ['CHARCOAL', 'ELECTRIC', 'GAS', 'WOOD'], ['ASH', 'CHERRY', 'EBONY', 'GUM'], ['FILTER', 'HEATER', 'JET', 'PUMP']]\n",
      "PREDICTED: [['BENNY', 'BILLY', 'BAGGY', 'BAG'], ['BUCK', 'PENNY', 'PIN', 'QUARTER'], ['QUARTERLY', 'BID', 'CASH', 'DOLLAR'], ['NICOLE', 'COIN', 'PICK', 'PICKY']]\n"
     ]
    },
    {
     "name": "stderr",
     "output_type": "stream",
     "text": [
      "Evaluating:  35%|███▌      | 23/65 [04:45<09:24, 13.43s/it]"
     ]
    },
    {
     "name": "stdout",
     "output_type": "stream",
     "text": [
      "WORDS: ['STARE', 'NICOTINE', 'ROUGH', 'BROOD', 'LITTER', 'PONDER', 'INTERRUPT', 'POINT', 'SOUL', 'MUSE', 'CABBAGE', 'REFLECT', 'TRADE', 'WORK', 'CRAFT', 'LINE']\n",
      "ACTUAL: [['BROOD', 'MUSE', 'PONDER', 'REFLECT'], ['INTERRUPT', 'LITTER', 'POINT', 'STARE'], ['CRAFT', 'LINE', 'TRADE', 'WORK'], ['CABBAGE', 'NICOTINE', 'ROUGH', 'SOUL']]\n",
      "PREDICTED: [[' Rough', 'Nicotine', 'Point', 'Stare'], ['Brood', 'Cabbaage', 'Line', 'Muse'], ['Litter', 'Ponder', 'Reflect', 'Soul'], ['Craft', 'Trade', 'Interrupt', 'Work']]\n"
     ]
    },
    {
     "name": "stderr",
     "output_type": "stream",
     "text": [
      "Evaluating:  37%|███▋      | 24/65 [05:01<09:34, 14.01s/it]"
     ]
    },
    {
     "name": "stdout",
     "output_type": "stream",
     "text": [
      "WORDS: ['WENT', 'BLUE', 'AVIATOR', 'SCHEDULE', 'ATM', 'CASINO', 'LEFT', 'SPLIT', 'RIGHT', 'FIN', 'GRAY', 'DEPARTED', 'FLIER', 'ACE', 'PILOT', 'SPATULA']\n",
      "ACTUAL: [['DEPARTED', 'LEFT', 'SPLIT', 'WENT'], ['ACE', 'AVIATOR', 'FLIER', 'PILOT'], ['BLUE', 'FIN', 'GRAY', 'RIGHT'], ['ATM', 'CASINO', 'SCHEDULE', 'SPATULA']]\n",
      "PREDICTED: [['REGISTER', 'RESUME', 'CIRCULATE', 'CROSSOUT'], ['RECEIVE', 'ATTEND', 'TRIP', 'CIRCULATE'], ['DEPART', 'ARRIVE', 'RETURN', 'CROSSOVER'], ['JUMP', 'LEAP', 'CUT', 'CROSS']]\n"
     ]
    },
    {
     "name": "stderr",
     "output_type": "stream",
     "text": [
      "Evaluating:  38%|███▊      | 25/65 [05:06<07:43, 11.59s/it]"
     ]
    },
    {
     "name": "stdout",
     "output_type": "stream",
     "text": [
      "WORDS: ['CHORD', 'HUE', 'SUSPECT', 'TINGE', 'DETECTIVE', 'TONE', 'CONTEST', 'CHALLENGE', 'MATCH', 'POSE', 'ALIBI', 'DISPUTE', 'CLUE', 'SHADE', 'DEAL', 'QUESTION']\n",
      "ACTUAL: [['HUE', 'SHADE', 'TINGE', 'TONE'], ['ALIBI', 'CLUE', 'DETECTIVE', 'SUSPECT'], ['CONTEST', 'CHALLENGE', 'DISPUTE', 'QUESTION'], ['CHORD', 'DEAL', 'MATCH', 'POSE']]\n",
      "PREDICTED: [['CHALLENGE', 'CONTEST', 'QUESTION', 'DISPUTE'], ['MATCH', 'POSE', 'ALIBI', 'DEAL'], ['DETECTIVE', 'HUE', 'SHADE', 'TINGE'], ['CLUE', 'TONE', 'CHORD', 'SUSPECT']]\n"
     ]
    },
    {
     "name": "stderr",
     "output_type": "stream",
     "text": [
      "Evaluating:  40%|████      | 26/65 [05:10<05:54,  9.08s/it]"
     ]
    },
    {
     "name": "stdout",
     "output_type": "stream",
     "text": [
      "WORDS: ['BILLBOARD', 'WITHERSPOON', 'PITCHFORK', 'FIZZ', 'SPIN', 'BOILERPLATE', 'BUBBLES', 'MATURE', 'FROTH', 'BUTTERCUP', 'JACKKNIFE', 'DEVELOP', 'PROGRESS', 'FOAM', 'MOJO', 'BLOSSOM']\n",
      "ACTUAL: [['BUBBLES', 'FIZZ', 'FOAM', 'FROTH'], ['BLOSSOM', 'DEVELOP', 'MATURE', 'PROGRESS'], ['BILLBOARD', 'MOJO', 'PITCHFORK', 'SPIN'], ['BOILERPLATE', 'BUTTERCUP', 'JACKKNIFE', 'WITHERSPOON']]\n",
      "PREDICTED: [['BILLBOARD', 'PROGRESS', 'BOILERPLATE', 'DEVELOP'], ['FIZZ', 'FROTH', 'FOAM', 'BUBBLES'], ['PITCHFORK', 'SPIN', 'JACKKNIFE', 'MOJO'], ['WITHERSPOON', 'MATURE', 'BUTTERCUP', 'BLOSSOM']]\n"
     ]
    },
    {
     "name": "stderr",
     "output_type": "stream",
     "text": [
      "Evaluating:  42%|████▏     | 27/65 [05:12<04:30,  7.13s/it]"
     ]
    },
    {
     "name": "stdout",
     "output_type": "stream",
     "text": [
      "WORDS: ['TAKE', 'CUT', 'WAX', 'SOCKET', 'MARKET', 'CRESCENT', 'TWEEZE', 'SHAVE', 'ALLEN', 'STORE', 'THREAD', 'MALL', 'PIECE', 'SHARE', 'MONKEY', 'OUTLET']\n",
      "ACTUAL: [['MALL', 'MARKET', 'OUTLET', 'STORE'], ['SHAVE', 'THREAD', 'TWEEZE', 'WAX'], ['CUT', 'PIECE', 'SHARE', 'TAKE'], ['ALLEN', 'CRESCENT', 'MONKEY', 'SOCKET']]\n",
      "PREDICTED: [['STORE', 'MARKET', 'MALL', 'OUTLET'], ['TAKE', 'CUT', 'SHARE', 'THREAD'], ['WAX', 'CRESCENT', 'TWEEZE', 'SHAVE'], ['ALLEN', 'PIECE', 'MONKEY', 'SOCKET']]\n"
     ]
    },
    {
     "name": "stderr",
     "output_type": "stream",
     "text": [
      "Evaluating:  43%|████▎     | 28/65 [05:19<04:16,  6.93s/it]"
     ]
    },
    {
     "name": "stdout",
     "output_type": "stream",
     "text": [
      "WORDS: ['BASEBALL', 'GRAPEFRUIT', 'DUGOUT', 'SKIP', 'PROPEL', 'MARBLE', 'DRIVE', 'COURTROOM', 'DRAW', 'PARK', 'PEA', 'PUSH', 'PROMPT', 'GYM', 'REVERSE', 'WILD']\n",
      "ACTUAL: [['DRIVE', 'PROMPT', 'PROPEL', 'PUSH'], ['DRAW', 'REVERSE', 'SKIP', 'WILD'], ['BASEBALL', 'GRAPEFRUIT', 'MARBLE', 'PEA'], ['COURTROOM', 'DUGOUT', 'GYM', 'PARK']]\n",
      "PREDICTED: [['BASEBALL', 'SKIP', 'PUSH', 'DRIVE'], ['GRAPEFRUIT', 'MARBLE', 'PEA', 'WILD'], ['DUGOUT', 'PARK', 'PROMPT', 'REVERSE'], ['COURTROOM', 'DRAW', 'GYM', 'PROPEL']]\n"
     ]
    },
    {
     "name": "stderr",
     "output_type": "stream",
     "text": [
      "Evaluating:  45%|████▍     | 29/65 [05:25<04:01,  6.70s/it]"
     ]
    },
    {
     "name": "stdout",
     "output_type": "stream",
     "text": [
      "WORDS: ['BODY', 'MICROSCOPE', 'SIGN', 'SHEET', 'CELL', 'GOGGLES', 'LOVE', 'HUB', 'SORT', 'FORMULA', 'NUCLEUS', 'CENTER', 'HEART', 'ROMANCE', 'DROPPER', 'BEAKER']\n",
      "ACTUAL: [['BEAKER', 'DROPPER', 'GOGGLES', 'MICROSCOPE'], ['CENTER', 'HEART', 'HUB', 'NUCLEUS'], ['CELL', 'FORMULA', 'SHEET', 'SORT'], ['BODY', 'LOVE', 'ROMANCE', 'SIGN']]\n",
      "PREDICTED: [['BODY', 'CELL', 'CENTER', 'HUB'], ['FORMULA', 'GOGGLES', 'LOVE', 'ROMANCE'], ['DROPPER', 'MICROSCOPE', 'NUCLEUS', 'SHEET'], ['SORT', 'BEAKER', 'HEART', 'SIGN']]\n"
     ]
    },
    {
     "name": "stderr",
     "output_type": "stream",
     "text": [
      "Evaluating:  46%|████▌     | 30/65 [05:40<05:25,  9.29s/it]"
     ]
    },
    {
     "name": "stdout",
     "output_type": "stream",
     "text": [
      "WORDS: ['MATTER', 'SHOCK', 'ISSUE', 'TANK', 'BLEW', 'CHORAL', 'ROWS', 'PHASE', 'PERIOD', 'SUBJECT', 'POINT', 'DASH', 'STAGE', 'WHEEL', 'READ', 'CHAPTER']\n",
      "ACTUAL: [['ISSUE', 'MATTER', 'POINT', 'SUBJECT'], ['CHAPTER', 'PERIOD', 'PHASE', 'STAGE'], ['DASH', 'SHOCK', 'TANK', 'WHEEL'], ['BLEW', 'CHORAL', 'READ', 'ROWS']]\n",
      "PREDICTED: [['HAIL', 'RAIN', 'SLEET', 'SNOW'], ['BUCKS', 'HEAT', 'JAZZ', 'NETS'], ['OPTION', 'RETURN', 'SHIFT', 'TAB'], ['KAYAK', 'LEVEL', 'MOM', 'RACECAR']]\n"
     ]
    },
    {
     "name": "stderr",
     "output_type": "stream",
     "text": [
      "Evaluating:  48%|████▊     | 31/65 [05:55<06:16, 11.06s/it]"
     ]
    },
    {
     "name": "stdout",
     "output_type": "stream",
     "text": [
      "WORDS: ['EARTH', 'LABOR', 'GRAND', 'MAY', 'TREAD', 'CREATION', 'AUGUST', 'START', 'STRIDE', 'MARCH', 'STEP', 'GROUNDHOG', 'BIRTH', 'REGAL', 'NOBLE', 'DAWN']\n",
      "ACTUAL: [['BIRTH', 'CREATION', 'DAWN', 'START'], ['AUGUST', 'GRAND', 'NOBLE', 'REGAL'], ['MARCH', 'STEP', 'STRIDE', 'TREAD'], ['EARTH', 'GROUNDHOG', 'LABOR', 'MAY']]\n",
      "PREDICTED: [['EARTH', 'GRAND', 'MARCH', 'NOBLE'], ['LABOR', 'MAY', 'START', 'MARCH'], ['AUGUST', 'BIRTH', 'CREATION', 'STEP'], ['GROUNDHOG', 'EARTH', 'MAY', 'EARTH']]\n"
     ]
    },
    {
     "name": "stderr",
     "output_type": "stream",
     "text": [
      "Evaluating:  49%|████▉     | 32/65 [06:03<05:33, 10.11s/it]"
     ]
    },
    {
     "name": "stdout",
     "output_type": "stream",
     "text": [
      "WORDS: ['PUPPET', 'WOODCARVER', 'BUNNY', 'EGG', 'ISLAND', 'MIXER', 'SUNDAY', 'SINK', 'RANGE', 'PARTY', 'BLOWOUT', 'WHALE', 'COUNTER', 'SHINDIG', 'CRICKET', 'BASH']\n",
      "ACTUAL: [['BASH', 'BLOWOUT', 'PARTY', 'SHINDIG'], ['COUNTER', 'MIXER', 'RANGE', 'SINK'], ['CRICKET', 'PUPPET', 'WHALE', 'WOODCARVER'], ['BUNNY', 'EGG', 'ISLAND', 'SUNDAY']]\n",
      "PREDICTED: []\n"
     ]
    },
    {
     "name": "stderr",
     "output_type": "stream",
     "text": [
      "Evaluating:  51%|█████     | 33/65 [06:17<05:54, 11.09s/it]"
     ]
    },
    {
     "name": "stdout",
     "output_type": "stream",
     "text": [
      "WORDS: ['TIRE', 'WRENCH', 'HER', 'RAPTURE', 'CHOCK', 'ROCKETRY', 'SIGNS', 'CRACKERJACK', 'SOULMATE', 'JACK', 'POPCORN', 'GLADIATOR', 'JOKER', 'ACE', 'EXPERT', 'HOTSHOT']\n",
      "ACTUAL: [['ACE', 'CRACKERJACK', 'EXPERT', 'HOTSHOT'], ['CHOCK', 'JACK', 'TIRE', 'WRENCH'], ['GLADIATOR', 'HER', 'JOKER', 'SIGNS'], ['POPCORN', 'RAPTURE', 'ROCKETRY', 'SOULMATE']]\n",
      "PREDICTED: [['TIRE', 'WRENCH', 'HER', 'RAPTURE'], ['CHOCK', 'ROCKETRY', 'SIGNS', 'JACK'], ['CRACKERJACK', 'SOULMATE', 'JOKER', 'HOTSHOT'], ['ACE', 'EXPERT', 'POPCORN', 'GLADIATOR']]\n"
     ]
    },
    {
     "name": "stderr",
     "output_type": "stream",
     "text": [
      "Evaluating:  52%|█████▏    | 34/65 [06:32<06:20, 12.28s/it]"
     ]
    },
    {
     "name": "stdout",
     "output_type": "stream",
     "text": [
      "WORDS: ['PEPPER', 'DUST', 'VASE', 'SHOWER', 'SCATTER', 'NOSE', 'AUNT', 'EITHER', 'AROMA', 'STOP', 'MERCY', 'BOUQUET', 'UNCLE', 'TOMATO', 'NOTE', 'TRUCE']\n",
      "ACTUAL: [['DUST', 'PEPPER', 'SCATTER', 'SHOWER'], ['AROMA', 'BOUQUET', 'NOSE', 'NOTE'], ['MERCY', 'STOP', 'TRUCE', 'UNCLE'], ['AUNT', 'EITHER', 'TOMATO', 'VASE']]\n",
      "PREDICTED: []\n"
     ]
    },
    {
     "name": "stderr",
     "output_type": "stream",
     "text": [
      "Evaluating:  54%|█████▍    | 35/65 [06:47<06:35, 13.19s/it]"
     ]
    },
    {
     "name": "stdout",
     "output_type": "stream",
     "text": [
      "WORDS: ['SPADE', 'WOOD', 'SHY', 'WANTING', 'THIRST', 'PINE', 'HEART', 'IRON', 'WEDGE', 'SHORT', 'DIAMOND', 'LOW', 'ACHE', 'CLUB', 'LONG', 'PUTTER']\n",
      "ACTUAL: [['CLUB', 'DIAMOND', 'HEART', 'SPADE'], ['IRON', 'PUTTER', 'WEDGE', 'WOOD'], ['ACHE', 'LONG', 'PINE', 'THIRST'], ['LOW', 'SHORT', 'SHY', 'WANTING']]\n",
      "PREDICTED: [['SPADE', 'WEDGE', 'WANTING', 'THIRST'], ['CLUB', 'HEART', 'LOW', 'IRON'], ['DIAMOND', 'SHORT', 'PINE', 'PUTTER'], ['WOOD', 'WISH', 'ACE', 'LONG']]\n"
     ]
    },
    {
     "name": "stderr",
     "output_type": "stream",
     "text": [
      "Evaluating:  55%|█████▌    | 36/65 [07:00<06:20, 13.12s/it]"
     ]
    },
    {
     "name": "stdout",
     "output_type": "stream",
     "text": [
      "WORDS: ['ANGRY', 'COMPLEX', 'INVOLVED', 'BULLET', 'CRUCIFIX', 'CHECKBOX', 'ELABORATE', 'BETRAY', 'HYBRID', 'BAROQUE', 'ESSENCE', 'HEART', 'CRUX', 'ARROW', 'SUBSTANCE', 'HYPHEN']\n",
      "ACTUAL: [['CRUX', 'ESSENCE', 'HEART', 'SUBSTANCE'], ['BAROQUE', 'COMPLEX', 'ELABORATE', 'INVOLVED'], ['ARROW', 'BULLET', 'CHECKBOX', 'HYPHEN'], ['ANGRY', 'BETRAY', 'CRUCIFIX', 'HYBRID']]\n",
      "PREDICTED: [['ANGRY', 'BETRAY', 'CHECKBOX', 'HYPHEN'], ['CRUCIFIX', 'COMPLEX', 'BAROQUE', 'HYBRID'], ['ESSENCE', 'ELABORATE', 'CRUX', 'SUBSTANCE'], ['ARROW', 'CRUX', 'HEART', 'BULLET']]\n"
     ]
    },
    {
     "name": "stderr",
     "output_type": "stream",
     "text": [
      "Evaluating:  57%|█████▋    | 37/65 [07:15<06:21, 13.64s/it]"
     ]
    },
    {
     "name": "stdout",
     "output_type": "stream",
     "text": [
      "WORDS: ['GLEE', 'MIRTH', 'BARBECUE', 'OFFICIANT', 'FLORIST', 'LIAR', 'ORCHESTRA', 'FRYER', 'TAR', 'CHEER', 'SNAKE', 'FESTIVITY', 'CATERER', 'CHOIR', 'FIRE', 'BAND']\n",
      "ACTUAL: [['CHEER', 'GLEE', 'FESTIVITY', 'MIRTH'], ['BAND', 'CATERER', 'FLORIST', 'OFFICIANT'], ['CHOIR', 'FIRE', 'LIAR', 'FRYER'], ['BARBECUE', 'ORCHESTRA', 'SNAKE', 'TAR']]\n",
      "PREDICTED: [['BARBECUE', 'FESTIVITY', 'MIRTH', 'TAR'], ['CATERER', 'CHEER', 'CHOIR', 'FRYER'], ['FLORIST', 'FIRE', 'GLEE', 'LIAR'], ['OFFICIANT', 'ORCHESTRA', 'SNAKE', 'TAR']]\n"
     ]
    },
    {
     "name": "stderr",
     "output_type": "stream",
     "text": [
      "Evaluating:  58%|█████▊    | 38/65 [07:30<06:16, 13.96s/it]"
     ]
    },
    {
     "name": "stdout",
     "output_type": "stream",
     "text": [
      "WORDS: ['FORWARD', 'SEND', 'SERIAL', 'WTF', 'BLACK', 'UP FIRST', 'SLEEP', 'EXERCISE', 'RADIOLAB', 'FRESH AIR', 'SKETCH', 'DIVINE', 'DIET', 'PROP', 'COMPOSE', 'REPLY ALL']\n",
      "ACTUAL: [['DIET', 'EXERCISE', 'FRESH AIR', 'SLEEP'], ['COMPOSE', 'FORWARD', 'REPLY ALL', 'SEND'], ['RADIOLAB', 'SERIAL', 'UP FIRST', 'WTF'], ['BLACK', 'DIVINE', 'PROP', 'SKETCH']]\n",
      "PREDICTED: [['WTF', 'RADIOLAB', 'DIVINE', 'EXERCISE'], ['BLACK', 'COMPOSE', 'FORWARD', 'SKETCH'], ['DIET', 'FRESH AIR', 'PROP', 'REPLY ALL'], ['SLEEP', 'SERIAL', 'SEND', 'UP FIRST']]\n"
     ]
    },
    {
     "name": "stderr",
     "output_type": "stream",
     "text": [
      "Evaluating:  60%|██████    | 39/65 [07:45<06:12, 14.34s/it]"
     ]
    },
    {
     "name": "stdout",
     "output_type": "stream",
     "text": [
      "WORDS: ['UMBRELLA', 'TOMORROW', 'VOLUME', 'CASINO', 'OLIVE', 'SWORD', 'MENU', 'SHIELD', 'CHANNEL', 'COVER', 'CHERRY', 'POWER', 'SCREEN', 'BLOCK', 'QUANTUM', 'DIAMONDS']\n",
      "ACTUAL: [['CHANNEL', 'MENU', 'POWER', 'VOLUME'], ['BLOCK', 'COVER', 'SCREEN', 'SHIELD'], ['CHERRY', 'OLIVE', 'SWORD', 'UMBRELLA'], ['CASINO', 'DIAMONDS', 'QUANTUM', 'TOMORROW']]\n",
      "PREDICTED: [['HAIL', 'RAIN', 'SLEET', 'SNOW'], ['BUCKS', 'HEAT', 'JAZZ', 'NETS'], ['OPTION', 'RETURN', 'SHIFT', 'TAB'], ['KAYAK', 'LEVEL', 'MOM', 'RACECAR']]\n"
     ]
    },
    {
     "name": "stderr",
     "output_type": "stream",
     "text": [
      "Evaluating:  62%|██████▏   | 40/65 [08:00<06:04, 14.57s/it]"
     ]
    },
    {
     "name": "stdout",
     "output_type": "stream",
     "text": [
      "WORDS: ['POPPY', 'RESUME', 'CAMERA', 'DADA', 'GRAMMY', 'MUM', 'CALENDAR', 'CALCULATOR', 'LENS', 'PUPIL', 'PATE', 'EXPOSE', 'CONE', 'IRIS', 'CLOCK', 'ROSE']\n",
      "ACTUAL: [['CALCULATOR', 'CALENDAR', 'CAMERA', 'CLOCK'], ['CONE', 'IRIS', 'LENS', 'PUPIL'], ['DADA', 'GRAMMY', 'MUM', 'POPPY'], ['EXPOSE', 'PATE', 'RESUME', 'ROSE']]\n",
      "PREDICTED: []\n"
     ]
    },
    {
     "name": "stderr",
     "output_type": "stream",
     "text": [
      "Evaluating:  63%|██████▎   | 41/65 [08:15<05:52, 14.69s/it]"
     ]
    },
    {
     "name": "stdout",
     "output_type": "stream",
     "text": [
      "WORDS: ['POLAROID', 'MARACA', 'HOOD', 'JACKET', 'CANON', 'INSERT', 'HANDS', 'OEUVRE', 'WORKS', 'FUJI', 'SNOWGLOBE', 'WHITNEY', 'SLEEVE', 'BODY', 'OLYMPUS', 'RECORD']\n",
      "ACTUAL: [['BODY', 'CANON', 'OEUVRE', 'WORKS'], ['FUJI', 'HOOD', 'OLYMPUS', 'WHITNEY'], ['INSERT', 'JACKET', 'RECORD', 'SLEEVE'], ['HANDS', 'MARACA', 'POLAROID', 'SNOWGLOBE']]\n",
      "PREDICTED: [['POLAROID', 'CANON', 'FUJI', 'OLYMPUS'], ['MARACA', 'HOOD', 'JACKET', 'SLEEVE'], ['HANDS', 'INSERT', 'BODY', 'WORKS'], ['HOOD', 'OLYMPUS', 'SNOWGLOBE', 'RECORD']]\n"
     ]
    },
    {
     "name": "stderr",
     "output_type": "stream",
     "text": [
      "Evaluating:  65%|██████▍   | 42/65 [08:30<05:42, 14.89s/it]"
     ]
    },
    {
     "name": "stdout",
     "output_type": "stream",
     "text": [
      "WORDS: ['FLY', 'DRIFT', 'RUSTLE', 'NOW', 'PRONTO', 'STAT', 'CURRENT', 'TIDE', 'ROW', 'LOCK', 'MARKS', 'WAVE', 'PANE', 'HURRY', 'CURL', 'PRESS']\n",
      "ACTUAL: [['HURRY', 'NOW', 'PRONTO', 'STAT'], ['CURRENT', 'DRIFT', 'TIDE', 'WAVE'], ['CURL', 'FLY', 'PRESS', 'ROW'], ['LOCK', 'MARKS', 'PANE', 'RUSTLE']]\n",
      "PREDICTED: [['FLY', 'ROW', 'ROW', 'ROW'], ['PRONTO', 'CURRENT', 'MARKS', 'TIDE'], ['LOCK', 'HURRY', 'PRESS', 'ROW'], ['RUSTLE', 'WAVE', 'STAT', 'DRIFT']]\n"
     ]
    },
    {
     "name": "stderr",
     "output_type": "stream",
     "text": [
      "Evaluating:  66%|██████▌   | 43/65 [08:41<05:02, 13.74s/it]"
     ]
    },
    {
     "name": "stdout",
     "output_type": "stream",
     "text": [
      "WORDS: ['GRAND', 'U', 'CREW', 'BOAT', 'GLUE', 'YEW', 'SCOOP', 'EWE', 'BOWL', '8', 'M', 'K', 'V', 'THOU', 'YOU', 'TUESDAY']\n",
      "ACTUAL: [['EWE', 'U', 'YEW', 'YOU'], ['BOAT', 'CREW', 'SCOOP', 'V'], ['GRAND', 'K', 'M', 'THOU'], ['8', 'BOWL', 'GLUE', 'TUESDAY']]\n",
      "PREDICTED: [['TUESDAY', 'YOU', 'U', 'THOU'], ['GLUE', 'BOAT', '8', 'YEW'], ['GRAND', 'SCOOP', 'M', 'K'], ['CREW', 'EWE', 'BOWL', 'V']]\n"
     ]
    },
    {
     "name": "stderr",
     "output_type": "stream",
     "text": [
      "Evaluating:  68%|██████▊   | 44/65 [08:44<03:39, 10.46s/it]"
     ]
    },
    {
     "name": "stdout",
     "output_type": "stream",
     "text": [
      "WORDS: ['WORM', 'SIGNAL', 'CRASH', 'SUNRISE', 'SOS', 'ROOSTER', 'STAR', 'UMBRELLA', 'BUNK', 'TRIANGLE', 'STAY', 'ALARM', 'DEW', 'CIRCLE', 'FLARE', 'SLEEP']\n",
      "ACTUAL: [['ALARM', 'FLARE', 'SIGNAL', 'SOS'], ['BUNK', 'CRASH', 'SLEEP', 'STAY'], ['DEW', 'ROOSTER', 'SUNRISE', 'WORM'], ['CIRCLE', 'STAR', 'TRIANGLE', 'UMBRELLA']]\n",
      "PREDICTED: [['SOS', 'STAR', 'SIGNAL', 'SUNRISE'], ['WORM', 'ROOSTER', 'TRIANGLE', 'UMBRELLA'], ['FLARE', 'ALARM', 'CRASH', 'STAY'], ['DEW', 'CIRCLE', 'SLEEP', 'BUNK']]\n"
     ]
    },
    {
     "name": "stderr",
     "output_type": "stream",
     "text": [
      "Evaluating:  69%|██████▉   | 45/65 [08:50<03:03,  9.17s/it]"
     ]
    },
    {
     "name": "stdout",
     "output_type": "stream",
     "text": [
      "WORDS: ['HALTER', 'CORN', 'POLO', 'CRICKET', 'SQUASH', 'MANTIS', 'TANK', 'FENCING', 'CAMI', 'BEET', 'TERMITE', 'TEE', 'CARROT', 'BEETLE', 'ONION', 'ANT']\n",
      "ACTUAL: [['CRICKET', 'FENCING', 'POLO', 'SQUASH'], ['CAMI', 'HALTER', 'TANK', 'TEE'], ['BEET', 'CARROT', 'CORN', 'ONION'], ['ANT', 'BEETLE', 'MANTIS', 'TERMITE']]\n",
      "PREDICTED: [['CORN', 'CARROT', 'CAMI', 'BEET'], ['POLO', 'CRICKET', 'SQUASH', 'FENCING'], ['HALTER', 'TEE', 'MANTIS', 'ANT'], ['TERMITE', 'ONION', 'TANK', 'BEETLE']]\n"
     ]
    },
    {
     "name": "stderr",
     "output_type": "stream",
     "text": [
      "Evaluating:  71%|███████   | 46/65 [09:06<03:29, 11.04s/it]"
     ]
    },
    {
     "name": "stdout",
     "output_type": "stream",
     "text": [
      "WORDS: ['CURL', 'SHIP', 'MEDIA', 'LOCK', 'FLYING', 'TRESS', 'EXPOSURE', 'FLEA', 'ION', 'NESS', 'PUBLICITY', 'COVERAGE', 'FAMILY', 'RINGLET', 'DOM', 'PRESS']\n",
      "ACTUAL: [['CURL', 'LOCK', 'RINGLET', 'TRESS'], ['COVERAGE', 'EXPOSURE', 'PRESS', 'PUBLICITY'], ['DOM', 'ION', 'NESS', 'SHIP'], ['FAMILY', 'FLEA', 'FLYING', 'MEDIA']]\n",
      "PREDICTED: [['CURL', 'SHIP', 'MEDIA', 'LOCK'], ['FLYING', 'TRESS', 'ION', 'PRESS'], ['FLEA', 'NESS', 'RINGLET', 'DOM'], ['PUBLICITY', 'COVERAGE', 'FAMILY', 'EXPOSURE']]\n"
     ]
    },
    {
     "name": "stderr",
     "output_type": "stream",
     "text": [
      "Evaluating:  72%|███████▏  | 47/65 [09:21<03:40, 12.27s/it]"
     ]
    },
    {
     "name": "stdout",
     "output_type": "stream",
     "text": [
      "WORDS: ['HISTORY', 'COOKIES', 'DINNER', 'CACHE', 'LIBERTY', 'BAR', 'TURN', 'REVOLUTION', 'LAP', 'TINKER', 'CYCLE', 'FIREWORKS', 'SPARKS', 'ATTRACTION', 'DATA', 'CHEMISTRY']\n",
      "ACTUAL: [['ATTRACTION', 'CHEMISTRY', 'FIREWORKS', 'SPARKS'], ['CACHE', 'COOKIES', 'DATA', 'HISTORY'], ['CYCLE', 'LAP', 'TURN', 'REVOLUTION'], ['BAR', 'DINNER', 'LIBERTY', 'TINKER']]\n",
      "PREDICTED: [['HISTORY', 'DINNER', 'LAP', 'CACHE'], ['COOKIES', 'BAR', 'SPARKS', 'DATA'], ['REVOLUTION', 'FIREWORKS', 'TURN', 'CHEMISTRY'], ['LIBERTY', 'TINKER', 'CYCLE', 'ATTRACTION']]\n"
     ]
    },
    {
     "name": "stderr",
     "output_type": "stream",
     "text": [
      "Evaluating:  74%|███████▍  | 48/65 [09:36<03:42, 13.08s/it]"
     ]
    },
    {
     "name": "stdout",
     "output_type": "stream",
     "text": [
      "WORDS: ['INTERNET', 'DALMATIAN', 'DRYER', 'HORSESHOE', 'ROLLERS', 'DOMINO', 'LADYBUG', 'PHONE', 'RENT', 'COMB', 'DIE', 'GAS', 'HAIRSPRAY', 'FIDDLER', 'HERMIT', 'SPIDER']\n",
      "ACTUAL: [['COMB', 'DRYER', 'HAIRSPRAY', 'ROLLERS'], ['GAS', 'INTERNET', 'PHONE', 'RENT'], ['DALMATIAN', 'DIE', 'DOMINO', 'LADYBUG'], ['FIDDLER', 'HERMIT', 'HORSESHOE', 'SPIDER']]\n",
      "PREDICTED: [['COMB', 'HAIRSPRAY', 'DIE', 'PHONE'], ['DALMATIAN', 'FIDDLER', 'HERMIT', 'SPIDER'], ['DRYER', 'HORSESHOE', 'RENT', 'GAS'], ['DOMINO', 'INTERNET', 'LADYBUG', 'ROLLERS']]\n"
     ]
    },
    {
     "name": "stderr",
     "output_type": "stream",
     "text": [
      "Evaluating:  75%|███████▌  | 49/65 [09:51<03:39, 13.71s/it]"
     ]
    },
    {
     "name": "stdout",
     "output_type": "stream",
     "text": [
      "WORDS: ['KELVIN', 'AGENT', 'IMPLY', 'VERSE', 'COUCH', 'SUGGEST', 'POTASSIUM', 'SLEEPER', 'INTIMATE', 'THOUSAND', 'MOLE', 'FOOT', 'OKAY', 'LINE', 'ASSET', 'METER']\n",
      "ACTUAL: [['AGENT', 'ASSET', 'MOLE', 'SLEEPER'], ['FOOT', 'LINE', 'METER', 'VERSE'], ['COUCH', 'IMPLY', 'INTIMATE', 'SUGGEST'], ['KELVIN', 'OKAY', 'POTASSIUM', 'THOUSAND']]\n",
      "PREDICTED: [['AGENT', 'OKAY', 'VERSE', 'SUGGEST'], ['COUCH', 'FOOT', 'LINE', 'THOUSAND'], ['INTIMATE', 'KELVIN', 'METER', 'ASSET'], ['MOLE', 'POTTASSIUM', 'SLEEPER', 'LINE']]\n"
     ]
    },
    {
     "name": "stderr",
     "output_type": "stream",
     "text": [
      "Evaluating:  77%|███████▋  | 50/65 [10:06<03:31, 14.11s/it]"
     ]
    },
    {
     "name": "stdout",
     "output_type": "stream",
     "text": [
      "WORDS: ['RAISE', 'PLAZA', 'PROMOTION', 'DISCOUNT', 'EQUITY', 'BONUS', 'ELOISE', 'ANIMAL', 'OVERLOOK', 'PUG', 'TURTLE', 'FORGET', 'IGNORE', 'RITZ', 'GOLDFISH', 'CLUB']\n",
      "ACTUAL: [['BONUS', 'EQUITY', 'PROMOTION', 'RAISE'], ['DISCOUNT', 'FORGET', 'IGNORE', 'OVERLOOK'], ['ANIMAL', 'CLUB', 'GOLDFISH', 'RITZ'], ['ELOISE', 'PLAZA', 'PUG', 'TURTLE']]\n",
      "PREDICTED: []\n"
     ]
    },
    {
     "name": "stderr",
     "output_type": "stream",
     "text": [
      "Evaluating:  78%|███████▊  | 51/65 [10:09<02:31, 10.80s/it]"
     ]
    },
    {
     "name": "stdout",
     "output_type": "stream",
     "text": [
      "WORDS: ['RELISH', 'MORTAR', 'SHOEBOX', 'MOLTO', 'BRICK', 'BEAUCOUP', 'PICKLE', 'MICROWAVE', 'JENNY', 'ZEST', 'GUSTO', 'MULTI', 'LIME', 'FISH TANK', 'MUCHO', 'PASSION']\n",
      "ACTUAL: [['GUSTO', 'PASSION', 'RELISH', 'ZEST'], ['BEAUCOUP', 'MOLTO', 'MUCHO', 'MULTI'], ['BRICK', 'FISH TANK', 'MICROWAVE', 'SHOEBOX'], ['JENNY', 'LIME', 'MORTAR', 'PICKLE']]\n",
      "PREDICTED: [['FISH TANK', 'JENNY', 'LIME', 'PICKLE'], ['GUSTO', 'MOLTO', 'MUCHO', 'PASSION'], ['BRICK', 'MICROWAVE', 'MULTI', 'RELISH'], ['BEAUCOUP', 'SHOEBOX', 'ZEST', 'MORTAR']]\n"
     ]
    },
    {
     "name": "stderr",
     "output_type": "stream",
     "text": [
      "Evaluating:  80%|████████  | 52/65 [10:24<02:35, 11.92s/it]"
     ]
    },
    {
     "name": "stdout",
     "output_type": "stream",
     "text": [
      "WORDS: ['FRAGRANCE', 'BUCK', 'FUNK', 'BULL', 'SOUL', 'SCENT', 'BLUES', 'SCISSORS', 'AROMA', 'ROCK', 'BOUQUET', 'COUNTRY', 'JACK', 'SHOOT', 'PAPER', 'BOAR']\n",
      "ACTUAL: [['AROMA', 'BOUQUET', 'FRAGRANCE', 'SCENT'], ['BLUES', 'COUNTRY', 'FUNK', 'SOUL'], ['PAPER', 'ROCK', 'SCISSORS', 'SHOOT'], ['BOAR', 'BUCK', 'BULL', 'JACK']]\n",
      "PREDICTED: [['FRAGRANCE', 'SOUL', 'SCENT', 'AROMA'], ['BUCK', 'BOAR', 'ROCK', 'BOUQUET'], ['BULL', 'JACK', 'PAPER', 'SCISSORS'], ['FUNK', 'SHOOT', 'ROCK', 'PAPER']]\n"
     ]
    },
    {
     "name": "stderr",
     "output_type": "stream",
     "text": [
      "Evaluating:  82%|████████▏ | 53/65 [10:30<02:02, 10.21s/it]"
     ]
    },
    {
     "name": "stdout",
     "output_type": "stream",
     "text": [
      "WORDS: ['GLITTER', 'TEASE', 'ROD', 'GOOSE', 'CANADIEN', 'CELTIC', 'DOODLE', 'PACKER', 'CURL', 'PAPER', 'CRIMP', 'MACARONI', 'YANKEE', 'FEATHER', 'GLUE', 'PARACHUTE']\n",
      "ACTUAL: [['CANADIEN', 'CELTIC', 'PACKER', 'YANKEE'], ['CRIMP', 'CURL', 'FEATHER', 'TEASE'], ['GLITTER', 'GLUE', 'MACARONI', 'PAPER'], ['DOODLE', 'GOOSE', 'PARACHUTE', 'ROD']]\n",
      "PREDICTED: [['GLITTER', 'TEASE', 'GLUE', 'CURL'], ['GLITTER', 'ROD', 'PAPER', 'GLUE'], ['MACARONI', 'DOODLE', 'FEATHER', 'PAPER'], ['CANADIEN', 'CELTIC', 'PACKER', 'PARACHUTE']]\n"
     ]
    },
    {
     "name": "stderr",
     "output_type": "stream",
     "text": [
      "Evaluating:  83%|████████▎ | 54/65 [10:45<02:08, 11.67s/it]"
     ]
    },
    {
     "name": "stdout",
     "output_type": "stream",
     "text": [
      "WORDS: ['GONE', 'PUNK', 'EXPONENT', 'VALUE', 'JOCK', 'CHAMPION', 'ABSENT', 'GOTH', 'WAVE', 'GLAM', 'ELSEWHERE', 'MIA', 'METAL', 'CHEERLEADER', 'ADVOCATE', 'HORROR']\n",
      "ACTUAL: [['ABSENT', 'ELSEWHERE', 'GONE', 'MIA'], ['ADVOCATE', 'CHAMPION', 'CHEERLEADER', 'EXPONENT'], ['GLAM', 'GOTH', 'METAL', 'PUNK'], ['HORROR', 'JOCK', 'VALUE', 'WAVE']]\n",
      "PREDICTED: [['GONE', 'ABSENT', 'PUNK', 'GOTH'], ['JOCK', 'CHAMPION', 'CHEERLEADER', 'METAL'], ['VALUE', 'EXPONENT', 'GLAM', 'ADVOCATE'], ['ELSEWHERE', 'MIA', 'ELSEWHERE', 'HORROR']]\n"
     ]
    },
    {
     "name": "stderr",
     "output_type": "stream",
     "text": [
      "Evaluating:  85%|████████▍ | 55/65 [11:00<02:06, 12.70s/it]"
     ]
    },
    {
     "name": "stdout",
     "output_type": "stream",
     "text": [
      "WORDS: ['DRIFT', 'STRAP', 'LEAVE', 'WHOLLY', 'HOLLY', 'RECESS', 'BUCKLE', 'SANDAL', 'DOG', 'HOLE', 'HOLIDAY', 'HOLEY', 'BREAK', 'HOLI', 'LOOP', 'HOLY']\n",
      "ACTUAL: [['BREAK', 'HOLIDAY', 'LEAVE', 'RECESS'], ['BUCKLE', 'HOLE', 'LOOP', 'STRAP'], ['HOLEY', 'HOLI', 'HOLY', 'WHOLLY'], ['DOG', 'DRIFT', 'HOLLY', 'SANDAL']]\n",
      "PREDICTED: [['CHIEF', 'EXEC', 'PRESIDENT', 'COUNCIL'], ['CLERK', 'BOARD', 'COMMISSION', 'ROWER'], ['TRAIL', 'TRAILER', 'ROWER', 'ROW'], ['RIVER', 'ROWER', 'ROWER', 'ROWER']]\n"
     ]
    },
    {
     "name": "stderr",
     "output_type": "stream",
     "text": [
      "Evaluating:  86%|████████▌ | 56/65 [11:15<02:01, 13.48s/it]"
     ]
    },
    {
     "name": "stdout",
     "output_type": "stream",
     "text": [
      "WORDS: ['PICNIC', 'BLANKET', 'BOOT', 'GENERAL', 'GASP', 'HEAVE', 'ABC', 'ARS', 'BREEZE', 'UMBRELLA', 'RUM', 'BROAD', 'BUT', 'PUFF', 'PANT', 'PIE']\n",
      "ACTUAL: [['GASP', 'HEAVE', 'PANT', 'PUFF'], ['BLANKET', 'BROAD', 'GENERAL', 'UMBRELLA'], ['ABC', 'BREEZE', 'PICNIC', 'PIE'], ['ARS', 'BOOT', 'BUT', 'RUM']]\n",
      "PREDICTED: [['PICNIC', 'BLANKET', 'BOOT', 'ABC'], ['GASP', 'HEAVE', 'RUM', 'BUT'], ['BREEZE', 'UMBRELLA', 'BROAD', 'PANT'], ['GENERAL', 'ARS', 'PIE', 'PUFF']]\n"
     ]
    },
    {
     "name": "stderr",
     "output_type": "stream",
     "text": [
      "Evaluating:  88%|████████▊ | 57/65 [11:21<01:30, 11.26s/it]"
     ]
    },
    {
     "name": "stdout",
     "output_type": "stream",
     "text": [
      "WORDS: ['FE', 'PI', 'HE', 'ME', 'NA', 'NU', 'TI', 'FA', 'MU', 'PA', 'CO', 'LA', 'NI', 'MA', 'DO', 'XI']\n",
      "ACTUAL: [['CO', 'MA', 'ME', 'PA'], ['DO', 'FA', 'LA', 'TI'], ['MU', 'NU', 'PI', 'XI'], ['FE', 'HE', 'NA', 'NI']]\n",
      "PREDICTED: [['FE', 'NA', 'MU', 'NI'], ['PI', 'CO', 'MU', 'TI'], ['HE', 'LA', 'MA', 'XI'], ['ME', 'PA', 'DO', 'FA']]\n"
     ]
    },
    {
     "name": "stderr",
     "output_type": "stream",
     "text": [
      "Evaluating:  89%|████████▉ | 58/65 [11:36<01:26, 12.36s/it]"
     ]
    },
    {
     "name": "stdout",
     "output_type": "stream",
     "text": [
      "WORDS: ['CUMIN', 'SUGAR', 'SWEETIE', 'PEGASUS', 'BIRD', 'HONEY', 'AIRPLANE', 'ANGEL', 'SCARY', 'POSH', 'GINGER', 'BOO', 'CARDAMOM', 'BABY', 'CLOVE', 'CORIANDER']\n",
      "ACTUAL: [['CARDAMOM', 'CLOVE', 'CORIANDER', 'CUMIN'], ['BOO', 'HONEY', 'SUGAR', 'SWEETIE'], ['AIRPLANE', 'ANGEL', 'BIRD', 'PEGASUS'], ['BABY', 'GINGER', 'POSH', 'SCARY']]\n",
      "PREDICTED: [['CUMIN', 'CARDAMOM', 'CORIANDER', 'GINGER'], ['SUGAR', 'HONEY', 'PEGSUS', 'POSH'], ['BIRD', 'BOO', 'SCARY', 'BABY'], ['AIRPLANE', 'ANGEL', 'CLOVE', 'SWEETIE']]\n"
     ]
    },
    {
     "name": "stderr",
     "output_type": "stream",
     "text": [
      "Evaluating:  91%|█████████ | 59/65 [11:51<01:18, 13.14s/it]"
     ]
    },
    {
     "name": "stdout",
     "output_type": "stream",
     "text": [
      "WORDS: ['DRAGON', 'CATERPILLAR', 'MARKER', 'CARPET', 'PIPE CLEANER', 'MUSHROOM', 'CLAM', 'EGG', 'NUT', 'FLEECE', 'DONKEY', 'PEACH', 'OGRE', 'KINGDOM', 'PRINCESS', 'TURTLE']\n",
      "ACTUAL: [['CATERPILLAR', 'FLEECE', 'PEACH', 'PIPE CLEANER'], ['CLAM', 'EGG', 'NUT', 'TURTLE'], ['DONKEY', 'DRAGON', 'OGRE', 'PRINCESS'], ['CARPET', 'KINGDOM', 'MARKER', 'MUSHROOM']]\n",
      "PREDICTED: [['HAIL', 'RAIN', 'SLEET', 'SNOW'], ['BUCKS', 'HEAT', 'JAZZ', 'NETS'], ['OPTION', 'RETURN', 'SHIFT', 'TAB'], ['KAYAK', 'LEVEL', 'MOM', 'RACECAR']]\n"
     ]
    },
    {
     "name": "stderr",
     "output_type": "stream",
     "text": [
      "Evaluating:  92%|█████████▏| 60/65 [12:04<01:05, 13.15s/it]"
     ]
    },
    {
     "name": "stdout",
     "output_type": "stream",
     "text": [
      "WORDS: ['BROWN', 'PRINCE', 'STONE', 'BARLEY', 'EARL', 'BARON', 'HOWARD', 'LEE', 'SPELT', 'DUKE', 'RYE', 'OAT', 'FORD', 'BONG', 'KING', 'RICE']\n",
      "ACTUAL: [['BARLEY', 'OAT', 'RYE', 'SPELT'], ['BARON', 'EARL', 'KING', 'PRINCE'], ['BROWN', 'DUKE', 'HOWARD', 'RICE'], ['BONG', 'FORD', 'LEE', 'STONE']]\n",
      "PREDICTED: [['BROWN', 'PRINCE', 'STONE', 'BARLEY'], ['BARON', 'BONG', 'DUKE', 'FORD'], ['HOWARD', 'RYE', 'OAT', 'SPLET'], ['EARL', 'KING', 'LEE', 'BONG']]\n"
     ]
    },
    {
     "name": "stderr",
     "output_type": "stream",
     "text": [
      "Evaluating:  94%|█████████▍| 61/65 [12:20<00:54, 13.72s/it]"
     ]
    },
    {
     "name": "stdout",
     "output_type": "stream",
     "text": [
      "WORDS: ['FLASH', 'PARK', 'ELEVENTH', 'SECOND', 'MADISON', 'AMATEUR', 'HAPPY', 'WINK', 'PRINCIPAL', 'FIRST', 'BROADWAY', 'MAIN', 'RUSH', 'CHIEF', 'JIFFY', 'FIFTH']\n",
      "ACTUAL: [['FLASH', 'JIFFY', 'SECOND', 'WINK'], ['CHIEF', 'FIRST', 'MAIN', 'PRINCIPAL'], ['BROADWAY', 'FIFTH', 'MADISON', 'PARK'], ['AMATEUR', 'ELEVENTH', 'HAPPY', 'RUSH']]\n",
      "PREDICTED: [['ELEVENTH', 'FIRST', 'JIFFY', 'RUSH'], ['AMATEUR', 'MADISON', 'MAIN', 'PRINCIPAL'], ['BROADWAY', 'FLASH', 'HAPPY', 'WINK'], ['CHIEF', 'FIFTH', 'PARK', 'SECOND']]\n"
     ]
    },
    {
     "name": "stderr",
     "output_type": "stream",
     "text": [
      "Evaluating:  95%|█████████▌| 62/65 [12:35<00:42, 14.17s/it]"
     ]
    },
    {
     "name": "stdout",
     "output_type": "stream",
     "text": [
      "WORDS: ['SENTENCE', 'PASSAGE', 'RECORDER', 'LETTER', 'SANDS', 'WHISTLE', 'PIPE', 'WASTE', 'CRACK', 'LEAK', 'PHRASE', 'HOLE', 'PUNCTURE', 'JUG', 'WORD', 'NICK']\n",
      "ACTUAL: [['CRACK', 'HOLE', 'LEAK', 'PUNCTURE'], ['LETTER', 'PHRASE', 'SENTENCE', 'WORD'], ['JUG', 'PIPE', 'RECORDER', 'WHISTLE'], ['NICK', 'PASSAGE', 'SANDS', 'WASTE']]\n",
      "PREDICTED: [['LETTER', 'WORD', 'PHRASE', 'SENTENCE'], ['PASSAGE', 'RECORDER', 'WHISTLE', 'SANDS'], ['PIPE', 'WASTE', 'LEAK', 'HOLE'], ['JUG', 'CRACK', 'NICK', 'PUNCTURE']]\n"
     ]
    },
    {
     "name": "stderr",
     "output_type": "stream",
     "text": [
      "Evaluating:  97%|█████████▋| 63/65 [12:50<00:28, 14.46s/it]"
     ]
    },
    {
     "name": "stdout",
     "output_type": "stream",
     "text": [
      "WORDS: ['MAGNUM', 'SHAFT', 'FAT', 'POLLEN', 'SPONGE', 'TRACY', 'PEPPER', 'BROOM', 'DUST', 'MONK', 'SALT', 'RAG', 'SMOKE', 'ACID', 'HEAT', 'MOP']\n",
      "ACTUAL: [['BROOM', 'MOP', 'RAG', 'SPONGE'], ['SALT', 'FAT', 'ACID', 'HEAT'], ['DUST', 'PEPPER', 'POLLEN', 'SMOKE'], ['MAGNUM', 'MONK', 'SHAFT', 'TRACY']]\n",
      "PREDICTED: [['FAT', 'PEPPER', 'SMOKE', 'SPONGE'], ['ACID', 'DUST', 'MAGNUM', 'MOP'], ['HEAT', 'HAIL', 'MONK', 'RAIN'], ['SALT', 'SHAFT', 'TRACY', 'TRUSS']]\n"
     ]
    },
    {
     "name": "stderr",
     "output_type": "stream",
     "text": [
      "Evaluating:  98%|█████████▊| 64/65 [12:56<00:11, 11.99s/it]"
     ]
    },
    {
     "name": "stdout",
     "output_type": "stream",
     "text": [
      "WORDS: ['CHAIN', 'RUFFLE', 'SPOOL', 'SWING', 'ROCKER', 'CRADLE', 'THROW', 'FAZE', 'CONVERSATION', 'ROLLER', 'CHAT', 'THREAD', 'RATTLE', 'SILO', 'CAN', 'HAMMOCK']\n",
      "ACTUAL: [['FAZE', 'RATTLE', 'RUFFLE', 'THROW'], ['CHAIN', 'CHAT', 'CONVERSATION', 'THREAD'], ['CRADLE', 'HAMMOCK', 'ROCKER', 'SWING'], ['CAN', 'ROLLER', 'SILO', 'SPOOL']]\n",
      "PREDICTED: [['HAIL', 'RAIN', 'SLEET', 'SNOW'], ['BUCKS', 'HEAT', 'JAZZ', 'NETS'], ['OPTION', 'RETURN', 'SHIFT', 'TAB'], ['KAYAK', 'LEVEL', 'MOM', 'RACECAR']]\n"
     ]
    },
    {
     "name": "stderr",
     "output_type": "stream",
     "text": [
      "Evaluating: 100%|██████████| 65/65 [13:00<00:00, 12.01s/it]"
     ]
    },
    {
     "name": "stdout",
     "output_type": "stream",
     "text": [
      "WORDS: ['COFFEE', 'PERIODIC', 'POOL', 'STEADY', 'DIG', 'PREMIUM', 'PLUS', 'LOVER', 'JAB', 'BURN', 'WATER', 'SLIGHT', 'DIESEL', 'FLAME', 'SWEETHEART', 'REGULAR']\n",
      "ACTUAL: [['FLAME', 'LOVER', 'STEADY', 'SWEETHEART'], ['BURN', 'DIG', 'JAB', 'SLIGHT'], ['DIESEL', 'PLUS', 'PREMIUM', 'REGULAR'], ['COFFEE', 'PERIODIC', 'POOL', 'WATER']]\n",
      "PREDICTED: [['COFFEE', 'POOL', 'PERIODIC', 'PREMIUM'], ['DIG', 'JAB', 'PLUS', 'REGULAR'], ['WATER', 'SWEETHEART', 'STEADY', 'SLIGHT'], ['BURN', 'DIESEL', 'FLAME', 'LOVER']]\n",
      "Success Rate: 0.07692307692307693\n",
      "Purity: 0.4032805429864253\n"
     ]
    },
    {
     "name": "stderr",
     "output_type": "stream",
     "text": [
      "\n"
     ]
    }
   ],
   "source": [
    "from tqdm import tqdm\n",
    "import ast\n",
    "import re\n",
    "\n",
    "def extract_last_answer(response):\n",
    "    try:\n",
    "        all_answers = re.findall(r\"<answer>(.*?)</answer>\", response, re.DOTALL)\n",
    "        if not all_answers:\n",
    "            return []\n",
    "        return ast.literal_eval(all_answers[-1].strip())\n",
    "    except Exception:\n",
    "        return []\n",
    "\n",
    "predicted_clusters = []\n",
    "actual_clusters = []\n",
    "\n",
    "for idx, row in tqdm(df.iterrows(), total=len(df), desc=\"Evaluating\"):\n",
    "    response = llm_output(row[\"parsed_question\"])\n",
    "    predicted = extract_last_answer(response)\n",
    "\n",
    "    predicted_clusters.append(predicted)\n",
    "    actual_clusters.append(row[\"parsed_answers\"])\n",
    "\n",
    "    print(\"WORDS:\", row['parsed_question'])\n",
    "    print(\"ACTUAL:\", row['parsed_answers'])\n",
    "    print(\"PREDICTED:\", predicted)\n",
    "\n",
    "succ_rate, purity = evaluation(actual_clusters, predicted_clusters)\n",
    "print(\"Success Rate:\", succ_rate)\n",
    "print(\"Purity:\", purity)\n"
   ]
  },
  {
   "cell_type": "code",
   "execution_count": null,
   "id": "49777506-5857-4887-bf16-cf470b19a4ae",
   "metadata": {},
   "outputs": [],
   "source": []
  }
 ],
 "metadata": {
  "kernelspec": {
   "display_name": "venv",
   "language": "python",
   "name": "venv"
  },
  "language_info": {
   "codemirror_mode": {
    "name": "ipython",
    "version": 3
   },
   "file_extension": ".py",
   "mimetype": "text/x-python",
   "name": "python",
   "nbconvert_exporter": "python",
   "pygments_lexer": "ipython3",
   "version": "3.11.9"
  }
 },
 "nbformat": 4,
 "nbformat_minor": 5
}
