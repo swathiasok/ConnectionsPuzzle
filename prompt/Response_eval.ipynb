{
 "cells": [
  {
   "cell_type": "code",
   "execution_count": 1,
   "id": "5426e798-a8e2-4143-8214-2b7ad1ceb76c",
   "metadata": {},
   "outputs": [],
   "source": [
    "import pandas as pd\n",
    "import requests\n",
    "import random\n",
    "from tqdm import tqdm\n",
    "from sklearn.model_selection import train_test_split\n",
    "from collections import Counter\n",
    "import numpy as np\n",
    "import os\n",
    "import ast"
   ]
  },
  {
   "cell_type": "code",
   "execution_count": 2,
   "id": "b72bfa11-5589-47f1-81b1-03aa19ddc1fa",
   "metadata": {},
   "outputs": [
    {
     "name": "stdout",
     "output_type": "stream",
     "text": [
      "🦥 Unsloth: Will patch your computer to enable 2x faster free finetuning.\n"
     ]
    },
    {
     "name": "stderr",
     "output_type": "stream",
     "text": [
      "2025-04-21 20:19:44.779046: E external/local_xla/xla/stream_executor/cuda/cuda_fft.cc:467] Unable to register cuFFT factory: Attempting to register factory for plugin cuFFT when one has already been registered\n",
      "WARNING: All log messages before absl::InitializeLog() is called are written to STDERR\n",
      "E0000 00:00:1745291984.797516  749656 cuda_dnn.cc:8579] Unable to register cuDNN factory: Attempting to register factory for plugin cuDNN when one has already been registered\n",
      "E0000 00:00:1745291984.803370  749656 cuda_blas.cc:1407] Unable to register cuBLAS factory: Attempting to register factory for plugin cuBLAS when one has already been registered\n",
      "W0000 00:00:1745291984.818072  749656 computation_placer.cc:177] computation placer already registered. Please check linkage and avoid linking the same target more than once.\n",
      "W0000 00:00:1745291984.818086  749656 computation_placer.cc:177] computation placer already registered. Please check linkage and avoid linking the same target more than once.\n",
      "W0000 00:00:1745291984.818088  749656 computation_placer.cc:177] computation placer already registered. Please check linkage and avoid linking the same target more than once.\n",
      "W0000 00:00:1745291984.818090  749656 computation_placer.cc:177] computation placer already registered. Please check linkage and avoid linking the same target more than once.\n",
      "2025-04-21 20:19:44.822776: I tensorflow/core/platform/cpu_feature_guard.cc:210] This TensorFlow binary is optimized to use available CPU instructions in performance-critical operations.\n",
      "To enable the following instructions: AVX2 AVX512F FMA, in other operations, rebuild TensorFlow with the appropriate compiler flags.\n"
     ]
    },
    {
     "name": "stdout",
     "output_type": "stream",
     "text": [
      "🦥 Unsloth Zoo will now patch everything to make training faster!\n",
      "INFO 04-21 20:19:51 __init__.py:190] Automatically detected platform cuda.\n",
      "==((====))==  Unsloth 2025.3.19: Fast Llama patching. Transformers: 4.49.0. vLLM: 0.7.2.\n",
      "   \\\\   /|    Tesla V100-PCIE-32GB. Num GPUs = 1. Max memory: 31.733 GB. Platform: Linux.\n",
      "O^O/ \\_/ \\    Torch: 2.5.1+cu124. CUDA: 7.0. CUDA Toolkit: 12.4. Triton: 3.1.0\n",
      "\\        /    Bfloat16 = FALSE. FA [Xformers = 0.0.28.post3. FA2 = False]\n",
      " \"-____-\"     Free license: http://github.com/unslothai/unsloth\n",
      "Unsloth: Fast downloading is enabled - ignore downloading bars which are red colored!\n",
      "Unsloth: Your GPU does not support prefix caching - will disable!\n",
      "Unsloth: vLLM loading unsloth/llama-3.2-3b-instruct-unsloth-bnb-4bit with actual GPU utilization = 89.03%\n",
      "Unsloth: Your GPU has CUDA compute capability 7.0 with VRAM = 31.73 GB.\n",
      "Unsloth: Using conservativeness = 1.0. Chunked prefill tokens = 2048. Num Sequences = 320.\n",
      "Unsloth: vLLM's KV Cache can use up to 25.85 GB. Also swap space = 6 GB.\n",
      "WARNING 04-21 20:19:58 config.py:2386] Casting torch.bfloat16 to torch.float16.\n",
      "INFO 04-21 20:20:09 config.py:542] This model supports multiple tasks: {'reward', 'score', 'generate', 'embed', 'classify'}. Defaulting to 'generate'.\n",
      "Unsloth: vLLM Bitsandbytes config using kwargs = {'load_in_8bit': False, 'load_in_4bit': True, 'bnb_4bit_compute_dtype': 'float16', 'bnb_4bit_quant_storage': 'uint8', 'bnb_4bit_quant_type': 'nf4', 'bnb_4bit_use_double_quant': True, 'llm_int8_enable_fp32_cpu_offload': False, 'llm_int8_has_fp16_weight': False, 'llm_int8_skip_modules': ['lm_head', 'multi_modal_projector', 'merger', 'modality_projection', 'model.layers.1.mlp'], 'llm_int8_threshold': 6.0}\n",
      "INFO 04-21 20:20:10 llm_engine.py:234] Initializing a V0 LLM engine (v0.7.2) with config: model='unsloth/llama-3.2-3b-instruct-unsloth-bnb-4bit', speculative_config=None, tokenizer='unsloth/llama-3.2-3b-instruct-unsloth-bnb-4bit', skip_tokenizer_init=False, tokenizer_mode=auto, revision=None, override_neuron_config=None, tokenizer_revision=None, trust_remote_code=False, dtype=torch.float16, max_seq_len=2048, download_dir=None, load_format=LoadFormat.BITSANDBYTES, tensor_parallel_size=1, pipeline_parallel_size=1, disable_custom_all_reduce=False, quantization=bitsandbytes, enforce_eager=False, kv_cache_dtype=auto,  device_config=cuda:0, decoding_config=DecodingConfig(guided_decoding_backend='xgrammar'), observability_config=ObservabilityConfig(otlp_traces_endpoint=None, collect_model_forward_time=False, collect_model_execute_time=False), seed=0, served_model_name=unsloth/llama-3.2-3b-instruct-unsloth-bnb-4bit, num_scheduler_steps=1, multi_step_stream_outputs=True, enable_prefix_caching=False, chunked_prefill_enabled=False, use_async_output_proc=True, disable_mm_preprocessor_cache=False, mm_processor_kwargs=None, pooler_config=None, compilation_config={\"level\":0,\"splitting_ops\":[],\"compile_sizes\":[],\"cudagraph_capture_sizes\":[320,312,304,296,288,280,272,264,256,248,240,232,224,216,208,200,192,184,176,168,160,152,144,136,128,120,112,104,96,88,80,72,64,56,48,40,32,24,16,8,4,2,1],\"max_capture_size\":320}, use_cached_outputs=False, \n",
      "INFO 04-21 20:20:11 cuda.py:179] Cannot use FlashAttention-2 backend for Volta and Turing GPUs.\n",
      "INFO 04-21 20:20:11 cuda.py:227] Using XFormers backend.\n",
      "INFO 04-21 20:20:12 model_runner.py:1110] Starting to load model unsloth/llama-3.2-3b-instruct-unsloth-bnb-4bit...\n",
      "INFO 04-21 20:20:12 loader.py:1102] Loading weights with BitsAndBytes quantization.  May take a while ...\n"
     ]
    },
    {
     "name": "stderr",
     "output_type": "stream",
     "text": [
      "[W421 20:20:12.018379907 CUDAAllocatorConfig.h:28] Warning: expandable_segments not supported on this platform (function operator())\n"
     ]
    },
    {
     "name": "stdout",
     "output_type": "stream",
     "text": [
      "INFO 04-21 20:20:13 weight_utils.py:252] Using model weights format ['*.safetensors']\n"
     ]
    },
    {
     "data": {
      "application/vnd.jupyter.widget-view+json": {
       "model_id": "ebcc353fa5284c3f82059c0adc08bbba",
       "version_major": 2,
       "version_minor": 0
      },
      "text/plain": [
       "Loading safetensors checkpoint shards:   0% Completed | 0/1 [00:00<?, ?it/s]\n"
      ]
     },
     "metadata": {},
     "output_type": "display_data"
    },
    {
     "data": {
      "application/vnd.jupyter.widget-view+json": {
       "model_id": "0a32c9fde89e4beea8a73b622e966d85",
       "version_major": 2,
       "version_minor": 0
      },
      "text/plain": [
       "Loading safetensors checkpoint shards:   0% Completed | 0/1 [00:00<?, ?it/s]\n"
      ]
     },
     "metadata": {},
     "output_type": "display_data"
    },
    {
     "name": "stdout",
     "output_type": "stream",
     "text": [
      "INFO 04-21 20:20:15 model_runner.py:1115] Loading model weights took 2.2405 GB\n",
      "INFO 04-21 20:20:15 punica_selector.py:18] Using PunicaWrapperGPU.\n",
      "INFO 04-21 20:20:17 worker.py:267] Memory profiling takes 2.13 seconds\n",
      "INFO 04-21 20:20:17 worker.py:267] the current vLLM instance can use total_gpu_memory (31.73GiB) x gpu_memory_utilization (0.89) = 28.25GiB\n",
      "INFO 04-21 20:20:17 worker.py:267] model weights take 2.24GiB; non_torch_memory takes 0.07GiB; PyTorch activation peak memory takes 1.49GiB; the rest of the memory reserved for KV Cache is 24.45GiB.\n",
      "INFO 04-21 20:20:18 executor_base.py:110] # CUDA blocks: 14309, # CPU blocks: 3510\n",
      "INFO 04-21 20:20:18 executor_base.py:115] Maximum concurrency for 2048 tokens per request: 111.79x\n",
      "INFO 04-21 20:20:21 model_runner.py:1434] Capturing cudagraphs for decoding. This may lead to unexpected consequences if the model is not static. To run the model in eager mode, set 'enforce_eager=True' or use '--enforce-eager' in the CLI. If out-of-memory error occurs during cudagraph capture, consider decreasing `gpu_memory_utilization` or switching to eager mode. You can also reduce the `max_num_seqs` as needed to decrease memory usage.\n"
     ]
    },
    {
     "name": "stderr",
     "output_type": "stream",
     "text": [
      "Capturing CUDA graph shapes: 100%|██████████| 43/43 [00:43<00:00,  1.00s/it]"
     ]
    },
    {
     "name": "stdout",
     "output_type": "stream",
     "text": [
      "INFO 04-21 20:21:04 model_runner.py:1562] Graph capturing finished in 43 secs, took 0.76 GiB\n",
      "INFO 04-21 20:21:04 llm_engine.py:431] init engine (profile, create kv cache, warmup model) took 49.58 seconds\n"
     ]
    },
    {
     "name": "stderr",
     "output_type": "stream",
     "text": [
      "\n",
      "Unsloth 2025.3.19 patched 28 layers with 28 QKV layers, 28 O layers and 28 MLP layers.\n"
     ]
    }
   ],
   "source": [
    "from unsloth import FastLanguageModel, is_bfloat16_supported\n",
    "from transformers import AutoModelForCausalLM, AutoTokenizer\n",
    "import torch\n",
    "\n",
    "max_seq_length = 2048\n",
    "lora_rank       = 8\n",
    "\n",
    "model, tokenizer = FastLanguageModel.from_pretrained(\n",
    "    model_name            = 'grpo_saved_lora_3B',\n",
    "    max_seq_length        = max_seq_length,\n",
    "    load_in_4bit          = True,    # 4‑bit base + LoRA\n",
    "    fast_inference        = True,\n",
    "    max_lora_rank         = lora_rank,\n",
    "    gpu_memory_utilization= 0.9,\n",
    ")"
   ]
  },
  {
   "cell_type": "code",
   "execution_count": 11,
   "id": "b6ff5cef-ba6d-490e-85e1-9ec61bb5a5d0",
   "metadata": {},
   "outputs": [],
   "source": [
    "# PROMPTING FUNCTION\n",
    "def llm_output(words):\n",
    "  prompt = '''You are playing the NY Times Connections game. Your task is to categorize 16 given words into exactly 4 groups of 4 words each, based on shared common themes.\n",
    "\n",
    "Solve the puzzle using these clear steps:\n",
    "\n",
    "1. THINK STEP-BY-STEP: Begin by carefully analyzing the words within <thinking> tags. Identify their meanings, relationships, and possible groupings logically.\n",
    "Example:\n",
    "<thinking>To solve this, I will first look for obvious groupings like NBA teams, palindrome words, weather-related words, or computer keys. Then, I'll group these words accordingly and ensure each word belongs to exactly one group.</thinking>\n",
    "\n",
    "2. PROVIDE FINAL ANSWER: After clearly grouping and justifying all four sets, provide ONLY your final solution within <answer> tags. Format your solution exactly as shown below.\n",
    "\n",
    "Example:\n",
    "<answer>\n",
    "[['HAIL', 'RAIN', 'SLEET', 'SNOW'],\n",
    " ['BUCKS', 'HEAT', 'JAZZ', 'NETS'],\n",
    " ['OPTION', 'RETURN', 'SHIFT', 'TAB'],\n",
    " ['KAYAK', 'LEVEL', 'MOM', 'RACECAR']]\n",
    "</answer>\n",
    "\n",
    "Important Notes:\n",
    "- Categories should be specific\n",
    "- Words cannot appear in more than one group.\n",
    "- Categories can include compound words, shared prefixes/suffixes, pop culture references, or common phrases.\n",
    "- DO NOT ADD NEW WORDS THAT ARE NOT MENTIONED IN THE QUESTION. USE ONLY WORDS MENTIONED AND GROUP THEM\n",
    "\n",
    "Here is an example:\n",
    "\n",
    "USER: [BUCKS, HAIL, JAZZ, SHIFT, LEVEL, MOM, SNOW, RACECAR, SLEET, TAB, KAYAK, RETURN, OPTION, NETS, RAIN, HEAT]\n",
    "\n",
    "<answer>\n",
    "[['HAIL', 'RAIN', 'SLEET', 'SNOW'],\n",
    " ['BUCKS', 'HEAT', 'JAZZ', 'NETS'],\n",
    " ['OPTION', 'RETURN', 'SHIFT', 'TAB'],\n",
    " ['KAYAK', 'LEVEL', 'MOM', 'RACECAR']]\n",
    "</answer>\n",
    "\n",
    "Explanation:\n",
    "- WEATHER TERMS: 'HAIL', 'RAIN', 'SLEET', 'SNOW'\n",
    "- NBA TEAMS: 'BUCKS', 'HEAT', 'JAZZ', 'NETS'\n",
    "- KEYBOARD KEYS: 'OPTION', 'RETURN', 'SHIFT', 'TAB'\n",
    "- PALINDROMES: 'KAYAK', 'LEVEL', 'MOM', 'RACECAR'\n",
    "Give the answer for the following set of words -''' + str(words)\n",
    "\n",
    "  inputs = tokenizer(prompt, return_tensors=\"pt\").to(model.device)\n",
    "\n",
    "  output_ids = model.generate(**inputs, max_length=1024, temperature=0.7, do_sample=True)\n",
    "\n",
    "  response = tokenizer.decode(output_ids[0], skip_special_tokens=True)\n",
    "\n",
    "  # print(\"\\nResponse:\", response)\n",
    "  return response"
   ]
  },
  {
   "cell_type": "code",
   "execution_count": 16,
   "id": "cb260286-9033-4100-b022-e9cd14fb3853",
   "metadata": {},
   "outputs": [],
   "source": [
    "# EVALUATION FUNCTION\n",
    "def evaluation_scores(actual_clusters, predicted_clusters):\n",
    "  if len(actual_clusters) == 0 or len(predicted_clusters) == 0:\n",
    "    return 0\n",
    "  score_matrix = np.zeros((len(actual_clusters), len(predicted_clusters)))\n",
    "  jacc_similarity_score = 0\n",
    "\n",
    "  # Evauating jaccard matching between each pair of sets\n",
    "  for actual_idx in range(4):\n",
    "    for predicted_idx in range(4):\n",
    "      actual_group = actual_clusters[actual_idx]\n",
    "      predicted_group = predicted_clusters[predicted_idx]\n",
    "      score_matrix[actual_idx, predicted_idx] = len(set(actual_group) & set(predicted_group)) / len(set(actual_group) | set(predicted_group))\n",
    "\n",
    "  # Success Rate\n",
    "  succ_rate = np.sum(np.array(score_matrix) == 1.0)\n",
    "\n",
    "  total_words = sum(len(cluster) for cluster in predicted_clusters)  # Should be 16 in this case\n",
    "  max_overlaps = 0\n",
    "  for pred_cluster in predicted_clusters:\n",
    "      overlap_counts = Counter()\n",
    "      for true_cluster in actual_clusters:\n",
    "          overlap_counts[tuple(true_cluster)] = len(set(pred_cluster) & set(true_cluster))\n",
    "\n",
    "      max_overlaps += max(overlap_counts.values())  # Take the largest overlap for each predicted cluster\n",
    "  # print(\"SUCCESS RATE: \", succ_rate)\n",
    "  return succ_rate , max_overlaps / total_words\n",
    "\n",
    "def evaluation(actual_clusters_set, predicted_clusters_set):\n",
    "  succ_rate = 0\n",
    "  purity = 0\n",
    "  num_samples = 0\n",
    "  for actual_clusters, predicted_clusters in zip(actual_clusters_set, predicted_clusters_set):\n",
    "    num_samples += 1\n",
    "    # print(\"ACTUAL CLUSTER:\",actual_clusters, \" \\nPREDICTED CLUSTER: \", predicted_clusters, \"\\n\")\n",
    "    val1, val2 = evaluation_scores(actual_clusters, predicted_clusters)\n",
    "    succ_rate += val1\n",
    "    purity += val2\n",
    "  print(num_samples)\n",
    "  return succ_rate/num_samples, purity/num_samples"
   ]
  },
  {
   "cell_type": "code",
   "execution_count": 17,
   "id": "691c7be3-515a-4637-8fd4-1df0ce5bb349",
   "metadata": {},
   "outputs": [
    {
     "data": {
      "text/html": [
       "<div>\n",
       "<style scoped>\n",
       "    .dataframe tbody tr th:only-of-type {\n",
       "        vertical-align: middle;\n",
       "    }\n",
       "\n",
       "    .dataframe tbody tr th {\n",
       "        vertical-align: top;\n",
       "    }\n",
       "\n",
       "    .dataframe thead th {\n",
       "        text-align: right;\n",
       "    }\n",
       "</style>\n",
       "<table border=\"1\" class=\"dataframe\">\n",
       "  <thead>\n",
       "    <tr style=\"text-align: right;\">\n",
       "      <th></th>\n",
       "      <th>date</th>\n",
       "      <th>question</th>\n",
       "      <th>answers</th>\n",
       "      <th>groups</th>\n",
       "    </tr>\n",
       "  </thead>\n",
       "  <tbody>\n",
       "    <tr>\n",
       "      <th>611</th>\n",
       "      <td>2025-02-12</td>\n",
       "      <td>ANDROID, PACIFIER, RECEIPT, CERTIFICATE, DONUT...</td>\n",
       "      <td>[['CERTIFICATE', 'DEED', 'RECEIPT', 'TITLE'], ...</td>\n",
       "      <td>['DOCUMENTS OF OWNERSHIP', 'BITS IN A VARIETY ...</td>\n",
       "    </tr>\n",
       "    <tr>\n",
       "      <th>99</th>\n",
       "      <td>2023-09-19</td>\n",
       "      <td>POCKET, TAB, COLLAR, JOKE, WINDOW, MARTINI, RE...</td>\n",
       "      <td>[['BOOKMARK', 'HISTORY', 'TAB', 'WINDOW'], ['B...</td>\n",
       "      <td>['WEB BROWSER-RELATED', 'SHIRT FEATURES', 'CON...</td>\n",
       "    </tr>\n",
       "    <tr>\n",
       "      <th>438</th>\n",
       "      <td>2024-08-23</td>\n",
       "      <td>MONITOR, DISPLAY, TIE, FAWN, TAN, BOA, CREAM, ...</td>\n",
       "      <td>[['DISPLAY', 'MONITOR', 'SCREEN', 'TERMINAL'],...</td>\n",
       "      <td>['VISUAL INTERFACE', 'BURLESQUE WEAR', 'BEIGE ...</td>\n",
       "    </tr>\n",
       "    <tr>\n",
       "      <th>147</th>\n",
       "      <td>2023-11-06</td>\n",
       "      <td>STOCK, BOND, ICE, SUGAR, HERRING, PLATTER, WAX...</td>\n",
       "      <td>[['BOND', 'CD', 'OPTION', 'STOCK'], ['LP', 'PL...</td>\n",
       "      <td>['INVESTMENTS', 'TERMS FOR RECORDS', 'CUBE-SHA...</td>\n",
       "    </tr>\n",
       "    <tr>\n",
       "      <th>448</th>\n",
       "      <td>2024-09-02</td>\n",
       "      <td>FUNNY, MAIL, POST, RECORD, STAMP, COIN, STORE,...</td>\n",
       "      <td>[['CURIOUS', 'FUNNY', 'OFF', 'WEIRD'], ['JOB',...</td>\n",
       "      <td>['PECULIAR', 'ASSIGNMENT', 'CLASSIC COLLECTION...</td>\n",
       "    </tr>\n",
       "  </tbody>\n",
       "</table>\n",
       "</div>"
      ],
      "text/plain": [
       "           date                                           question  \\\n",
       "611  2025-02-12  ANDROID, PACIFIER, RECEIPT, CERTIFICATE, DONUT...   \n",
       "99   2023-09-19  POCKET, TAB, COLLAR, JOKE, WINDOW, MARTINI, RE...   \n",
       "438  2024-08-23  MONITOR, DISPLAY, TIE, FAWN, TAN, BOA, CREAM, ...   \n",
       "147  2023-11-06  STOCK, BOND, ICE, SUGAR, HERRING, PLATTER, WAX...   \n",
       "448  2024-09-02  FUNNY, MAIL, POST, RECORD, STAMP, COIN, STORE,...   \n",
       "\n",
       "                                               answers  \\\n",
       "611  [['CERTIFICATE', 'DEED', 'RECEIPT', 'TITLE'], ...   \n",
       "99   [['BOOKMARK', 'HISTORY', 'TAB', 'WINDOW'], ['B...   \n",
       "438  [['DISPLAY', 'MONITOR', 'SCREEN', 'TERMINAL'],...   \n",
       "147  [['BOND', 'CD', 'OPTION', 'STOCK'], ['LP', 'PL...   \n",
       "448  [['CURIOUS', 'FUNNY', 'OFF', 'WEIRD'], ['JOB',...   \n",
       "\n",
       "                                                groups  \n",
       "611  ['DOCUMENTS OF OWNERSHIP', 'BITS IN A VARIETY ...  \n",
       "99   ['WEB BROWSER-RELATED', 'SHIRT FEATURES', 'CON...  \n",
       "438  ['VISUAL INTERFACE', 'BURLESQUE WEAR', 'BEIGE ...  \n",
       "147  ['INVESTMENTS', 'TERMS FOR RECORDS', 'CUBE-SHA...  \n",
       "448  ['PECULIAR', 'ASSIGNMENT', 'CLASSIC COLLECTION...  "
      ]
     },
     "execution_count": 17,
     "metadata": {},
     "output_type": "execute_result"
    }
   ],
   "source": [
    "file_path = \"/home1/nageshs/ConnectionsPuzzle/data/connections.csv\"\n",
    "df = pd.read_csv(file_path)\n",
    "\n",
    "train_df, test_df = train_test_split(df, test_size=0.1, random_state=3407)\n",
    "df = test_df\n",
    "\n",
    "df.head()"
   ]
  },
  {
   "cell_type": "code",
   "execution_count": 18,
   "id": "9734fe77-43dd-43bb-aa49-4912096ce710",
   "metadata": {},
   "outputs": [],
   "source": [
    "df[\"parsed_question\"] = df[\"question\"].apply(lambda x: [w.strip() for w in x.split(\",\")])\n",
    "df[\"parsed_answers\"] = df[\"answers\"].apply(ast.literal_eval)"
   ]
  },
  {
   "cell_type": "code",
   "execution_count": 19,
   "id": "96f82381-d306-43ae-a0e8-cf5cd1766ae6",
   "metadata": {},
   "outputs": [
    {
     "name": "stderr",
     "output_type": "stream",
     "text": [
      "Evaluating:  25%|██▌       | 1/4 [00:14<00:44, 14.79s/it]"
     ]
    },
    {
     "name": "stdout",
     "output_type": "stream",
     "text": [
      "WORDS: ['ANDROID', 'PACIFIER', 'RECEIPT', 'CERTIFICATE', 'DONUT', 'MONOLOGUE', 'DEED', 'SKETCH', 'SHAKESPEARE', 'ROLLERBLADE', 'SONG', 'SAXOPHONE', 'RATTLESNAKE', 'DANCE', 'TITLE', 'SKATEBOARD']\n",
      "ACTUAL: [['CERTIFICATE', 'DEED', 'RECEIPT', 'TITLE'], ['DANCE', 'MONOLOGUE', 'SKETCH', 'SONG'], ['DONUT', 'PACIFIER', 'SAXOPHONE', 'SKATEBOARD'], ['ANDROID', 'RATTLESNAKE', 'ROLLERBLADE', 'SHAKESPEARE']]\n",
      "PREDICTED: [['HAIL', 'RAIN', 'SLEET', 'SNOW'], ['BUCKS', 'HEAT', 'JAZZ', 'NETS'], ['OPTION', 'RETURN', 'SHIFT', 'TAB'], ['KAYAK', 'LEVEL', 'MOM', 'RACECAR']]\n"
     ]
    },
    {
     "name": "stderr",
     "output_type": "stream",
     "text": [
      "Evaluating:  50%|█████     | 2/4 [00:30<00:30, 15.08s/it]"
     ]
    },
    {
     "name": "stdout",
     "output_type": "stream",
     "text": [
      "WORDS: ['POCKET', 'TAB', 'COLLAR', 'JOKE', 'WINDOW', 'MARTINI', 'RELATION', 'BOOKMARK', 'BOND', 'LAUNDRY', 'CUFF', 'TIE', 'BUTTON', 'DOZEN', 'LINK', 'HISTORY']\n",
      "ACTUAL: [['BOOKMARK', 'HISTORY', 'TAB', 'WINDOW'], ['BUTTON', 'COLLAR', 'CUFF', 'POCKET'], ['BOND', 'LINK', 'RELATION', 'TIE'], ['DOZEN', 'JOKE', 'LAUNDRY', 'MARTINI']]\n",
      "PREDICTED: [['HAIL', 'RAIN', 'SLEET', 'SNOW'], ['BUCKS', 'HEAT', 'JAZZ', 'NETS'], ['OPTION', 'RETURN', 'SHIFT', 'TAB'], ['KAYAK', 'LEVEL', 'MOM', 'RACECAR']]\n"
     ]
    },
    {
     "name": "stderr",
     "output_type": "stream",
     "text": [
      "Evaluating:  75%|███████▌  | 3/4 [00:45<00:15, 15.25s/it]"
     ]
    },
    {
     "name": "stdout",
     "output_type": "stream",
     "text": [
      "WORDS: ['MONITOR', 'DISPLAY', 'TIE', 'FAWN', 'TAN', 'BOA', 'CREAM', 'SCREEN', 'BUFF', 'BASK', 'GLOVES', 'FINISH', 'CHECK', 'FAN', 'TERMINAL', 'CORSET']\n",
      "ACTUAL: [['DISPLAY', 'MONITOR', 'SCREEN', 'TERMINAL'], ['BOA', 'CORSET', 'FAN', 'GLOVES'], ['BUFF', 'CREAM', 'FAWN', 'TAN'], ['BASK', 'CHECK', 'FINISH', 'TIE']]\n",
      "PREDICTED: [['MONITOR', 'DISPLAY', 'SCREEN', 'TERMINAL'], ['BOA', 'BASK', 'BUFF', 'CHECK'], ['FAWN', 'TAN', 'TIE', 'CORSET'], ['TAN', 'CHECK', 'SCREEN', 'FINISH']]\n"
     ]
    },
    {
     "name": "stderr",
     "output_type": "stream",
     "text": [
      "Evaluating: 100%|██████████| 4/4 [01:00<00:00, 15.21s/it]"
     ]
    },
    {
     "name": "stdout",
     "output_type": "stream",
     "text": [
      "WORDS: ['STOCK', 'BOND', 'ICE', 'SUGAR', 'HERRING', 'PLATTER', 'WAX', 'BOUILLON', 'DIE', 'OPTION', 'SOUP', 'VINYL', 'WISH', 'CD', 'FUNNY', 'LP']\n",
      "ACTUAL: [['BOND', 'CD', 'OPTION', 'STOCK'], ['LP', 'PLATTER', 'VINYL', 'WAX'], ['BOUILLON', 'DIE', 'ICE', 'SUGAR'], ['FUNNY', 'HERRING', 'SOUP', 'WISH']]\n",
      "PREDICTED: [['HAIL', 'RAIN', 'SLEET', 'SNOW'], ['BUCKS', 'HEAT', 'JAZZ', 'NETS'], ['OPTION', 'RETURN', 'SHIFT', 'TAB'], ['KAYAK', 'LEVEL', 'MOM', 'RACECAR']]\n",
      "4\n",
      "Success Rate: 0.25\n",
      "Purity: 0.1875\n"
     ]
    },
    {
     "name": "stderr",
     "output_type": "stream",
     "text": [
      "\n"
     ]
    }
   ],
   "source": [
    "from tqdm import tqdm\n",
    "import ast\n",
    "import re\n",
    "\n",
    "def extract_last_answer(response):\n",
    "    try:\n",
    "        all_answers = re.findall(r\"<answer>(.*?)</answer>\", response, re.DOTALL)\n",
    "        if not all_answers:\n",
    "            return []\n",
    "        return ast.literal_eval(all_answers[-1].strip())\n",
    "    except Exception:\n",
    "        return []\n",
    "\n",
    "predicted_clusters = []\n",
    "actual_clusters = []\n",
    "\n",
    "for idx, row in tqdm(df.head(4).iterrows(), total=4, desc=\"Evaluating\"):\n",
    "    response = llm_output(row[\"parsed_question\"])\n",
    "    predicted = extract_last_answer(response)\n",
    "\n",
    "    predicted_clusters.append(predicted)\n",
    "    actual_clusters.append(row[\"parsed_answers\"])\n",
    "\n",
    "    print(\"WORDS:\", row['parsed_question'])\n",
    "    print(\"ACTUAL:\", row['parsed_answers'])\n",
    "    print(\"PREDICTED:\", predicted)\n",
    "\n",
    "succ_rate, purity = evaluation(actual_clusters, predicted_clusters)\n",
    "print(\"Success Rate:\", succ_rate)\n",
    "print(\"Purity:\", purity)\n"
   ]
  }
 ],
 "metadata": {
  "kernelspec": {
   "display_name": "dl",
   "language": "python",
   "name": "dl"
  },
  "language_info": {
   "codemirror_mode": {
    "name": "ipython",
    "version": 3
   },
   "file_extension": ".py",
   "mimetype": "text/x-python",
   "name": "python",
   "nbconvert_exporter": "python",
   "pygments_lexer": "ipython3",
   "version": "3.11.9"
  }
 },
 "nbformat": 4,
 "nbformat_minor": 5
}
