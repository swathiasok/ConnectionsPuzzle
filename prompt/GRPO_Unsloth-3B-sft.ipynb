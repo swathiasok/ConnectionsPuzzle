{
 "cells": [
  {
   "cell_type": "code",
   "execution_count": 1,
   "id": "1b83c516-4939-4755-8b5c-7dee8674f895",
   "metadata": {},
   "outputs": [],
   "source": [
    "import sys\n",
    "import ast"
   ]
  },
  {
   "cell_type": "code",
   "execution_count": 2,
   "id": "3cb61c53-65b2-4182-8897-7afc71223593",
   "metadata": {
    "scrolled": true
   },
   "outputs": [],
   "source": [
    "# !{sys.executable} -m pip install numpy==1.26.4\n",
    "# !{sys.executable} -m pip install unsloth vllm==0.7.2\n",
    "# !{sys.executable} -m pip install -U ipywidgets"
   ]
  },
  {
   "cell_type": "code",
   "execution_count": 3,
   "id": "72475ee0-fb8f-4b8b-9dd2-b470033ee240",
   "metadata": {},
   "outputs": [],
   "source": [
    "# from unsloth import FastLanguageModel, is_bfloat16_supported\n",
    "import torch\n",
    "import re\n",
    "from datasets import load_dataset"
   ]
  },
  {
   "cell_type": "code",
   "execution_count": 4,
   "id": "2a5f6133-efb3-43a7-95ed-bc13e0436e21",
   "metadata": {},
   "outputs": [
    {
     "name": "stdout",
     "output_type": "stream",
     "text": [
      "🦥 Unsloth: Will patch your computer to enable 2x faster free finetuning.\n",
      "Unsloth: Failed to patch Gemma3ForConditionalGeneration.\n",
      "🦥 Unsloth Zoo will now patch everything to make training faster!\n",
      "INFO 04-20 22:20:19 __init__.py:190] Automatically detected platform cuda.\n"
     ]
    }
   ],
   "source": [
    "from unsloth import FastLanguageModel, is_bfloat16_supported"
   ]
  },
  {
   "cell_type": "code",
   "execution_count": 5,
   "id": "4c2715ed-40aa-476a-a0cd-28f9ec089ba5",
   "metadata": {},
   "outputs": [],
   "source": [
    "from transformers import (\n",
    "    AutoTokenizer,\n",
    "    Seq2SeqTrainingArguments,\n",
    "    Seq2SeqTrainer,\n",
    "    DataCollatorForSeq2Seq,\n",
    "    TrainingArguments,\n",
    "    Trainer\n",
    ")"
   ]
  },
  {
   "cell_type": "code",
   "execution_count": 6,
   "id": "fb8cb197-4ea9-4f3c-8a30-d78b41e63d14",
   "metadata": {},
   "outputs": [],
   "source": [
    "SYSTEM_PROMPT = '''\n",
    "You are playing the NY Times Connections game. Your task is to categorize 16 given words into exactly 4 groups of 4 words each, based on shared common themes.\n",
    "\n",
    "Only output your final solution in the following format:\n",
    "<answer>\n",
    "[['WORD1', 'WORD2', 'WORD3', 'WORD4'],\n",
    " ['WORD5', 'WORD6', 'WORD7', 'WORD8'],\n",
    " ['WORD9', 'WORD10', 'WORD11', 'WORD12'],\n",
    " ['WORD13', 'WORD14', 'WORD15', 'WORD16']]\n",
    "</answer>\n",
    "\n",
    "Rules:\n",
    "\t• Each word must belong to one group only.\n",
    "\t• Groups must have a clear, shared theme (e.g., weather, NBA teams, keyboard keys, etc.).\n",
    "\t• Do not include any words not present in the input list.\n",
    "\n",
    "Here is an example:\n",
    "\n",
    "USER: [BUCKS, HAIL, JAZZ, SHIFT, LEVEL, MOM, SNOW, RACECAR, SLEET, TAB, KAYAK, RETURN, OPTION, NETS, RAIN, HEAT]\n",
    "\n",
    "SOLUTION:\n",
    "[['HAIL', 'RAIN', 'SLEET', 'SNOW'],\n",
    " ['BUCKS', 'HEAT', 'JAZZ', 'NETS'],\n",
    " ['OPTION', 'RETURN', 'SHIFT', 'TAB'],\n",
    " ['KAYAK', 'LEVEL', 'MOM', 'RACECAR']]\n",
    "\n",
    "Explanation:\n",
    "- WEATHER TERMS: 'HAIL', 'RAIN', 'SLEET', 'SNOW'\n",
    "- NBA TEAMS: 'BUCKS', 'HEAT', 'JAZZ', 'NETS'\n",
    "- KEYBOARD KEYS: 'OPTION', 'RETURN', 'SHIFT', 'TAB'\n",
    "- PALINDROMES: 'KAYAK', 'LEVEL', 'MOM', 'RACECAR'\n",
    "'''"
   ]
  },
  {
   "cell_type": "code",
   "execution_count": 7,
   "id": "df57a8aa-f048-4e70-9335-631d7fa23887",
   "metadata": {},
   "outputs": [],
   "source": [
    "def get_connections_questions(split=\"train\"):\n",
    "    data = load_dataset('csv', data_files='../data/final_transformed_connections.csv')[split]\n",
    "    data = data.train_test_split(test_size=0.1, seed=3407)\n",
    "    train_data = data['train']\n",
    "    test_data  = data['test']\n",
    "    # each x has 'questions' (the 16‐word list) and 'answer' (the reference)\n",
    "    train_data = train_data.map(lambda x: {\n",
    "        'prompt': [\n",
    "            {'role': 'assistant', 'content': SYSTEM_PROMPT},\n",
    "            {'role': 'user',      'content': x['questions']}\n",
    "        ],\n",
    "        'answer': x['answer']\n",
    "    })\n",
    "    test_data = test_data.map(lambda x: {\n",
    "        'prompt': [\n",
    "            {'role': 'assistant', 'content': SYSTEM_PROMPT},\n",
    "            {'role': 'user',      'content': x['questions']}\n",
    "        ],\n",
    "        'answer': x['answer']\n",
    "    })\n",
    "    return train_data, test_data\n",
    "\n",
    "train_ds, test_ds = get_connections_questions()"
   ]
  },
  {
   "cell_type": "code",
   "execution_count": 8,
   "id": "75fccaee-fdcc-4890-92f0-8b0878c38dd8",
   "metadata": {},
   "outputs": [
    {
     "name": "stdout",
     "output_type": "stream",
     "text": [
      "==((====))==  Unsloth 2025.3.19: Fast Llama patching. Transformers: 4.51.3. vLLM: 0.7.2.\n",
      "   \\\\   /|    Tesla V100-PCIE-32GB. Num GPUs = 1. Max memory: 31.733 GB. Platform: Linux.\n",
      "O^O/ \\_/ \\    Torch: 2.5.1+cu124. CUDA: 7.0. CUDA Toolkit: 12.4. Triton: 3.1.0\n",
      "\\        /    Bfloat16 = FALSE. FA [Xformers = 0.0.28.post3. FA2 = False]\n",
      " \"-____-\"     Free license: http://github.com/unslothai/unsloth\n",
      "Unsloth: Fast downloading is enabled - ignore downloading bars which are red colored!\n",
      "Unsloth: Your GPU does not support prefix caching - will disable!\n",
      "Unsloth: vLLM loading unsloth/llama-3.2-3b-instruct-unsloth-bnb-4bit with actual GPU utilization = 89.03%\n",
      "Unsloth: Your GPU has CUDA compute capability 7.0 with VRAM = 31.73 GB.\n",
      "Unsloth: Using conservativeness = 1.0. Chunked prefill tokens = 2048. Num Sequences = 320.\n",
      "Unsloth: vLLM's KV Cache can use up to 25.85 GB. Also swap space = 6 GB.\n",
      "WARNING 04-20 22:20:27 config.py:2386] Casting torch.bfloat16 to torch.float16.\n",
      "INFO 04-20 22:20:34 config.py:542] This model supports multiple tasks: {'reward', 'generate', 'embed', 'classify', 'score'}. Defaulting to 'generate'.\n",
      "Unsloth: vLLM Bitsandbytes config using kwargs = {'load_in_8bit': False, 'load_in_4bit': True, 'bnb_4bit_compute_dtype': 'float16', 'bnb_4bit_quant_storage': 'uint8', 'bnb_4bit_quant_type': 'nf4', 'bnb_4bit_use_double_quant': True, 'llm_int8_enable_fp32_cpu_offload': False, 'llm_int8_has_fp16_weight': False, 'llm_int8_skip_modules': ['lm_head', 'multi_modal_projector', 'merger', 'modality_projection', 'model.layers.1.mlp'], 'llm_int8_threshold': 6.0}\n",
      "INFO 04-20 22:20:35 llm_engine.py:234] Initializing a V0 LLM engine (v0.7.2) with config: model='unsloth/llama-3.2-3b-instruct-unsloth-bnb-4bit', speculative_config=None, tokenizer='unsloth/llama-3.2-3b-instruct-unsloth-bnb-4bit', skip_tokenizer_init=False, tokenizer_mode=auto, revision=None, override_neuron_config=None, tokenizer_revision=None, trust_remote_code=False, dtype=torch.float16, max_seq_len=2048, download_dir=None, load_format=LoadFormat.BITSANDBYTES, tensor_parallel_size=1, pipeline_parallel_size=1, disable_custom_all_reduce=False, quantization=bitsandbytes, enforce_eager=False, kv_cache_dtype=auto,  device_config=cuda:0, decoding_config=DecodingConfig(guided_decoding_backend='xgrammar'), observability_config=ObservabilityConfig(otlp_traces_endpoint=None, collect_model_forward_time=False, collect_model_execute_time=False), seed=0, served_model_name=unsloth/llama-3.2-3b-instruct-unsloth-bnb-4bit, num_scheduler_steps=1, multi_step_stream_outputs=True, enable_prefix_caching=False, chunked_prefill_enabled=False, use_async_output_proc=True, disable_mm_preprocessor_cache=False, mm_processor_kwargs=None, pooler_config=None, compilation_config={\"level\":0,\"splitting_ops\":[],\"compile_sizes\":[],\"cudagraph_capture_sizes\":[320,312,304,296,288,280,272,264,256,248,240,232,224,216,208,200,192,184,176,168,160,152,144,136,128,120,112,104,96,88,80,72,64,56,48,40,32,24,16,8,4,2,1],\"max_capture_size\":320}, use_cached_outputs=False, \n",
      "INFO 04-20 22:20:36 cuda.py:179] Cannot use FlashAttention-2 backend for Volta and Turing GPUs.\n",
      "INFO 04-20 22:20:36 cuda.py:227] Using XFormers backend.\n",
      "INFO 04-20 22:20:36 model_runner.py:1110] Starting to load model unsloth/llama-3.2-3b-instruct-unsloth-bnb-4bit...\n",
      "INFO 04-20 22:20:36 loader.py:1102] Loading weights with BitsAndBytes quantization.  May take a while ...\n"
     ]
    },
    {
     "name": "stderr",
     "output_type": "stream",
     "text": [
      "[W420 22:20:36.102123370 CUDAAllocatorConfig.h:28] Warning: expandable_segments not supported on this platform (function operator())\n"
     ]
    },
    {
     "name": "stdout",
     "output_type": "stream",
     "text": [
      "INFO 04-20 22:20:38 weight_utils.py:252] Using model weights format ['*.safetensors']\n"
     ]
    },
    {
     "data": {
      "application/vnd.jupyter.widget-view+json": {
       "model_id": "be434498adfb45149ebe8bfc512011f4",
       "version_major": 2,
       "version_minor": 0
      },
      "text/plain": [
       "model.safetensors:   0%|          | 0.00/2.35G [00:00<?, ?B/s]"
      ]
     },
     "metadata": {},
     "output_type": "display_data"
    },
    {
     "data": {
      "application/vnd.jupyter.widget-view+json": {
       "model_id": "7ba5c28fd93441a9a6aaa1203d763cde",
       "version_major": 2,
       "version_minor": 0
      },
      "text/plain": [
       "Loading safetensors checkpoint shards:   0% Completed | 0/1 [00:00<?, ?it/s]\n"
      ]
     },
     "metadata": {},
     "output_type": "display_data"
    },
    {
     "data": {
      "application/vnd.jupyter.widget-view+json": {
       "model_id": "93cd412cc2ee4b81911b7ff252ae66f4",
       "version_major": 2,
       "version_minor": 0
      },
      "text/plain": [
       "Loading safetensors checkpoint shards:   0% Completed | 0/1 [00:00<?, ?it/s]\n"
      ]
     },
     "metadata": {},
     "output_type": "display_data"
    },
    {
     "name": "stdout",
     "output_type": "stream",
     "text": [
      "INFO 04-20 22:24:08 model_runner.py:1115] Loading model weights took 2.2405 GB\n",
      "INFO 04-20 22:24:08 punica_selector.py:18] Using PunicaWrapperGPU.\n",
      "INFO 04-20 22:24:10 worker.py:267] Memory profiling takes 1.95 seconds\n",
      "INFO 04-20 22:24:10 worker.py:267] the current vLLM instance can use total_gpu_memory (31.73GiB) x gpu_memory_utilization (0.89) = 28.25GiB\n",
      "INFO 04-20 22:24:10 worker.py:267] model weights take 2.24GiB; non_torch_memory takes 0.07GiB; PyTorch activation peak memory takes 1.49GiB; the rest of the memory reserved for KV Cache is 24.45GiB.\n",
      "INFO 04-20 22:24:10 executor_base.py:110] # CUDA blocks: 14309, # CPU blocks: 3510\n",
      "INFO 04-20 22:24:10 executor_base.py:115] Maximum concurrency for 2048 tokens per request: 111.79x\n",
      "INFO 04-20 22:24:14 model_runner.py:1434] Capturing cudagraphs for decoding. This may lead to unexpected consequences if the model is not static. To run the model in eager mode, set 'enforce_eager=True' or use '--enforce-eager' in the CLI. If out-of-memory error occurs during cudagraph capture, consider decreasing `gpu_memory_utilization` or switching to eager mode. You can also reduce the `max_num_seqs` as needed to decrease memory usage.\n"
     ]
    },
    {
     "name": "stderr",
     "output_type": "stream",
     "text": [
      "Capturing CUDA graph shapes: 100%|██████████| 43/43 [00:31<00:00,  1.38it/s]"
     ]
    },
    {
     "name": "stdout",
     "output_type": "stream",
     "text": [
      "INFO 04-20 22:24:45 model_runner.py:1562] Graph capturing finished in 31 secs, took 0.76 GiB\n",
      "INFO 04-20 22:24:45 llm_engine.py:431] init engine (profile, create kv cache, warmup model) took 37.40 seconds\n"
     ]
    },
    {
     "name": "stderr",
     "output_type": "stream",
     "text": [
      "\n",
      "Unsloth 2025.3.19 patched 28 layers with 28 QKV layers, 28 O layers and 28 MLP layers.\n"
     ]
    },
    {
     "data": {
      "application/vnd.jupyter.widget-view+json": {
       "model_id": "f13e7bc855a849619d16b61ae691f681",
       "version_major": 2,
       "version_minor": 0
      },
      "text/plain": [
       "tokenizer_config.json:   0%|          | 0.00/54.7k [00:00<?, ?B/s]"
      ]
     },
     "metadata": {},
     "output_type": "display_data"
    },
    {
     "data": {
      "application/vnd.jupyter.widget-view+json": {
       "model_id": "53872ae23bb343478e4ca5330e0336b8",
       "version_major": 2,
       "version_minor": 0
      },
      "text/plain": [
       "tokenizer.json:   0%|          | 0.00/17.2M [00:00<?, ?B/s]"
      ]
     },
     "metadata": {},
     "output_type": "display_data"
    },
    {
     "data": {
      "application/vnd.jupyter.widget-view+json": {
       "model_id": "48542e8f09c84666b813a3387daa4318",
       "version_major": 2,
       "version_minor": 0
      },
      "text/plain": [
       "special_tokens_map.json:   0%|          | 0.00/454 [00:00<?, ?B/s]"
      ]
     },
     "metadata": {},
     "output_type": "display_data"
    }
   ],
   "source": [
    "# ——————————————————————————————\n",
    "# 2) Initialize model + LoRA adapter\n",
    "# ——————————————————————————————\n",
    "\n",
    "max_seq_length = 2048\n",
    "lora_rank       = 8\n",
    "\n",
    "# load base model\n",
    "model, tokenizer = FastLanguageModel.from_pretrained(\n",
    "    model_name            = \"unsloth/Llama-3.2-3B-Instruct\",\n",
    "    max_seq_length        = max_seq_length,\n",
    "    load_in_4bit          = True,    # 4‑bit base + LoRA\n",
    "    fast_inference        = True,\n",
    "    max_lora_rank         = lora_rank,\n",
    "    gpu_memory_utilization= 0.9,\n",
    ")\n",
    "\n",
    "# wrap with PEFT\n",
    "model = FastLanguageModel.get_peft_model(\n",
    "    model              = model,\n",
    "    r                  = lora_rank,\n",
    "    target_modules     = [\"q_proj\",\"k_proj\",\"v_proj\",\"o_proj\",\"gate_proj\",\"up_proj\",\"down_proj\"],\n",
    "    lora_alpha         = lora_rank,\n",
    "    random_state       = 3407,\n",
    ")\n",
    "\n",
    "# Make sure we also have a HF‐style tokenizer\n",
    "hf_tokenizer = AutoTokenizer.from_pretrained(\"unsloth/Llama-3.2-3B-Instruct\", use_fast=True)\n",
    "hf_tokenizer.pad_token_id = hf_tokenizer.eos_token_id\n"
   ]
  },
  {
   "cell_type": "code",
   "execution_count": 9,
   "id": "621fd05f-1cc1-4f87-a3e7-d9da41fd1e42",
   "metadata": {
    "scrolled": true
   },
   "outputs": [
    {
     "data": {
      "application/vnd.jupyter.widget-view+json": {
       "model_id": "2cb29dd611b64d168a345e3ccba4084d",
       "version_major": 2,
       "version_minor": 0
      },
      "text/plain": [
       "Map:   0%|          | 0/580 [00:00<?, ? examples/s]"
      ]
     },
     "metadata": {},
     "output_type": "display_data"
    },
    {
     "data": {
      "application/vnd.jupyter.widget-view+json": {
       "model_id": "661329ed6ae1415ab61f8edfc40f6afd",
       "version_major": 2,
       "version_minor": 0
      },
      "text/plain": [
       "Map:   0%|          | 0/65 [00:00<?, ? examples/s]"
      ]
     },
     "metadata": {},
     "output_type": "display_data"
    }
   ],
   "source": [
    "# ——————————————————————————————\n",
    "# 3) Preprocess: pad labels to 1024\n",
    "# ——————————————————————————————\n",
    "def preprocess_sft(batch):\n",
    "    inputs = [\n",
    "        tokenizer.apply_chat_template(p, tokenize=False, add_generation_prompt=False)\n",
    "        for p in batch[\"prompt\"]\n",
    "    ]\n",
    "    model_inputs = hf_tokenizer(\n",
    "        inputs,\n",
    "        max_length = max_seq_length,\n",
    "        padding    = \"max_length\",\n",
    "        truncation = True,\n",
    "    )\n",
    "    labels = hf_tokenizer(\n",
    "        batch[\"answer\"],\n",
    "        max_length = max_seq_length,    # ← pad answers out to 1024\n",
    "        padding    = \"max_length\",\n",
    "        truncation = True,\n",
    "    )\n",
    "    model_inputs[\"labels\"] = labels[\"input_ids\"]\n",
    "    return model_inputs\n",
    "\n",
    "train_enc = train_ds.map(\n",
    "    preprocess_sft, batched=True, remove_columns=train_ds.column_names\n",
    ")\n",
    "test_enc  = test_ds.map(\n",
    "    preprocess_sft, batched=True, remove_columns=test_ds.column_names\n",
    ")\n",
    "\n",
    "data_collator = DataCollatorForSeq2Seq(\n",
    "    tokenizer           = hf_tokenizer,\n",
    "    model               = model.model,   # unwrapped base\n",
    "    label_pad_token_id  = -100,          # ignore padded labels\n",
    ")"
   ]
  },
  {
   "cell_type": "code",
   "execution_count": 11,
   "id": "f3af90ff-5714-4757-9645-731bb0007119",
   "metadata": {},
   "outputs": [
    {
     "name": "stderr",
     "output_type": "stream",
     "text": [
      "/tmp/SLURM_67392/ipykernel_3911059/2740054933.py:17: FutureWarning: `tokenizer` is deprecated and will be removed in version 5.0.0 for `Trainer.__init__`. Use `processing_class` instead.\n",
      "  sft_trainer = Trainer(\n",
      "Detected kernel version 4.18.0, which is below the recommended minimum of 5.5.0; this can cause the process to hang. It is recommended to upgrade the kernel to the minimum version or higher.\n"
     ]
    }
   ],
   "source": [
    "# ——————————————————————————————\n",
    "# 4) Seq2SeqTrainer with padded labels\n",
    "# ——————————————————————————————\n",
    "sft_args = TrainingArguments(\n",
    "    output_dir                  = \"sft_outputs\",\n",
    "    per_device_train_batch_size = 1,\n",
    "    gradient_accumulation_steps = 16,\n",
    "    num_train_epochs            = 3,\n",
    "    learning_rate               = 5e-5,\n",
    "    fp16                        = not is_bfloat16_supported(),\n",
    "    bf16                        = is_bfloat16_supported(),\n",
    "    logging_steps               = 10,\n",
    "    save_steps                  = 100,\n",
    "    save_total_limit            = 2,\n",
    ")\n",
    "\n",
    "sft_trainer = Trainer(\n",
    "    model         = model,\n",
    "    args          = sft_args,\n",
    "    train_dataset = train_enc,\n",
    "    eval_dataset  = test_enc,\n",
    "    tokenizer     = hf_tokenizer,\n",
    "    data_collator = DataCollatorForSeq2Seq(\n",
    "        tokenizer          = hf_tokenizer,\n",
    "        model              = model.model,\n",
    "        label_pad_token_id = -100,\n",
    "    ),\n",
    ")"
   ]
  },
  {
   "cell_type": "code",
   "execution_count": 12,
   "id": "2840c624-79e9-4b1a-9c66-b9e454c1d4cd",
   "metadata": {},
   "outputs": [
    {
     "name": "stderr",
     "output_type": "stream",
     "text": [
      "==((====))==  Unsloth - 2x faster free finetuning | Num GPUs used = 1\n",
      "   \\\\   /|    Num examples = 580 | Num Epochs = 3 | Total steps = 108\n",
      "O^O/ \\_/ \\    Batch size per device = 1 | Gradient accumulation steps = 16\n",
      "\\        /    Data Parallel GPUs = 1 | Total batch size (1 x 16 x 1) = 16\n",
      " \"-____-\"     Trainable parameters = 12,156,928/3,000,000,000 (0.41% trained)\n"
     ]
    },
    {
     "name": "stdout",
     "output_type": "stream",
     "text": [
      "Unsloth: Will smartly offload gradients to save VRAM!\n"
     ]
    },
    {
     "data": {
      "text/html": [
       "\n",
       "    <div>\n",
       "      \n",
       "      <progress value='108' max='108' style='width:300px; height:20px; vertical-align: middle;'></progress>\n",
       "      [108/108 24:48, Epoch 2/3]\n",
       "    </div>\n",
       "    <table border=\"1\" class=\"dataframe\">\n",
       "  <thead>\n",
       " <tr style=\"text-align: left;\">\n",
       "      <th>Step</th>\n",
       "      <th>Training Loss</th>\n",
       "    </tr>\n",
       "  </thead>\n",
       "  <tbody>\n",
       "    <tr>\n",
       "      <td>10</td>\n",
       "      <td>12.407400</td>\n",
       "    </tr>\n",
       "    <tr>\n",
       "      <td>20</td>\n",
       "      <td>11.445400</td>\n",
       "    </tr>\n",
       "    <tr>\n",
       "      <td>30</td>\n",
       "      <td>9.916600</td>\n",
       "    </tr>\n",
       "    <tr>\n",
       "      <td>40</td>\n",
       "      <td>8.660100</td>\n",
       "    </tr>\n",
       "    <tr>\n",
       "      <td>50</td>\n",
       "      <td>7.700900</td>\n",
       "    </tr>\n",
       "    <tr>\n",
       "      <td>60</td>\n",
       "      <td>6.780300</td>\n",
       "    </tr>\n",
       "    <tr>\n",
       "      <td>70</td>\n",
       "      <td>5.967000</td>\n",
       "    </tr>\n",
       "    <tr>\n",
       "      <td>80</td>\n",
       "      <td>5.321000</td>\n",
       "    </tr>\n",
       "    <tr>\n",
       "      <td>90</td>\n",
       "      <td>4.795200</td>\n",
       "    </tr>\n",
       "    <tr>\n",
       "      <td>100</td>\n",
       "      <td>4.403900</td>\n",
       "    </tr>\n",
       "  </tbody>\n",
       "</table><p>"
      ],
      "text/plain": [
       "<IPython.core.display.HTML object>"
      ]
     },
     "metadata": {},
     "output_type": "display_data"
    }
   ],
   "source": [
    "# run the SFT pass\n",
    "sft_trainer.train()\n",
    "model.save_lora(\"sft_saved_lora_3B\")"
   ]
  },
  {
   "cell_type": "code",
   "execution_count": 13,
   "id": "eedd49be-cb51-405c-9dff-d76437b0e6d1",
   "metadata": {},
   "outputs": [],
   "source": [
    "max_seq_length = 1024\n",
    "lora_rank = 8"
   ]
  },
  {
   "cell_type": "code",
   "execution_count": 14,
   "id": "f80f4f0a-aa75-4583-9a50-b45bcc9361b4",
   "metadata": {},
   "outputs": [
    {
     "data": {
      "text/plain": [
       "LoRARequest(lora_name='0', lora_int_id=0, lora_path='sft_saved_lora_3B', lora_tensors=None, lora_config=(None,), lora_local_path=None, long_lora_max_len=None, base_model_name=None, lora_embeddings=None)"
      ]
     },
     "execution_count": 14,
     "metadata": {},
     "output_type": "execute_result"
    }
   ],
   "source": [
    "# ——————————————————————————————\n",
    "# 4) GRPO stage, initialized from SFT adapter\n",
    "# ——————————————————————————————\n",
    "\n",
    "# re‑load the same base & adapter structure\n",
    "# model, tokenizer = FastLanguageModel.from_pretrained(\n",
    "#     model_name             = \"unsloth/Llama-3.2-3B-Instruct\",\n",
    "#     max_seq_length         = max_seq_length,\n",
    "#     load_in_4bit           = True,\n",
    "#     fast_inference         = True,\n",
    "#     max_lora_rank          = lora_rank,\n",
    "#     gpu_memory_utilization = 0.9,\n",
    "# )\n",
    "# model = FastLanguageModel.get_peft_model(\n",
    "#     model          = model,\n",
    "#     r              = lora_rank,\n",
    "#     target_modules = [\"q_proj\",\"k_proj\",\"v_proj\",\"o_proj\",\"gate_proj\",\"up_proj\",\"down_proj\"],\n",
    "#     lora_alpha     = lora_rank,\n",
    "# )\n",
    "# load your SFT‐trained adapter\n",
    "model.load_lora(\"sft_saved_lora_3B\")"
   ]
  },
  {
   "cell_type": "code",
   "execution_count": 15,
   "id": "f76aa8c1-1448-4cb5-9e5e-49f8be3ec089",
   "metadata": {},
   "outputs": [],
   "source": [
    "def thinking_reward_func(completions, **kwargs) -> list[float]:\n",
    "    \"\"\"Reward function for including thinking tags\"\"\"\n",
    "    rewards = []\n",
    "    for completion in completions:\n",
    "        try:\n",
    "            reward = 0.0\n",
    "            # Extract all thinking blocks\n",
    "            for message in completion:\n",
    "                if message[\"role\"] == \"assistant\" and message.get(\"content\"):\n",
    "                    content = message[\"content\"]\n",
    "\n",
    "                    # Count opening and closing tags\n",
    "                    opening_tags = len(re.findall(r\"<thinking>\", content))\n",
    "                    closing_tags = len(re.findall(r\"</thinking>\", content))\n",
    "\n",
    "                    if opening_tags == 0 or closing_tags == 0:\n",
    "                        continue\n",
    "\n",
    "                    if opening_tags == closing_tags:\n",
    "                        reward += 0.5\n",
    "                    else:\n",
    "                        reward += 0.1\n",
    "            reward = min(reward, 1.5)\n",
    "            rewards.append(reward)\n",
    "        except Exception as e:\n",
    "            print(f\"{RED}Error in thinking_reward_func: {e}{RESET}\")\n",
    "            rewards.append(0.0)\n",
    "    assert len(rewards) == len(completions)\n",
    "    return rewards\n",
    "\n",
    "\n",
    "def answer_format_reward_func(completions, **kwargs) -> list[float]:\n",
    "    \"\"\"Reward function for including answer tags\"\"\"\n",
    "    rewards = []\n",
    "    for completion in completions:\n",
    "        try:\n",
    "            reward = 0.0\n",
    "            # Extract all answer blocks\n",
    "            for message in completion:\n",
    "                if message[\"role\"] == \"assistant\" and message.get(\"content\"):\n",
    "                    content = message[\"content\"]\n",
    "\n",
    "                    # Count opening and closing tags\n",
    "                    opening_tags = len(re.findall(r\"<answer>\", content))\n",
    "                    closing_tags = len(re.findall(r\"</answer>\", content))\n",
    "\n",
    "                    if opening_tags == 0 or closing_tags == 0:\n",
    "                        continue\n",
    "\n",
    "                    if opening_tags == 1 and closing_tags == 1:\n",
    "                        reward += 0.5\n",
    "                    else:\n",
    "                        reward += 0.1\n",
    "            reward = min(reward, 1.5)\n",
    "            rewards.append(reward)\n",
    "        except Exception as e:\n",
    "            print(f\"{RED}Error in thinking_reward_func: {e}{RESET}\")\n",
    "            rewards.append(0.0)\n",
    "    assert len(rewards) == len(completions)\n",
    "    return rewards\n",
    "\n",
    "\n",
    "def correctness_reward_func(prompts, completions, answer, **kwargs) -> list[float]:\n",
    "    \"\"\"Safe, robust reward for NYT Connections.\"\"\"\n",
    "    rewards = []\n",
    "    \n",
    "    for completion, expected_answer in zip(completions, answer):\n",
    "        # default\n",
    "        reward = 0.0\n",
    "\n",
    "        # 1) Extract last <answer>…</answer> block\n",
    "        predicted_block = None\n",
    "        for msg in completion:\n",
    "            if msg.get(\"role\") == \"assistant\" and msg.get(\"content\"):\n",
    "                matches = re.findall(r\"<answer>(.*?)</answer>\", msg[\"content\"], re.DOTALL)\n",
    "                if matches:\n",
    "                    predicted_block = matches[-1].strip()\n",
    "        if not predicted_block:\n",
    "            rewards.append(0.0)\n",
    "            continue\n",
    "\n",
    "        # 2) Safe parse\n",
    "        try:\n",
    "            pred_groups = ast.literal_eval(predicted_block)\n",
    "            exp_groups  = ast.literal_eval(expected_answer)\n",
    "        except Exception:\n",
    "            rewards.append(0.0)\n",
    "            continue\n",
    "\n",
    "        # 3) Normalize: keep only lists of strings\n",
    "        def clean(groups):\n",
    "            cleaned = []\n",
    "            for g in groups:\n",
    "                if isinstance(g, list):\n",
    "                    cleaned.append([w for w in g if isinstance(w, str)])\n",
    "            return cleaned\n",
    "\n",
    "        pred = clean(pred_groups)\n",
    "        exp  = clean(exp_groups)\n",
    "\n",
    "        # 4) Scoring\n",
    "        # Perfect match\n",
    "        if pred == exp:\n",
    "            rewards.append(6.0)\n",
    "            continue\n",
    "\n",
    "        # +1.5 for each fully correct group (set‐equality)\n",
    "        used = set()\n",
    "        for pg in pred:\n",
    "            for i, eg in enumerate(exp):\n",
    "                if i in used: \n",
    "                    continue\n",
    "                if set(pg) == set(eg):\n",
    "                    reward += 1.5\n",
    "                    used.add(i)\n",
    "                    break\n",
    "\n",
    "        # +0.75 for any 3‐word overlap in unmatched groups\n",
    "        for pg in pred:\n",
    "            for i, eg in enumerate(exp):\n",
    "                if i in used:\n",
    "                    continue\n",
    "                overlap = len([w for w in pg if w in eg])\n",
    "                if overlap == 3:\n",
    "                    reward += 0.75\n",
    "                    used.add(i)\n",
    "                    break\n",
    "\n",
    "        # +0.25 if every predicted group has exactly 4 words\n",
    "        if all(len(pg) == 4 for pg in pred):\n",
    "            reward += 0.25\n",
    "\n",
    "        # +0.5 if no word is repeated across all predicted groups\n",
    "        flat = [w for pg in pred for w in pg]\n",
    "        if len(flat) == len(set(flat)):\n",
    "            reward += 0.5\n",
    "\n",
    "        rewards.append(reward)\n",
    "\n",
    "    assert len(rewards) == len(completions)\n",
    "    return rewards"
   ]
  },
  {
   "cell_type": "code",
   "execution_count": 16,
   "id": "8a6b6631-04fe-4dc8-a6a3-a1013b7034de",
   "metadata": {},
   "outputs": [
    {
     "name": "stderr",
     "output_type": "stream",
     "text": [
      "Detected kernel version 4.18.0, which is below the recommended minimum of 5.5.0; this can cause the process to hang. It is recommended to upgrade the kernel to the minimum version or higher.\n"
     ]
    },
    {
     "name": "stdout",
     "output_type": "stream",
     "text": [
      "Unsloth: We now expect `per_device_train_batch_size` to be a multiple of `num_generations`.\n",
      "We will change the batch size of 1 to the `num_generations` of 4\n"
     ]
    }
   ],
   "source": [
    "from trl import GRPOConfig, GRPOTrainer\n",
    "\n",
    "rl_args = GRPOConfig(\n",
    "    use_vllm                     = False,\n",
    "    learning_rate                = 5e-6,\n",
    "    adam_beta1                   = 0.9,\n",
    "    adam_beta2                   = 0.99,\n",
    "    weight_decay                 = 0.1,\n",
    "    warmup_ratio                 = 0.1,\n",
    "    lr_scheduler_type            = \"cosine\",\n",
    "    optim                        = \"adamw_8bit\",\n",
    "    logging_steps                = 1,\n",
    "    bf16                         = is_bfloat16_supported(),\n",
    "    fp16                         = not is_bfloat16_supported(),\n",
    "    per_device_train_batch_size  = 1,\n",
    "    gradient_accumulation_steps  = 16,\n",
    "    num_generations              = 4,\n",
    "    max_prompt_length            = 128,\n",
    "    max_completion_length        = 64,\n",
    "    num_train_epochs             = 1,\n",
    "    max_steps                    = 20,\n",
    "    save_steps                   = 10,\n",
    "    max_grad_norm                = 0.1,\n",
    "    report_to                    = \"none\",\n",
    "    output_dir                   = \"outputs_grpo\",\n",
    ")\n",
    "\n",
    "trainer = GRPOTrainer(\n",
    "    model            = model,\n",
    "    processing_class = tokenizer,\n",
    "    reward_funcs     = [\n",
    "        thinking_reward_func,\n",
    "        correctness_reward_func,\n",
    "        answer_format_reward_func,\n",
    "    ],\n",
    "    args             = rl_args,\n",
    "    train_dataset    = train_ds,  # or a mix of train & test\n",
    ")"
   ]
  },
  {
   "cell_type": "code",
   "execution_count": 17,
   "id": "2098cd5f-74df-4ebb-af3c-aba0ac9a38b8",
   "metadata": {},
   "outputs": [
    {
     "name": "stderr",
     "output_type": "stream",
     "text": [
      "==((====))==  Unsloth - 2x faster free finetuning | Num GPUs used = 1\n",
      "   \\\\   /|    Num examples = 580 | Num Epochs = 1 | Total steps = 20\n",
      "O^O/ \\_/ \\    Batch size per device = 4 | Gradient accumulation steps = 16\n",
      "\\        /    Data Parallel GPUs = 1 | Total batch size (4 x 16 x 1) = 64\n",
      " \"-____-\"     Trainable parameters = 12,156,928/3,000,000,000 (0.41% trained)\n"
     ]
    },
    {
     "data": {
      "text/html": [
       "\n",
       "    <div>\n",
       "      \n",
       "      <progress value='20' max='20' style='width:300px; height:20px; vertical-align: middle;'></progress>\n",
       "      [20/20 16:22, Epoch 0/1]\n",
       "    </div>\n",
       "    <table border=\"1\" class=\"dataframe\">\n",
       "  <thead>\n",
       " <tr style=\"text-align: left;\">\n",
       "      <th>Step</th>\n",
       "      <th>Training Loss</th>\n",
       "      <th>reward</th>\n",
       "      <th>reward_std</th>\n",
       "      <th>completion_length</th>\n",
       "      <th>kl</th>\n",
       "      <th>rewards / thinking_reward_func</th>\n",
       "      <th>rewards / correctness_reward_func</th>\n",
       "      <th>rewards / answer_format_reward_func</th>\n",
       "    </tr>\n",
       "  </thead>\n",
       "  <tbody>\n",
       "    <tr>\n",
       "      <td>1</td>\n",
       "      <td>0.000100</td>\n",
       "      <td>0.000000</td>\n",
       "      <td>0.000000</td>\n",
       "      <td>63.546875</td>\n",
       "      <td>0.003452</td>\n",
       "      <td>0.000000</td>\n",
       "      <td>0.000000</td>\n",
       "      <td>0.000000</td>\n",
       "    </tr>\n",
       "    <tr>\n",
       "      <td>2</td>\n",
       "      <td>0.000100</td>\n",
       "      <td>0.000000</td>\n",
       "      <td>0.000000</td>\n",
       "      <td>62.062500</td>\n",
       "      <td>0.003735</td>\n",
       "      <td>0.000000</td>\n",
       "      <td>0.000000</td>\n",
       "      <td>0.000000</td>\n",
       "    </tr>\n",
       "    <tr>\n",
       "      <td>3</td>\n",
       "      <td>0.000100</td>\n",
       "      <td>0.000000</td>\n",
       "      <td>0.000000</td>\n",
       "      <td>63.265625</td>\n",
       "      <td>0.003245</td>\n",
       "      <td>0.000000</td>\n",
       "      <td>0.000000</td>\n",
       "      <td>0.000000</td>\n",
       "    </tr>\n",
       "    <tr>\n",
       "      <td>4</td>\n",
       "      <td>0.000100</td>\n",
       "      <td>0.000000</td>\n",
       "      <td>0.000000</td>\n",
       "      <td>63.937500</td>\n",
       "      <td>0.002942</td>\n",
       "      <td>0.000000</td>\n",
       "      <td>0.000000</td>\n",
       "      <td>0.000000</td>\n",
       "    </tr>\n",
       "    <tr>\n",
       "      <td>5</td>\n",
       "      <td>0.000100</td>\n",
       "      <td>0.000000</td>\n",
       "      <td>0.000000</td>\n",
       "      <td>62.531250</td>\n",
       "      <td>0.002635</td>\n",
       "      <td>0.000000</td>\n",
       "      <td>0.000000</td>\n",
       "      <td>0.000000</td>\n",
       "    </tr>\n",
       "    <tr>\n",
       "      <td>6</td>\n",
       "      <td>0.000100</td>\n",
       "      <td>0.000000</td>\n",
       "      <td>0.000000</td>\n",
       "      <td>62.734375</td>\n",
       "      <td>0.002539</td>\n",
       "      <td>0.000000</td>\n",
       "      <td>0.000000</td>\n",
       "      <td>0.000000</td>\n",
       "    </tr>\n",
       "    <tr>\n",
       "      <td>7</td>\n",
       "      <td>0.000100</td>\n",
       "      <td>0.000000</td>\n",
       "      <td>0.000000</td>\n",
       "      <td>61.421875</td>\n",
       "      <td>0.002405</td>\n",
       "      <td>0.000000</td>\n",
       "      <td>0.000000</td>\n",
       "      <td>0.000000</td>\n",
       "    </tr>\n",
       "    <tr>\n",
       "      <td>8</td>\n",
       "      <td>0.000100</td>\n",
       "      <td>0.000000</td>\n",
       "      <td>0.000000</td>\n",
       "      <td>63.187500</td>\n",
       "      <td>0.002030</td>\n",
       "      <td>0.000000</td>\n",
       "      <td>0.000000</td>\n",
       "      <td>0.000000</td>\n",
       "    </tr>\n",
       "    <tr>\n",
       "      <td>9</td>\n",
       "      <td>0.000100</td>\n",
       "      <td>0.000000</td>\n",
       "      <td>0.000000</td>\n",
       "      <td>63.171875</td>\n",
       "      <td>0.001857</td>\n",
       "      <td>0.000000</td>\n",
       "      <td>0.000000</td>\n",
       "      <td>0.000000</td>\n",
       "    </tr>\n",
       "    <tr>\n",
       "      <td>10</td>\n",
       "      <td>0.000100</td>\n",
       "      <td>0.000000</td>\n",
       "      <td>0.000000</td>\n",
       "      <td>62.312500</td>\n",
       "      <td>0.001967</td>\n",
       "      <td>0.000000</td>\n",
       "      <td>0.000000</td>\n",
       "      <td>0.000000</td>\n",
       "    </tr>\n",
       "    <tr>\n",
       "      <td>11</td>\n",
       "      <td>0.000100</td>\n",
       "      <td>0.000000</td>\n",
       "      <td>0.000000</td>\n",
       "      <td>62.500000</td>\n",
       "      <td>0.002176</td>\n",
       "      <td>0.000000</td>\n",
       "      <td>0.000000</td>\n",
       "      <td>0.000000</td>\n",
       "    </tr>\n",
       "    <tr>\n",
       "      <td>12</td>\n",
       "      <td>0.000100</td>\n",
       "      <td>0.000000</td>\n",
       "      <td>0.000000</td>\n",
       "      <td>63.296875</td>\n",
       "      <td>0.002011</td>\n",
       "      <td>0.000000</td>\n",
       "      <td>0.000000</td>\n",
       "      <td>0.000000</td>\n",
       "    </tr>\n",
       "    <tr>\n",
       "      <td>13</td>\n",
       "      <td>0.000200</td>\n",
       "      <td>0.000000</td>\n",
       "      <td>0.000000</td>\n",
       "      <td>63.234375</td>\n",
       "      <td>0.004252</td>\n",
       "      <td>0.000000</td>\n",
       "      <td>0.000000</td>\n",
       "      <td>0.000000</td>\n",
       "    </tr>\n",
       "    <tr>\n",
       "      <td>14</td>\n",
       "      <td>0.000100</td>\n",
       "      <td>0.000000</td>\n",
       "      <td>0.000000</td>\n",
       "      <td>63.531250</td>\n",
       "      <td>0.001777</td>\n",
       "      <td>0.000000</td>\n",
       "      <td>0.000000</td>\n",
       "      <td>0.000000</td>\n",
       "    </tr>\n",
       "    <tr>\n",
       "      <td>15</td>\n",
       "      <td>0.000100</td>\n",
       "      <td>0.000000</td>\n",
       "      <td>0.000000</td>\n",
       "      <td>62.578125</td>\n",
       "      <td>0.001814</td>\n",
       "      <td>0.000000</td>\n",
       "      <td>0.000000</td>\n",
       "      <td>0.000000</td>\n",
       "    </tr>\n",
       "    <tr>\n",
       "      <td>16</td>\n",
       "      <td>0.000100</td>\n",
       "      <td>0.000000</td>\n",
       "      <td>0.000000</td>\n",
       "      <td>63.250000</td>\n",
       "      <td>0.001954</td>\n",
       "      <td>0.000000</td>\n",
       "      <td>0.000000</td>\n",
       "      <td>0.000000</td>\n",
       "    </tr>\n",
       "    <tr>\n",
       "      <td>17</td>\n",
       "      <td>0.000100</td>\n",
       "      <td>0.000000</td>\n",
       "      <td>0.000000</td>\n",
       "      <td>63.546875</td>\n",
       "      <td>0.002005</td>\n",
       "      <td>0.000000</td>\n",
       "      <td>0.000000</td>\n",
       "      <td>0.000000</td>\n",
       "    </tr>\n",
       "    <tr>\n",
       "      <td>18</td>\n",
       "      <td>0.000100</td>\n",
       "      <td>0.000000</td>\n",
       "      <td>0.000000</td>\n",
       "      <td>63.781250</td>\n",
       "      <td>0.002005</td>\n",
       "      <td>0.000000</td>\n",
       "      <td>0.000000</td>\n",
       "      <td>0.000000</td>\n",
       "    </tr>\n",
       "    <tr>\n",
       "      <td>19</td>\n",
       "      <td>0.000100</td>\n",
       "      <td>0.000000</td>\n",
       "      <td>0.000000</td>\n",
       "      <td>63.890625</td>\n",
       "      <td>0.001589</td>\n",
       "      <td>0.000000</td>\n",
       "      <td>0.000000</td>\n",
       "      <td>0.000000</td>\n",
       "    </tr>\n",
       "    <tr>\n",
       "      <td>20</td>\n",
       "      <td>0.000100</td>\n",
       "      <td>0.000000</td>\n",
       "      <td>0.000000</td>\n",
       "      <td>62.718750</td>\n",
       "      <td>0.002112</td>\n",
       "      <td>0.000000</td>\n",
       "      <td>0.000000</td>\n",
       "      <td>0.000000</td>\n",
       "    </tr>\n",
       "  </tbody>\n",
       "</table><p>"
      ],
      "text/plain": [
       "<IPython.core.display.HTML object>"
      ]
     },
     "metadata": {},
     "output_type": "display_data"
    }
   ],
   "source": [
    "trainer.train()\n",
    "model.save_lora(\"grpo_saved_lora_3B\")"
   ]
  },
  {
   "cell_type": "code",
   "execution_count": 18,
   "id": "57c17230-211b-48ed-9cf8-0f5a46cfb3b9",
   "metadata": {},
   "outputs": [
    {
     "name": "stderr",
     "output_type": "stream",
     "text": [
      "Processed prompts: 100%|██████████| 1/1 [00:12<00:00, 12.74s/it, est. speed input: 36.10 toks/s, output: 80.37 toks/s]\n"
     ]
    },
    {
     "data": {
      "text/plain": [
       "\"After examining the given list of words, I've categorized them into 4 groups with a shared theme. Here is my solution:\\n\\n[['FALL', 'SINK', 'SWING', 'DROP'],\\n ['FLY', 'BOOM', 'TEAR', 'TALK'],\\n ['MODERN', 'RACE', 'SALSA', 'DIP'],\\n ['CARROT', 'SHOWER', 'BLAZE', 'TAP']]\\n\\nExplanation:\\n- FALLING OBJECTS: 'FALL', 'SINK', 'SWING', 'DROP'\\n- EXPLODING SOUNDS: 'BOOM', 'TEAR', 'BLAZE', 'TAP'\\n- FOOD AND DIP: 'MODERN', 'RACE', 'SALSA', 'DIP'\\n- VEGETABLES: 'CARROT', 'SHOWER', 'FALL' is incorrect, instead 'FALL' doesn't belong, 'CARROT' belongs in 'VEGETABLES', 'SHOWER' belongs in 'FALL' is incorrect, 'SHOWER' belongs in 'EXPLODING SOUNDS'  'SHOWER' is not an exploding sound, instead 'SHOWER' doesn't belong, 'SHOWER' belongs to 'FALL' is incorrect, 'SHOWER' is not a falling object, 'SHOWER' is a verb,  'SHOWER' belongs in 'VEGETABLES' is incorrect, 'SHOWER' doesn't belong, 'SHOWER' belongs in 'EXPLODING SOUNDS' no, 'SHOWER' is not a falling, exploding, or a dip, 'SHOWER' is a verb,  'SHOWER' belongs in 'EXPLODING SOUNDS' no, 'SHOWER' doesn't belong,  'SHOWER' belongs in 'VEGETABLES' no 'SHOWER' is incorrect, 'SHOWER' is a verb, 'SHOWER' belongs in 'VEGETABLES' no 'VEGETABLES' is incorrect 'SHOWER' belongs in 'FALL' is incorrect, 'SHOWER' is a verb, 'SHOWER' belongs in 'VEGETABLES' no 'SHOWER' is a verb,  'SHOWER' is 'SHOWER'  belongs in 'VEGETABLES' no 'SHOWER' no, 'SHOWER' is not a vegetable 'SHOWER' belongs in 'VEGETABLES' is 'SHOWER' incorrect  'SHOWER' no 'SHOWER' is 'SHOWER' 'SHOWER'  no,  'SHOWER' is not, 'SHOWER' no, 'SHOWER' no, 'SHOWER' no 'SHOWER' no,  'SHOWER' no 'SHOWER'  'SHOWER'  no 'SHOWER'  no 'SHOWER'  no 'SHOWER' no  'SHOWER' no 'SHOWER' no 'SHOWER' 'VEGETABLE' 'VEGETABLE' no 'SHOWER' 'VEGETABLE' no, 'SHOWER' no 'SHOWER' 'SHOWER' 'SHOWER' 'VEGETABLE' no 'SHOWER' no 'SHOWER' no 'SHOWER' 'VEGETABLE' no 'SHOWER' no 'SHOWER' no 'SHOWER' 'VEGETABLE' no, 'SHOWER' 'SHOWER' 'SHOWER' no 'SHOWER' no 'SHOWER' no 'SHOWER' no 'SHOWER' no 'SHOWER' no 'SHOWER' no 'SHOWER' no 'SHOWER' 'SHOWER' 'SHOWER' no 'SHOWER' no 'SHOWER' no 'SHOWER' 'SHOWER' no 'SHOWER' no 'SHOWER' no 'SHOWER' no 'SHOWER' no 'SHOWER' no 'SHOWER' no 'SHOWER' no 'SHOWER' no 'SHOWER' 'VEGETABLE' no 'SHOWER' no 'SHOWER' no 'SHOWER' 'SHOWER' no 'SHOWER' 'SHOWER' 'SHOWER' no 'SHOWER' 'SHOWER' no 'SHOWER' no 'SHOWER' no 'SHOWER' no 'SHOWER' 'SHOWER' no 'SHOWER' no 'SHOWER' no 'SHOWER' no 'SHOWER' no 'SHOWER' no 'SHOWER' 'VEGETABLE' 'VEGETABLE' no 'SHOWER' no 'SHOWER' no 'SHOWER' no 'SHOWER' no 'SHOWER' 'VEGETABLE' no 'SHOWER' 'SHOWER' 'SHOWER' 'SHOWER' no 'SHOWER' no 'SHOWER' 'SHOWER' no 'SHOWER' no 'SHOWER' no 'SHOWER' no 'SHOWER' no 'SHOWER' no 'SH\""
      ]
     },
     "execution_count": 18,
     "metadata": {},
     "output_type": "execute_result"
    }
   ],
   "source": [
    "text = tokenizer.apply_chat_template([\n",
    "    {\"role\" : \"system\", \"content\" : SYSTEM_PROMPT},\n",
    "    {\"role\" : \"user\", \"content\" : \"[FLY, SINK, SHOWER, SALSA, TAP, RACE, DIP, MODERN, FALL, SWING, CARROT, TEAR, DROP, TALK, BLAZE, BOOM]\"},\n",
    "], tokenize = False, add_generation_prompt = True)\n",
    "\n",
    "from vllm import SamplingParams\n",
    "sampling_params = SamplingParams(\n",
    "    temperature = 0.8,\n",
    "    top_p = 0.95,\n",
    "    max_tokens = 1024,\n",
    ")\n",
    "output = model.fast_generate(\n",
    "    text,\n",
    "    sampling_params = sampling_params,\n",
    "    lora_request = model.load_lora(\"grpo_saved_lora_3B\"),\n",
    ")[0].outputs[0].text\n",
    "\n",
    "output"
   ]
  },
  {
   "cell_type": "markdown",
   "id": "ea710432-b993-4cd1-90f9-81c5d28d5149",
   "metadata": {},
   "source": [
    "[['FALL', 'SINK', 'SWING', 'DROP'],\\n ['FLY', 'BOOM', 'TEAR', 'TALK'],\\n ['MODERN', 'RACE', 'SALSA', 'DIP'],\\n ['CARROT', 'SHOWER', 'BLAZE', 'TAP']]"
   ]
  },
  {
   "cell_type": "markdown",
   "id": "a4b5d879-2b27-4593-bf6f-2092a55ed885",
   "metadata": {},
   "source": [
    "[['DIP', 'DROP', 'FALL', 'SINK'], ['BLAZE', 'FLY', 'RACE', 'TEAR'], ['MODERN', 'SALSA', 'SWING', 'TAP'], ['BOOM', 'CARROT', 'SHOWER', 'TALK']]"
   ]
  },
  {
   "cell_type": "code",
   "execution_count": null,
   "id": "373dbe3e-f735-4462-8dbc-40d60d68c21e",
   "metadata": {},
   "outputs": [],
   "source": []
  }
 ],
 "metadata": {
  "kernelspec": {
   "display_name": "venv",
   "language": "python",
   "name": "venv"
  },
  "language_info": {
   "codemirror_mode": {
    "name": "ipython",
    "version": 3
   },
   "file_extension": ".py",
   "mimetype": "text/x-python",
   "name": "python",
   "nbconvert_exporter": "python",
   "pygments_lexer": "ipython3",
   "version": "3.11.9"
  }
 },
 "nbformat": 4,
 "nbformat_minor": 5
}
