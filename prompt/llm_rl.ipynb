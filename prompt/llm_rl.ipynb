{
 "cells": [
  {
   "cell_type": "code",
   "execution_count": 125,
   "metadata": {},
   "outputs": [],
   "source": [
    "import torch\n",
    "import time\n",
    "import re\n",
    "import json\n",
    "import pandas as pd\n",
    "from datasets import Dataset\n",
    "from trl import GRPOConfig, GRPOTrainer, apply_chat_template\n",
    "from peft import LoraConfig, get_peft_model\n",
    "from transformers import AutoModelForCausalLM, AutoTokenizer\n",
    "# from math_verify import LatexExtractionConfig, parse, verify"
   ]
  },
  {
   "cell_type": "code",
   "execution_count": 126,
   "metadata": {},
   "outputs": [],
   "source": [
    "def create_prompt(train_sample):\n",
    "    SYSTEM_PROMPT = (\n",
    "    \"You are playing the NY Times Connections game. I will give you a set of 16 words, and I want you to provide 4 sets of exactly 4 words that are connected in some way. \\\n",
    "    I want you to group the words in such a way that each group has a common theme. Think about your answers carefully, as you will only have one chance to submit your answer. \\\n",
    "    Here is an example: If the words are: 'BUCKS, HAIL, JAZZ, SHIFT, LEVEL, MOM, SNOW, RACECAR, SLEET, TAB, KAYAK, RETURN, OPTION, NETS, RAIN, HEAT', \\\n",
    "    a possible answer could be: 'answer: [['HAIL', 'RAIN', 'SLEET', 'SNOW'], ['BUCKS', 'HEAT', 'JAZZ', 'NETS'], ['OPTION', 'RETURN', 'SHIFT', 'TAB'], ['KAYAK', 'LEVEL', 'MOM', 'RACECAR']] and groups: ['WET WEATHER', 'NBA TEAMS', 'KEYBOARD KEYS', 'PALINDROMES']. \\\n",
    "    Give your answer strictly in the format (no other words): \\\n",
    "            'Answer: [[4 words of group1], [4 words of group2], [4 words of group3], [4 words of group4]]  \\\n",
    "            Group: [group1, group2, group3, group4].'\\\n",
    "    \"\n",
    "    )\n",
    "    \n",
    "    return {\n",
    "        \"prompt\": [\n",
    "            {\"role\": \"system\", \"content\": SYSTEM_PROMPT},\n",
    "            {\"role\": \"user\", \"content\": train_sample[\"question\"]},\n",
    "        ],\n",
    "    }"
   ]
  },
  {
   "cell_type": "code",
   "execution_count": 127,
   "metadata": {},
   "outputs": [
    {
     "name": "stderr",
     "output_type": "stream",
     "text": [
      "/var/folders/t8/syttdns55xbgn_9wnxgg6gh00000gn/T/ipykernel_89215/2853767823.py:5: SettingWithCopyWarning: \n",
      "A value is trying to be set on a copy of a slice from a DataFrame.\n",
      "Try using .loc[row_indexer,col_indexer] = value instead\n",
      "\n",
      "See the caveats in the documentation: https://pandas.pydata.org/pandas-docs/stable/user_guide/indexing.html#returning-a-view-versus-a-copy\n",
      "  train_dataset[\"prompt\"] = train_dataset.apply(create_prompt, axis=1)\n",
      "/var/folders/t8/syttdns55xbgn_9wnxgg6gh00000gn/T/ipykernel_89215/2853767823.py:6: SettingWithCopyWarning: \n",
      "A value is trying to be set on a copy of a slice from a DataFrame.\n",
      "Try using .loc[row_indexer,col_indexer] = value instead\n",
      "\n",
      "See the caveats in the documentation: https://pandas.pydata.org/pandas-docs/stable/user_guide/indexing.html#returning-a-view-versus-a-copy\n",
      "  test_dataset[\"prompt\"] = test_dataset.apply(create_prompt, axis=1)\n"
     ]
    }
   ],
   "source": [
    "df = pd.read_csv(\"../data/connections.csv\", index_col=None)\n",
    "train_dataset = df.iloc[:500]\n",
    "test_dataset = df.iloc[500:]\n",
    "\n",
    "train_dataset[\"prompt\"] = train_dataset.apply(create_prompt, axis=1)\n",
    "test_dataset[\"prompt\"] = test_dataset.apply(create_prompt, axis=1)"
   ]
  },
  {
   "cell_type": "code",
   "execution_count": 128,
   "metadata": {},
   "outputs": [],
   "source": [
    "# class ConnectionsDataset(Dataset):\n",
    "#     def __init__(self, dataframe, tokenizer, max_length=128):\n",
    "#         self.dataframe = dataframe.reset_index(drop=True)\n",
    "#         self.tokenizer = tokenizer\n",
    "#         self.max_length = max_length\n",
    "\n",
    "#     def __len__(self):\n",
    "#         return len(self.dataframe)\n",
    "\n",
    "#     def __getitem__(self, idx):\n",
    "#         prompt_data = self.dataframe.iloc[idx]['prompt']\n",
    "#         answer = self.dataframe.iloc[idx]['answers']\n",
    "\n",
    "#         prompt_data = json.loads(prompt_data)\n",
    "\n",
    "#         prompt = apply_chat_template(\n",
    "#                 {\"prompt\": prompt_data},\n",
    "#                 self.tokenizer,\n",
    "#                 tokenize=False,\n",
    "#                 add_generation_prompt=True\n",
    "#             )\n",
    "#         tokenized_input = self.tokenizer(\n",
    "#             prompt,\n",
    "#             padding=\"max_length\",\n",
    "#             truncation=True,\n",
    "#             max_length=self.max_length,\n",
    "#             return_tensors=\"pt\"\n",
    "#         )\n",
    "\n",
    "#         return {\n",
    "#             \"input_ids\": tokenized_input[\"input_ids\"].squeeze(),\n",
    "#             \"attention_mask\": tokenized_input[\"attention_mask\"].squeeze(),\n",
    "#             \"answer\": answer,\n",
    "#         }\n"
   ]
  },
  {
   "cell_type": "code",
   "execution_count": 129,
   "metadata": {},
   "outputs": [],
   "source": [
    "train_dataset = train_dataset.drop(columns=[\"question\", \"date\", \"groups\"])\n",
    "test_dataset = test_dataset.drop(columns=[\"question\", \"date\", \"groups\"])"
   ]
  },
  {
   "cell_type": "code",
   "execution_count": 130,
   "metadata": {},
   "outputs": [
    {
     "data": {
      "text/html": [
       "<div>\n",
       "<style scoped>\n",
       "    .dataframe tbody tr th:only-of-type {\n",
       "        vertical-align: middle;\n",
       "    }\n",
       "\n",
       "    .dataframe tbody tr th {\n",
       "        vertical-align: top;\n",
       "    }\n",
       "\n",
       "    .dataframe thead th {\n",
       "        text-align: right;\n",
       "    }\n",
       "</style>\n",
       "<table border=\"1\" class=\"dataframe\">\n",
       "  <thead>\n",
       "    <tr style=\"text-align: right;\">\n",
       "      <th></th>\n",
       "      <th>answers</th>\n",
       "      <th>prompt</th>\n",
       "    </tr>\n",
       "  </thead>\n",
       "  <tbody>\n",
       "    <tr>\n",
       "      <th>0</th>\n",
       "      <td>[['HAIL', 'RAIN', 'SLEET', 'SNOW'], ['BUCKS', ...</td>\n",
       "      <td>{'prompt': [{'role': 'system', 'content': 'You...</td>\n",
       "    </tr>\n",
       "    <tr>\n",
       "      <th>1</th>\n",
       "      <td>[['BOOT', 'LOAFER', 'PUMP', 'SNEAKER'], ['FOOT...</td>\n",
       "      <td>{'prompt': [{'role': 'system', 'content': 'You...</td>\n",
       "    </tr>\n",
       "    <tr>\n",
       "      <th>2</th>\n",
       "      <td>[['CHEEK', 'EYE', 'MOUTH', 'NOSE'], ['CHOW', '...</td>\n",
       "      <td>{'prompt': [{'role': 'system', 'content': 'You...</td>\n",
       "    </tr>\n",
       "    <tr>\n",
       "      <th>3</th>\n",
       "      <td>[['ADIDAS', 'NIKE', 'PUMA', 'REEBOK'], ['CABAR...</td>\n",
       "      <td>{'prompt': [{'role': 'system', 'content': 'You...</td>\n",
       "    </tr>\n",
       "    <tr>\n",
       "      <th>4</th>\n",
       "      <td>[['HULU', 'NETFLIX', 'PEACOCK', 'PRIME'], ['KE...</td>\n",
       "      <td>{'prompt': [{'role': 'system', 'content': 'You...</td>\n",
       "    </tr>\n",
       "  </tbody>\n",
       "</table>\n",
       "</div>"
      ],
      "text/plain": [
       "                                             answers  \\\n",
       "0  [['HAIL', 'RAIN', 'SLEET', 'SNOW'], ['BUCKS', ...   \n",
       "1  [['BOOT', 'LOAFER', 'PUMP', 'SNEAKER'], ['FOOT...   \n",
       "2  [['CHEEK', 'EYE', 'MOUTH', 'NOSE'], ['CHOW', '...   \n",
       "3  [['ADIDAS', 'NIKE', 'PUMA', 'REEBOK'], ['CABAR...   \n",
       "4  [['HULU', 'NETFLIX', 'PEACOCK', 'PRIME'], ['KE...   \n",
       "\n",
       "                                              prompt  \n",
       "0  {'prompt': [{'role': 'system', 'content': 'You...  \n",
       "1  {'prompt': [{'role': 'system', 'content': 'You...  \n",
       "2  {'prompt': [{'role': 'system', 'content': 'You...  \n",
       "3  {'prompt': [{'role': 'system', 'content': 'You...  \n",
       "4  {'prompt': [{'role': 'system', 'content': 'You...  "
      ]
     },
     "execution_count": 130,
     "metadata": {},
     "output_type": "execute_result"
    }
   ],
   "source": [
    "train_dataset.head()"
   ]
  },
  {
   "cell_type": "code",
   "execution_count": 131,
   "metadata": {},
   "outputs": [],
   "source": [
    "train_dataset[\"prompt\"] = train_dataset[\"prompt\"].apply(lambda x: json.dumps(x)) \n",
    "test_dataset[\"prompt\"] = test_dataset[\"prompt\"].apply(lambda x: json.dumps(x))"
   ]
  },
  {
   "cell_type": "code",
   "execution_count": 135,
   "metadata": {},
   "outputs": [],
   "source": [
    "class CustomGRPOTrainer:\n",
    "    def __init__(self, model_id=\"Qwen/Qwen2-0.5B-Instruct\", output_dir=\"GRPO-test\"):\n",
    "        self.model_id = model_id\n",
    "        self.output_dir = output_dir\n",
    "        self.model = None\n",
    "        self.tokenizer = None\n",
    "        self.trainer = None\n",
    "        self.training_args = None\n",
    "\n",
    "    def load_model(self):\n",
    "        \"\"\"Loads the base model and applies LoRA fine-tuning.\"\"\"\n",
    "        self.tokenizer = AutoTokenizer.from_pretrained(self.model_id)\n",
    "        self.model = AutoModelForCausalLM.from_pretrained(\n",
    "            self.model_id,\n",
    "            torch_dtype=\"auto\",\n",
    "            device_map=\"auto\",\n",
    "        )\n",
    "\n",
    "        lora_config = LoraConfig(\n",
    "            task_type=\"CAUSAL_LM\",\n",
    "            r=8,\n",
    "            lora_alpha=32,\n",
    "            lora_dropout=0.1,\n",
    "            target_modules=[\"q_proj\", \"v_proj\"],\n",
    "        )\n",
    "\n",
    "        self.model = get_peft_model(self.model, lora_config)\n",
    "\n",
    "    def format_reward(self, completions, **kwargs):\n",
    "        \"\"\"Reward function that checks if the completion matches your Connections puzzle format.\"\"\"\n",
    "        pattern = r\"^Answer: \\[\\[.*?\\], \\[.*?\\], \\[.*?\\], \\[.*?\\]\\]\\s+Group: \\[.*?, .*?, .*?, .*?\\]\\.$\"\n",
    "        matches = [re.match(pattern, completion) for completion in completions]\n",
    "        return [1.0 if match else 0.0 for match in matches]\n",
    "    \n",
    "    def accuracy_reward(self, completions, **kwargs):\n",
    "        \"\"\"Reward function that checks if the completion matches the ground truth.\"\"\"\n",
    "        answer = kwargs[\"answers\"]\n",
    "        completion_contents = [completion[0][\"content\"] for completion in completions]\n",
    "        rewards = []\n",
    "        for content, answer in zip(completion_contents, answer):\n",
    "            gold_parsed = parse(answer, extraction_mode=\"first_match\", extraction_config=[LatexExtractionConfig()])\n",
    "            answer_parsed = parse(content, extraction_mode=\"first_match\", extraction_config=[LatexExtractionConfig()])\n",
    "            if len(gold_parsed) != 0:\n",
    "                try:\n",
    "                    rewards.append(float(verify(answer_parsed, gold_parsed)))\n",
    "                except Exception:\n",
    "                    rewards.append(0.0)\n",
    "            else:\n",
    "                rewards.append(1.0)\n",
    "        return rewards\n",
    "\n",
    "    def configure_training(self):\n",
    "        \"\"\"Configures the training arguments for GRPOTrainer.\"\"\"\n",
    "        self.training_args = GRPOConfig(\n",
    "            output_dir=self.output_dir,\n",
    "            learning_rate=1e-5,\n",
    "            gradient_accumulation_steps=16,\n",
    "            num_train_epochs=1,\n",
    "            bf16=True,  # Ensure bf16 is supported on GPU\n",
    "            max_completion_length=64,\n",
    "            num_generations=4,\n",
    "            max_prompt_length=128,\n",
    "            report_to=[\"tensorboard\"],\n",
    "            logging_steps=10,\n",
    "            push_to_hub=False,\n",
    "            save_strategy=\"steps\",\n",
    "            save_steps=10,\n",
    "        )\n",
    "\n",
    "    def train_model(self, train_dataset):\n",
    "        \"\"\"Trains the model using GRPOTrainer.\"\"\"\n",
    "        if self.model is None or self.training_args is None:\n",
    "            raise ValueError(\"Model and training configuration must be set before training.\")\n",
    "\n",
    "        self.trainer = GRPOTrainer(\n",
    "            model=self.model,\n",
    "            reward_funcs=[self.format_reward, self.accuracy_reward],\n",
    "            args=self.training_args,\n",
    "            train_dataset=train_dataset,\n",
    "        )\n",
    "\n",
    "        print(\"Training started...\")\n",
    "        self.trainer.train()\n",
    "        print(\"Training completed!\")\n",
    "    \n",
    "    def save_trained_model(self):\n",
    "        \"\"\"Saves the trained model to the Hugging Face Hub.\"\"\"\n",
    "        self.trainer.save_model(self.training_args.output_dir)"
   ]
  },
  {
   "cell_type": "code",
   "execution_count": 136,
   "metadata": {},
   "outputs": [],
   "source": [
    "# Instantiate and set up the trainer\n",
    "trainer = CustomGRPOTrainer()\n",
    "trainer.load_model()\n",
    "trainer.configure_training()"
   ]
  },
  {
   "cell_type": "code",
   "execution_count": 137,
   "metadata": {},
   "outputs": [
    {
     "ename": "AttributeError",
     "evalue": "'Dataset' object has no attribute 'columns'",
     "output_type": "error",
     "traceback": [
      "\u001b[0;31m---------------------------------------------------------------------------\u001b[0m",
      "\u001b[0;31mAttributeError\u001b[0m                            Traceback (most recent call last)",
      "Cell \u001b[0;32mIn[137], line 1\u001b[0m\n\u001b[0;32m----> 1\u001b[0m train_dataset \u001b[38;5;241m=\u001b[39m \u001b[43mDataset\u001b[49m\u001b[38;5;241;43m.\u001b[39;49m\u001b[43mfrom_pandas\u001b[49m\u001b[43m(\u001b[49m\u001b[43mtrain_dataset\u001b[49m\u001b[43m)\u001b[49m\n\u001b[1;32m      2\u001b[0m \u001b[38;5;28mprint\u001b[39m(train_dataset)\n\u001b[1;32m      3\u001b[0m trainer\u001b[38;5;241m.\u001b[39mtrain_model(train_dataset)\n",
      "File \u001b[0;32m~/Desktop/Swathi/Univ/USC/Courses/CSCI566-DL/Project/venv/lib/python3.9/site-packages/datasets/arrow_dataset.py:841\u001b[0m, in \u001b[0;36mDataset.from_pandas\u001b[0;34m(cls, df, features, info, split, preserve_index)\u001b[0m\n\u001b[1;32m    839\u001b[0m     info \u001b[38;5;241m=\u001b[39m DatasetInfo()\n\u001b[1;32m    840\u001b[0m info\u001b[38;5;241m.\u001b[39mfeatures \u001b[38;5;241m=\u001b[39m features\n\u001b[0;32m--> 841\u001b[0m table \u001b[38;5;241m=\u001b[39m \u001b[43mInMemoryTable\u001b[49m\u001b[38;5;241;43m.\u001b[39;49m\u001b[43mfrom_pandas\u001b[49m\u001b[43m(\u001b[49m\n\u001b[1;32m    842\u001b[0m \u001b[43m    \u001b[49m\u001b[43mdf\u001b[49m\u001b[38;5;241;43m=\u001b[39;49m\u001b[43mdf\u001b[49m\u001b[43m,\u001b[49m\n\u001b[1;32m    843\u001b[0m \u001b[43m    \u001b[49m\u001b[43mpreserve_index\u001b[49m\u001b[38;5;241;43m=\u001b[39;49m\u001b[43mpreserve_index\u001b[49m\u001b[43m,\u001b[49m\n\u001b[1;32m    844\u001b[0m \u001b[43m\u001b[49m\u001b[43m)\u001b[49m\n\u001b[1;32m    845\u001b[0m \u001b[38;5;28;01mif\u001b[39;00m features \u001b[38;5;129;01mis\u001b[39;00m \u001b[38;5;129;01mnot\u001b[39;00m \u001b[38;5;28;01mNone\u001b[39;00m:\n\u001b[1;32m    846\u001b[0m     \u001b[38;5;66;03m# more expensive cast than InMemoryTable.from_pandas(..., schema=features.arrow_schema)\u001b[39;00m\n\u001b[1;32m    847\u001b[0m     \u001b[38;5;66;03m# needed to support the str to Audio conversion for instance\u001b[39;00m\n\u001b[1;32m    848\u001b[0m     table \u001b[38;5;241m=\u001b[39m table\u001b[38;5;241m.\u001b[39mcast(features\u001b[38;5;241m.\u001b[39marrow_schema)\n",
      "File \u001b[0;32m~/Desktop/Swathi/Univ/USC/Courses/CSCI566-DL/Project/venv/lib/python3.9/site-packages/datasets/table.py:720\u001b[0m, in \u001b[0;36mInMemoryTable.from_pandas\u001b[0;34m(cls, *args, **kwargs)\u001b[0m\n\u001b[1;32m    664\u001b[0m \u001b[38;5;129m@classmethod\u001b[39m\n\u001b[1;32m    665\u001b[0m \u001b[38;5;28;01mdef\u001b[39;00m\u001b[38;5;250m \u001b[39m\u001b[38;5;21mfrom_pandas\u001b[39m(\u001b[38;5;28mcls\u001b[39m, \u001b[38;5;241m*\u001b[39margs, \u001b[38;5;241m*\u001b[39m\u001b[38;5;241m*\u001b[39mkwargs):\n\u001b[1;32m    666\u001b[0m \u001b[38;5;250m    \u001b[39m\u001b[38;5;124;03m\"\"\"\u001b[39;00m\n\u001b[1;32m    667\u001b[0m \u001b[38;5;124;03m    Convert pandas.DataFrame to an Arrow Table.\u001b[39;00m\n\u001b[1;32m    668\u001b[0m \n\u001b[0;32m   (...)\u001b[0m\n\u001b[1;32m    718\u001b[0m \u001b[38;5;124;03m    ```\u001b[39;00m\n\u001b[1;32m    719\u001b[0m \u001b[38;5;124;03m    \"\"\"\u001b[39;00m\n\u001b[0;32m--> 720\u001b[0m     \u001b[38;5;28;01mreturn\u001b[39;00m \u001b[38;5;28mcls\u001b[39m(\u001b[43mpa\u001b[49m\u001b[38;5;241;43m.\u001b[39;49m\u001b[43mTable\u001b[49m\u001b[38;5;241;43m.\u001b[39;49m\u001b[43mfrom_pandas\u001b[49m\u001b[43m(\u001b[49m\u001b[38;5;241;43m*\u001b[39;49m\u001b[43margs\u001b[49m\u001b[43m,\u001b[49m\u001b[43m \u001b[49m\u001b[38;5;241;43m*\u001b[39;49m\u001b[38;5;241;43m*\u001b[39;49m\u001b[43mkwargs\u001b[49m\u001b[43m)\u001b[49m)\n",
      "File \u001b[0;32m~/Desktop/Swathi/Univ/USC/Courses/CSCI566-DL/Project/venv/lib/python3.9/site-packages/pyarrow/table.pxi:4751\u001b[0m, in \u001b[0;36mpyarrow.lib.Table.from_pandas\u001b[0;34m()\u001b[0m\n",
      "File \u001b[0;32m~/Desktop/Swathi/Univ/USC/Courses/CSCI566-DL/Project/venv/lib/python3.9/site-packages/pyarrow/pandas_compat.py:595\u001b[0m, in \u001b[0;36mdataframe_to_arrays\u001b[0;34m(df, schema, preserve_index, nthreads, columns, safe)\u001b[0m\n\u001b[1;32m    586\u001b[0m \u001b[38;5;28;01mdef\u001b[39;00m\u001b[38;5;250m \u001b[39m\u001b[38;5;21mdataframe_to_arrays\u001b[39m(df, schema, preserve_index, nthreads\u001b[38;5;241m=\u001b[39m\u001b[38;5;241m1\u001b[39m, columns\u001b[38;5;241m=\u001b[39m\u001b[38;5;28;01mNone\u001b[39;00m,\n\u001b[1;32m    587\u001b[0m                         safe\u001b[38;5;241m=\u001b[39m\u001b[38;5;28;01mTrue\u001b[39;00m):\n\u001b[1;32m    588\u001b[0m     (all_names,\n\u001b[1;32m    589\u001b[0m      column_names,\n\u001b[1;32m    590\u001b[0m      column_field_names,\n\u001b[1;32m    591\u001b[0m      index_column_names,\n\u001b[1;32m    592\u001b[0m      index_descriptors,\n\u001b[1;32m    593\u001b[0m      index_columns,\n\u001b[1;32m    594\u001b[0m      columns_to_convert,\n\u001b[0;32m--> 595\u001b[0m      convert_fields) \u001b[38;5;241m=\u001b[39m \u001b[43m_get_columns_to_convert\u001b[49m\u001b[43m(\u001b[49m\u001b[43mdf\u001b[49m\u001b[43m,\u001b[49m\u001b[43m \u001b[49m\u001b[43mschema\u001b[49m\u001b[43m,\u001b[49m\u001b[43m \u001b[49m\u001b[43mpreserve_index\u001b[49m\u001b[43m,\u001b[49m\n\u001b[1;32m    596\u001b[0m \u001b[43m                                               \u001b[49m\u001b[43mcolumns\u001b[49m\u001b[43m)\u001b[49m\n\u001b[1;32m    598\u001b[0m     \u001b[38;5;66;03m# NOTE(wesm): If nthreads=None, then we use a heuristic to decide whether\u001b[39;00m\n\u001b[1;32m    599\u001b[0m     \u001b[38;5;66;03m# using a thread pool is worth it. Currently the heuristic is whether the\u001b[39;00m\n\u001b[1;32m    600\u001b[0m     \u001b[38;5;66;03m# nrows > 100 * ncols and ncols > 1.\u001b[39;00m\n\u001b[1;32m    601\u001b[0m     \u001b[38;5;28;01mif\u001b[39;00m nthreads \u001b[38;5;129;01mis\u001b[39;00m \u001b[38;5;28;01mNone\u001b[39;00m:\n",
      "File \u001b[0;32m~/Desktop/Swathi/Univ/USC/Courses/CSCI566-DL/Project/venv/lib/python3.9/site-packages/pyarrow/pandas_compat.py:372\u001b[0m, in \u001b[0;36m_get_columns_to_convert\u001b[0;34m(df, schema, preserve_index, columns)\u001b[0m\n\u001b[1;32m    371\u001b[0m \u001b[38;5;28;01mdef\u001b[39;00m\u001b[38;5;250m \u001b[39m\u001b[38;5;21m_get_columns_to_convert\u001b[39m(df, schema, preserve_index, columns):\n\u001b[0;32m--> 372\u001b[0m     columns \u001b[38;5;241m=\u001b[39m \u001b[43m_resolve_columns_of_interest\u001b[49m\u001b[43m(\u001b[49m\u001b[43mdf\u001b[49m\u001b[43m,\u001b[49m\u001b[43m \u001b[49m\u001b[43mschema\u001b[49m\u001b[43m,\u001b[49m\u001b[43m \u001b[49m\u001b[43mcolumns\u001b[49m\u001b[43m)\u001b[49m\n\u001b[1;32m    374\u001b[0m     \u001b[38;5;28;01mif\u001b[39;00m \u001b[38;5;129;01mnot\u001b[39;00m df\u001b[38;5;241m.\u001b[39mcolumns\u001b[38;5;241m.\u001b[39mis_unique:\n\u001b[1;32m    375\u001b[0m         \u001b[38;5;28;01mraise\u001b[39;00m \u001b[38;5;167;01mValueError\u001b[39;00m(\n\u001b[1;32m    376\u001b[0m             \u001b[38;5;124m'\u001b[39m\u001b[38;5;124mDuplicate column names found: \u001b[39m\u001b[38;5;132;01m{}\u001b[39;00m\u001b[38;5;124m'\u001b[39m\u001b[38;5;241m.\u001b[39mformat(\u001b[38;5;28mlist\u001b[39m(df\u001b[38;5;241m.\u001b[39mcolumns))\n\u001b[1;32m    377\u001b[0m         )\n",
      "File \u001b[0;32m~/Desktop/Swathi/Univ/USC/Courses/CSCI566-DL/Project/venv/lib/python3.9/site-packages/pyarrow/pandas_compat.py:546\u001b[0m, in \u001b[0;36m_resolve_columns_of_interest\u001b[0;34m(df, schema, columns)\u001b[0m\n\u001b[1;32m    544\u001b[0m     columns \u001b[38;5;241m=\u001b[39m [c \u001b[38;5;28;01mfor\u001b[39;00m c \u001b[38;5;129;01min\u001b[39;00m columns \u001b[38;5;28;01mif\u001b[39;00m c \u001b[38;5;129;01min\u001b[39;00m df\u001b[38;5;241m.\u001b[39mcolumns]\n\u001b[1;32m    545\u001b[0m \u001b[38;5;28;01melse\u001b[39;00m:\n\u001b[0;32m--> 546\u001b[0m     columns \u001b[38;5;241m=\u001b[39m \u001b[43mdf\u001b[49m\u001b[38;5;241;43m.\u001b[39;49m\u001b[43mcolumns\u001b[49m\n\u001b[1;32m    548\u001b[0m \u001b[38;5;28;01mreturn\u001b[39;00m columns\n",
      "\u001b[0;31mAttributeError\u001b[0m: 'Dataset' object has no attribute 'columns'"
     ]
    }
   ],
   "source": [
    "train_dataset = Dataset.from_pandas(train_dataset)\n",
    "print(train_dataset)\n",
    "trainer.train_model(train_dataset)"
   ]
  },
  {
   "cell_type": "code",
   "execution_count": null,
   "metadata": {},
   "outputs": [],
   "source": [
    "# Save and push trained model\n",
    "trainer.save_trained_model()"
   ]
  },
  {
   "cell_type": "code",
   "execution_count": null,
   "metadata": {},
   "outputs": [],
   "source": [
    "def load_model(model_id):\n",
    "    trained_model = AutoModelForCausalLM.from_pretrained(\n",
    "        model_id,\n",
    "        torch_dtype=\"auto\",\n",
    "        device_map=\"auto\",\n",
    "    )\n",
    "    trained_tokenizer = AutoTokenizer.from_pretrained(model_id)\n",
    "\n",
    "    return {\"model\": trained_model, \"tokenizer\": trained_tokenizer}"
   ]
  },
  {
   "cell_type": "code",
   "execution_count": null,
   "metadata": {},
   "outputs": [],
   "source": [
    "def generate_with_reasoning(prompt, trained_model, trained_tokenizer):\n",
    "    # Build the prompt from the dataset\n",
    "    print(type(prompt))\n",
    "    prompt = \" \".join(entry[\"content\"] for entry in prompt)\n",
    "\n",
    "    # Tokenize and move to the same device as the model\n",
    "    inputs = trained_tokenizer(prompt, return_tensors=\"pt\").to(trained_model.device)\n",
    "\n",
    "    # Generate text without gradients\n",
    "    start_time = time.time()\n",
    "    with torch.no_grad():\n",
    "        output_ids = trained_model.generate(**inputs, max_length=500)\n",
    "    end_time = time.time()\n",
    "\n",
    "    # Decode and extract model response\n",
    "    generated_text = trained_tokenizer.decode(output_ids[0], skip_special_tokens=True)\n",
    "\n",
    "    # Get inference time\n",
    "    inference_duration = end_time - start_time\n",
    "\n",
    "    # Get number of generated tokens\n",
    "    num_input_tokens = inputs[\"input_ids\"].shape[1]\n",
    "    num_generated_tokens = output_ids.shape[1] - num_input_tokens\n",
    "\n",
    "    return generated_text, inference_duration, num_generated_tokens"
   ]
  },
  {
   "cell_type": "code",
   "execution_count": null,
   "metadata": {},
   "outputs": [
    {
     "name": "stdout",
     "output_type": "stream",
     "text": [
      "<class 'dict'>\n"
     ]
    },
    {
     "ename": "TypeError",
     "evalue": "string indices must be integers, not 'str'",
     "output_type": "error",
     "traceback": [
      "\u001b[1;31m---------------------------------------------------------------------------\u001b[0m",
      "\u001b[1;31mTypeError\u001b[0m                                 Traceback (most recent call last)",
      "Cell \u001b[1;32mIn[19], line 12\u001b[0m\n\u001b[0;32m      9\u001b[0m prompt \u001b[38;5;241m=\u001b[39m test_dataset\u001b[38;5;241m.\u001b[39miloc[\u001b[38;5;241m0\u001b[39m][\u001b[38;5;124m\"\u001b[39m\u001b[38;5;124mprompt\u001b[39m\u001b[38;5;124m\"\u001b[39m]\n\u001b[0;32m     11\u001b[0m \u001b[38;5;66;03m# Generate text with reasoning\u001b[39;00m\n\u001b[1;32m---> 12\u001b[0m response, duration, num_tokens \u001b[38;5;241m=\u001b[39m \u001b[43mgenerate_with_reasoning\u001b[49m\u001b[43m(\u001b[49m\u001b[43mprompt\u001b[49m\u001b[43m,\u001b[49m\u001b[43m \u001b[49m\u001b[43mtrained_model\u001b[49m\u001b[43m,\u001b[49m\u001b[43m \u001b[49m\u001b[43mtrained_tokenizer\u001b[49m\u001b[43m)\u001b[49m\n\u001b[0;32m     14\u001b[0m \u001b[38;5;28mprint\u001b[39m(\u001b[38;5;124m\"\u001b[39m\u001b[38;5;124mResponse:\u001b[39m\u001b[38;5;124m\"\u001b[39m, response)\n\u001b[0;32m     15\u001b[0m \u001b[38;5;28mprint\u001b[39m(\u001b[38;5;124mf\u001b[39m\u001b[38;5;124m\"\u001b[39m\u001b[38;5;124mInference duration: \u001b[39m\u001b[38;5;132;01m{\u001b[39;00mduration\u001b[38;5;132;01m:\u001b[39;00m\u001b[38;5;124m.2f\u001b[39m\u001b[38;5;132;01m}\u001b[39;00m\u001b[38;5;124m seconds\u001b[39m\u001b[38;5;124m\"\u001b[39m)\n",
      "Cell \u001b[1;32mIn[18], line 4\u001b[0m, in \u001b[0;36mgenerate_with_reasoning\u001b[1;34m(prompt, trained_model, trained_tokenizer)\u001b[0m\n\u001b[0;32m      1\u001b[0m \u001b[38;5;28;01mdef\u001b[39;00m\u001b[38;5;250m \u001b[39m\u001b[38;5;21mgenerate_with_reasoning\u001b[39m(prompt, trained_model, trained_tokenizer):\n\u001b[0;32m      2\u001b[0m     \u001b[38;5;66;03m# Build the prompt from the dataset\u001b[39;00m\n\u001b[0;32m      3\u001b[0m     \u001b[38;5;28mprint\u001b[39m(\u001b[38;5;28mtype\u001b[39m(prompt))\n\u001b[1;32m----> 4\u001b[0m     prompt \u001b[38;5;241m=\u001b[39m \u001b[38;5;124;43m\"\u001b[39;49m\u001b[38;5;124;43m \u001b[39;49m\u001b[38;5;124;43m\"\u001b[39;49m\u001b[38;5;241;43m.\u001b[39;49m\u001b[43mjoin\u001b[49m\u001b[43m(\u001b[49m\u001b[43mentry\u001b[49m\u001b[43m[\u001b[49m\u001b[38;5;124;43m\"\u001b[39;49m\u001b[38;5;124;43mcontent\u001b[39;49m\u001b[38;5;124;43m\"\u001b[39;49m\u001b[43m]\u001b[49m\u001b[43m \u001b[49m\u001b[38;5;28;43;01mfor\u001b[39;49;00m\u001b[43m \u001b[49m\u001b[43mentry\u001b[49m\u001b[43m \u001b[49m\u001b[38;5;129;43;01min\u001b[39;49;00m\u001b[43m \u001b[49m\u001b[43mprompt\u001b[49m\u001b[43m)\u001b[49m\n\u001b[0;32m      6\u001b[0m     \u001b[38;5;66;03m# Tokenize and move to the same device as the model\u001b[39;00m\n\u001b[0;32m      7\u001b[0m     inputs \u001b[38;5;241m=\u001b[39m trained_tokenizer(prompt, return_tensors\u001b[38;5;241m=\u001b[39m\u001b[38;5;124m\"\u001b[39m\u001b[38;5;124mpt\u001b[39m\u001b[38;5;124m\"\u001b[39m)\u001b[38;5;241m.\u001b[39mto(trained_model\u001b[38;5;241m.\u001b[39mdevice)\n",
      "Cell \u001b[1;32mIn[18], line 4\u001b[0m, in \u001b[0;36m<genexpr>\u001b[1;34m(.0)\u001b[0m\n\u001b[0;32m      1\u001b[0m \u001b[38;5;28;01mdef\u001b[39;00m\u001b[38;5;250m \u001b[39m\u001b[38;5;21mgenerate_with_reasoning\u001b[39m(prompt, trained_model, trained_tokenizer):\n\u001b[0;32m      2\u001b[0m     \u001b[38;5;66;03m# Build the prompt from the dataset\u001b[39;00m\n\u001b[0;32m      3\u001b[0m     \u001b[38;5;28mprint\u001b[39m(\u001b[38;5;28mtype\u001b[39m(prompt))\n\u001b[1;32m----> 4\u001b[0m     prompt \u001b[38;5;241m=\u001b[39m \u001b[38;5;124m\"\u001b[39m\u001b[38;5;124m \u001b[39m\u001b[38;5;124m\"\u001b[39m\u001b[38;5;241m.\u001b[39mjoin(\u001b[43mentry\u001b[49m\u001b[43m[\u001b[49m\u001b[38;5;124;43m\"\u001b[39;49m\u001b[38;5;124;43mcontent\u001b[39;49m\u001b[38;5;124;43m\"\u001b[39;49m\u001b[43m]\u001b[49m \u001b[38;5;28;01mfor\u001b[39;00m entry \u001b[38;5;129;01min\u001b[39;00m prompt)\n\u001b[0;32m      6\u001b[0m     \u001b[38;5;66;03m# Tokenize and move to the same device as the model\u001b[39;00m\n\u001b[0;32m      7\u001b[0m     inputs \u001b[38;5;241m=\u001b[39m trained_tokenizer(prompt, return_tensors\u001b[38;5;241m=\u001b[39m\u001b[38;5;124m\"\u001b[39m\u001b[38;5;124mpt\u001b[39m\u001b[38;5;124m\"\u001b[39m)\u001b[38;5;241m.\u001b[39mto(trained_model\u001b[38;5;241m.\u001b[39mdevice)\n",
      "\u001b[1;31mTypeError\u001b[0m: string indices must be integers, not 'str'"
     ]
    }
   ],
   "source": [
    "# Initialize and load the model\n",
    "trainer = load_model(\"Qwen/Qwen2-0.5B-Instruct\")\n",
    "\n",
    "# Set the trained model and tokenizer\n",
    "trained_model = trainer['model']\n",
    "trained_tokenizer = trainer['tokenizer']\n",
    "\n",
    "# Define a sample prompt\n",
    "prompt = test_dataset.iloc[0][\"prompt\"]\n",
    "\n",
    "# Generate text with reasoning\n",
    "response, duration, num_tokens = generate_with_reasoning(prompt, trained_model, trained_tokenizer)\n",
    "\n",
    "print(\"Response:\", response)\n",
    "print(f\"Inference duration: {duration:.2f} seconds\")\n",
    "print(f\"Generated tokens: {num_tokens}\")"
   ]
  },
  {
   "cell_type": "code",
   "execution_count": null,
   "metadata": {},
   "outputs": [],
   "source": []
  }
 ],
 "metadata": {
  "kernelspec": {
   "display_name": "venv",
   "language": "python",
   "name": "python3"
  },
  "language_info": {
   "codemirror_mode": {
    "name": "ipython",
    "version": 3
   },
   "file_extension": ".py",
   "mimetype": "text/x-python",
   "name": "python",
   "nbconvert_exporter": "python",
   "pygments_lexer": "ipython3",
   "version": "3.9.6"
  }
 },
 "nbformat": 4,
 "nbformat_minor": 2
}
