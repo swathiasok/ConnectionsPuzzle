{
 "cells": [
  {
   "cell_type": "code",
   "execution_count": 12,
   "metadata": {},
   "outputs": [],
   "source": [
    "import requests\n",
    "import random\n",
    "import pandas as pd"
   ]
  },
  {
   "cell_type": "code",
   "execution_count": 13,
   "metadata": {},
   "outputs": [],
   "source": [
    "class DataPreprocessing:\n",
    "    def __init__(self):\n",
    "        self.extracted_data = []\n",
    "    \n",
    "    def get_data(self, url):\n",
    "        response = requests.get(url)\n",
    "        return response.json()\n",
    "\n",
    "    def create_row(self, data):\n",
    "        all_words = [word for answer in data['answers'] for word in answer['members']]\n",
    "        random.shuffle(all_words)\n",
    "\n",
    "        self.extracted_data.append({\n",
    "            \"date\": data[\"date\"],\n",
    "            \"question\": \", \".join(all_words),\n",
    "            \"answers\": [answer['members'] for answer in data['answers']],\n",
    "            \"groups\": [answer['group'] for answer in data['answers']]\n",
    "        })\n",
    "    \n",
    "    def convert_to_df(self, dataset):\n",
    "        self.extracted_data = [{\n",
    "            \"date\": data[\"date\"],\n",
    "            \"question\": \", \".join(random.sample(\n",
    "                [word for answer in data['answers'] for word in answer['members']], \n",
    "                len([word for answer in data['answers'] for word in answer['members']])\n",
    "            )),\n",
    "            \"answers\": [answer['members'] for answer in data['answers']],\n",
    "            \"groups\": [answer['group'] for answer in data['answers']]\n",
    "        } for data in dataset]\n",
    "\n",
    "        return pd.DataFrame(self.extracted_data)\n",
    "    \n",
    "    def save_data(self, df, file_name):\n",
    "        df.to_csv(file_name, index=False)\n"
   ]
  },
  {
   "cell_type": "code",
   "execution_count": 14,
   "metadata": {},
   "outputs": [],
   "source": [
    "dataset_link = \"https://raw.githubusercontent.com/Eyefyre/NYT-Connections-Answers/main/connections.json\""
   ]
  },
  {
   "cell_type": "code",
   "execution_count": 15,
   "metadata": {},
   "outputs": [],
   "source": [
    "processor = DataPreprocessing()\n",
    "data = processor.get_data(dataset_link)\n",
    "df_final = processor.convert_to_df(data)\n",
    "df_final.to_csv(\"connections.csv\", index=False)"
   ]
  },
  {
   "cell_type": "code",
   "execution_count": 16,
   "metadata": {},
   "outputs": [
    {
     "data": {
      "text/html": [
       "<div>\n",
       "<style scoped>\n",
       "    .dataframe tbody tr th:only-of-type {\n",
       "        vertical-align: middle;\n",
       "    }\n",
       "\n",
       "    .dataframe tbody tr th {\n",
       "        vertical-align: top;\n",
       "    }\n",
       "\n",
       "    .dataframe thead th {\n",
       "        text-align: right;\n",
       "    }\n",
       "</style>\n",
       "<table border=\"1\" class=\"dataframe\">\n",
       "  <thead>\n",
       "    <tr style=\"text-align: right;\">\n",
       "      <th></th>\n",
       "      <th>date</th>\n",
       "      <th>question</th>\n",
       "      <th>answers</th>\n",
       "      <th>groups</th>\n",
       "    </tr>\n",
       "  </thead>\n",
       "  <tbody>\n",
       "    <tr>\n",
       "      <th>0</th>\n",
       "      <td>2023-06-12</td>\n",
       "      <td>RETURN, LEVEL, JAZZ, BUCKS, SHIFT, OPTION, HEA...</td>\n",
       "      <td>[[HAIL, RAIN, SLEET, SNOW], [BUCKS, HEAT, JAZZ...</td>\n",
       "      <td>[WET WEATHER, NBA TEAMS, KEYBOARD KEYS, PALIND...</td>\n",
       "    </tr>\n",
       "    <tr>\n",
       "      <th>1</th>\n",
       "      <td>2023-06-13</td>\n",
       "      <td>SNEAKER, MILE, US, ARE, LEAGUE, BOOT, PUMP, YA...</td>\n",
       "      <td>[[BOOT, LOAFER, PUMP, SNEAKER], [FOOT, LEAGUE,...</td>\n",
       "      <td>[FOOTWEAR, UNITS OF LENGTH, MAGAZINES, LETTER ...</td>\n",
       "    </tr>\n",
       "    <tr>\n",
       "      <th>2</th>\n",
       "      <td>2023-06-14</td>\n",
       "      <td>AMIGO, LAB, GOBBLE, PIT, KING, TENOR, CHEEK, P...</td>\n",
       "      <td>[[CHEEK, EYE, MOUTH, NOSE], [CHOW, GOBBLE, SCA...</td>\n",
       "      <td>[FACIAL FEATURES, SYNONYMS FOR EAT, DOG BREEDS...</td>\n",
       "    </tr>\n",
       "    <tr>\n",
       "      <th>3</th>\n",
       "      <td>2023-06-15</td>\n",
       "      <td>CATS, SUPER, SWEEP, MOP, ADIDAS, BAT, VACUUM, ...</td>\n",
       "      <td>[[ADIDAS, NIKE, PUMA, REEBOK], [CABARET, CAROU...</td>\n",
       "      <td>[SNEAKER BRANDS, MUSICALS BEGINNING WITH “C”, ...</td>\n",
       "    </tr>\n",
       "    <tr>\n",
       "      <th>4</th>\n",
       "      <td>2023-06-16</td>\n",
       "      <td>TARTAR, GLUM, RELISH, SCARLET, MAYO, BLUE, PLU...</td>\n",
       "      <td>[[HULU, NETFLIX, PEACOCK, PRIME], [KETCHUP, MA...</td>\n",
       "      <td>[STREAMING SERVICES, CONDIMENTS, SYNONYMS FOR ...</td>\n",
       "    </tr>\n",
       "  </tbody>\n",
       "</table>\n",
       "</div>"
      ],
      "text/plain": [
       "         date                                           question  \\\n",
       "0  2023-06-12  RETURN, LEVEL, JAZZ, BUCKS, SHIFT, OPTION, HEA...   \n",
       "1  2023-06-13  SNEAKER, MILE, US, ARE, LEAGUE, BOOT, PUMP, YA...   \n",
       "2  2023-06-14  AMIGO, LAB, GOBBLE, PIT, KING, TENOR, CHEEK, P...   \n",
       "3  2023-06-15  CATS, SUPER, SWEEP, MOP, ADIDAS, BAT, VACUUM, ...   \n",
       "4  2023-06-16  TARTAR, GLUM, RELISH, SCARLET, MAYO, BLUE, PLU...   \n",
       "\n",
       "                                             answers  \\\n",
       "0  [[HAIL, RAIN, SLEET, SNOW], [BUCKS, HEAT, JAZZ...   \n",
       "1  [[BOOT, LOAFER, PUMP, SNEAKER], [FOOT, LEAGUE,...   \n",
       "2  [[CHEEK, EYE, MOUTH, NOSE], [CHOW, GOBBLE, SCA...   \n",
       "3  [[ADIDAS, NIKE, PUMA, REEBOK], [CABARET, CAROU...   \n",
       "4  [[HULU, NETFLIX, PEACOCK, PRIME], [KETCHUP, MA...   \n",
       "\n",
       "                                              groups  \n",
       "0  [WET WEATHER, NBA TEAMS, KEYBOARD KEYS, PALIND...  \n",
       "1  [FOOTWEAR, UNITS OF LENGTH, MAGAZINES, LETTER ...  \n",
       "2  [FACIAL FEATURES, SYNONYMS FOR EAT, DOG BREEDS...  \n",
       "3  [SNEAKER BRANDS, MUSICALS BEGINNING WITH “C”, ...  \n",
       "4  [STREAMING SERVICES, CONDIMENTS, SYNONYMS FOR ...  "
      ]
     },
     "execution_count": 16,
     "metadata": {},
     "output_type": "execute_result"
    }
   ],
   "source": [
    "df_final.head()"
   ]
  }
 ],
 "metadata": {
  "kernelspec": {
   "display_name": "venv",
   "language": "python",
   "name": "python3"
  },
  "language_info": {
   "codemirror_mode": {
    "name": "ipython",
    "version": 3
   },
   "file_extension": ".py",
   "mimetype": "text/x-python",
   "name": "python",
   "nbconvert_exporter": "python",
   "pygments_lexer": "ipython3",
   "version": "3.9.6"
  }
 },
 "nbformat": 4,
 "nbformat_minor": 2
}
